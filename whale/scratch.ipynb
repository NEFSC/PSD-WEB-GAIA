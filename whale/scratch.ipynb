{
 "cells": [
  {
   "cell_type": "code",
   "execution_count": 2,
   "id": "cc656231-fe9c-4021-b4ce-91a05c886172",
   "metadata": {},
   "outputs": [],
   "source": [
    "import sys\n",
    "import subprocess\n",
    "from glob import glob\n",
    "from osgeo import gdal\n",
    "from osgeo_utils.gdal_pansharpen import gdal_pansharpen"
   ]
  },
  {
   "cell_type": "code",
   "execution_count": 13,
   "id": "83ceeffa-8b6f-4e0b-848d-a50fac4e78dc",
   "metadata": {},
   "outputs": [
    {
     "data": {
      "text/plain": [
       "['../../data\\\\WV320240822153922M00\\\\24AUG22153922-M1BS-508803664040_02_P001\\\\24AUG22153922-M1BS-508803664040_02_P001.TIF',\n",
       " '../../data\\\\WV320240822153922M00\\\\24AUG22153922-M1BS-508803664040_02_P001\\\\calibrated\\\\24AUG22153922-M1BS-508803664040_02_P001_u08mr32619.tif',\n",
       " '../../data\\\\WV320240822153922P00\\\\24AUG22153922-P1BS-508803664040_02_P001\\\\24AUG22153922-P1BS-508803664040_02_P001.TIF',\n",
       " '../../data\\\\WV320240822153922P00\\\\24AUG22153922-P1BS-508803664040_02_P001\\\\calibrated\\\\24AUG22153922-P1BS-508803664040_02_P001_u08mr32619.tif']"
      ]
     },
     "execution_count": 13,
     "metadata": {},
     "output_type": "execute_result"
    }
   ],
   "source": [
    "geotiffs = glob(\"../../data/**/*.tif\", recursive=True)\n",
    "geotiffs"
   ]
  },
  {
   "cell_type": "code",
   "execution_count": 16,
   "id": "bf462707-c355-48fb-afe1-c93c63e26cab",
   "metadata": {},
   "outputs": [
    {
     "name": "stdout",
     "output_type": "stream",
     "text": [
      "Your 1 calibrated panchromatic image(s) are: ['../../data\\\\WV320240822153922P00\\\\24AUG22153922-P1BS-508803664040_02_P001\\\\calibrated\\\\24AUG22153922-P1BS-508803664040_02_P001_u08mr32619.tif']\n"
     ]
    }
   ],
   "source": [
    "calibrated_geotiffs = [geotiff for geotiff in geotiffs if 'calibrated' in geotiff]\n",
    "calibrated_panchromatic_images = [calibrated_geotiff for calibrated_geotiff in calibrated_geotiffs if 'P1BS' in calibrated_geotiff]\n",
    "print(f\"Your {len(calibrated_panchromatic_images)} calibrated panchromatic image(s) are: {calibrated_panchromatic_images}\")"
   ]
  },
  {
   "cell_type": "code",
   "execution_count": 17,
   "id": "66b60063-fa3f-448d-903c-8aad3e6902c4",
   "metadata": {},
   "outputs": [
    {
     "name": "stdout",
     "output_type": "stream",
     "text": [
      "['../../data\\\\WV320240822153922M00\\\\24AUG22153922-M1BS-508803664040_02_P001\\\\calibrated\\\\24AUG22153922-M1BS-508803664040_02_P001_u08mr32619.tif']\n"
     ]
    }
   ],
   "source": [
    "for pantiff in calibrated_panchromatic_images:\n",
    "    panfile = pantiff.split('\\\\')[-1]\n",
    "    multifile = panfile.replace('P1BS', 'M1BS')\n",
    "    multitiff = [geotiff for geotiff in geotiffs if multifile in geotiff]\n",
    "    print(multitiff)"
   ]
  },
  {
   "cell_type": "code",
   "execution_count": 12,
   "id": "2b53d68b-4c12-4ad0-a13b-fda73bd52747",
   "metadata": {},
   "outputs": [
    {
     "name": "stdout",
     "output_type": "stream",
     "text": [
      "Pansharpened ../../data/24AUG22153922-S1BS-508803664040_02_P001_u08mr32619.tif!\n"
     ]
    }
   ],
   "source": [
    "for pantiff in calibrated_panchromatic_images:\n",
    "    msitiff = pantiff.replace('P1BS', 'M1BS')\n",
    "    shrptiff = '../../data/' + pantiff.split('\\\\')[-1].replace('P1BS', 'S1BS')\n",
    "    gdal_pansharpen(['' ,'-b', '5', '-b', '3', '-b', '2', '-r', 'cubic', '-threads', 'ALL_CPUS', pantiff, msitiff, shrptiff])\n",
    "    print(\"Pansharpened {}!\".format(shrptiff))"
   ]
  },
  {
   "cell_type": "code",
   "execution_count": 11,
   "id": "120b7777-88e2-4515-a6ba-4b36a97f30a5",
   "metadata": {},
   "outputs": [
    {
     "data": {
      "text/plain": [
       "['C:/gis/apps/data/WV320240822153924M00\\\\24AUG22153924-M1BS-508803664040_02_P002\\\\24AUG22153924-M1BS-508803664040_02_P002.NTF']"
      ]
     },
     "execution_count": 11,
     "metadata": {},
     "output_type": "execute_result"
    }
   ],
   "source": []
  },
  {
   "cell_type": "code",
   "execution_count": null,
   "id": "fb1a0594-c972-455c-99ca-f651db0376f5",
   "metadata": {},
   "outputs": [],
   "source": [
    "ultratiff = 'G:/data/imagery/pipeline/21APR24154014-S1BS-506967348010_01_P001_u08mr32619.tif'\n",
    "tile_dir = 'G:/data/imagery/tiles/21APR24154014-S1BS-506967348010_01_P001_u08mr32619/'\n",
    "\n",
    "subprocess.run([sys.executable, 'C:/Users/jeffrey.wyman/AppData/Local/anaconda3/envs/gaia/Scripts/gdal2tiles.py',\n",
    "                '-r', 'cubic', '-z', '4-', '--processes=3', '-w', 'none',\n",
    "                ultratiff, tile_dir])\n",
    "print(\"Tiled {}!\".format(tile_dir))"
   ]
  },
  {
   "cell_type": "code",
   "execution_count": null,
   "id": "d9a123b6-8ab8-4a39-8b1d-fa04535f0425",
   "metadata": {},
   "outputs": [],
   "source": [
    "C:/Users/jeffrey.wyman/AppData/Local/anaconda3/envs/gaia/Scripts/gdal2tiles.py"
   ]
  }
 ],
 "metadata": {
  "kernelspec": {
   "display_name": "Python [conda env:gaia] *",
   "language": "python",
   "name": "conda-env-gaia-py"
  },
  "language_info": {
   "codemirror_mode": {
    "name": "ipython",
    "version": 3
   },
   "file_extension": ".py",
   "mimetype": "text/x-python",
   "name": "python",
   "nbconvert_exporter": "python",
   "pygments_lexer": "ipython3",
   "version": "3.11.6"
  }
 },
 "nbformat": 4,
 "nbformat_minor": 5
}
