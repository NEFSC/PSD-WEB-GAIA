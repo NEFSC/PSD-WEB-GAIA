{
 "cells": [
  {
   "cell_type": "code",
   "execution_count": 1,
   "id": "cc656231-fe9c-4021-b4ce-91a05c886172",
   "metadata": {},
   "outputs": [],
   "source": [
    "import os\n",
    "import sys\n",
    "import subprocess\n",
    "from glob import glob\n",
    "from osgeo import gdal\n",
    "from osgeo_utils.gdal_pansharpen import gdal_pansharpen"
   ]
  },
  {
   "cell_type": "code",
   "execution_count": 2,
   "id": "806f7b59-5cf4-47dd-ac44-43da94d61c28",
   "metadata": {},
   "outputs": [],
   "source": [
    "data_dir = \"C:/gis/apps/data\""
   ]
  },
  {
   "cell_type": "code",
   "execution_count": 3,
   "id": "0df2bb63-c75a-4016-899e-5fb8aa1ae9d1",
   "metadata": {},
   "outputs": [],
   "source": [
    "def calibrate_image(tiff):\n",
    "    \"\"\" Calibrates a given Maxar 1B image using the Polar Geospatial Center (PGC) method\n",
    "             (see references). Georeferences the images to the nearest UTM zone, applies\n",
    "             no stretch to the image, outputs to GeoTIFF format, the image will be\n",
    "             16-bit Unsigned Integer, and resampled using cubic convolution.\n",
    "    \n",
    "        Ref: https://www.pgc.umn.edu/guides/pgc-coding-and-utilities/using-pgc-github-orthorectification/\n",
    "        Ref: https://github.com/PolarGeospatialCenter/imagery_utils/blob/main/doc/pgc_ortho.txt\n",
    "    \"\"\"\n",
    "    dir_path = os.path.dirname(os.path.realpath(tiff))\n",
    "    dir_path_new = os.path.join(dir_path, 'calibrated\\\\')\n",
    "    print(dir_path_new)\n",
    "    if not os.path.exists(dir_path_new):\n",
    "        os.makedirs(dir_path_new)\n",
    "\n",
    "    # Check -c ns versus mr. Lauren might be processing only three bands.\n",
    "    subprocess.run([sys.executable, 'C:/gis/apps/libs/imagery_utils/pgc_ortho.py', '-p', 'utm',\n",
    "                    '-c', 'mr', '-f', 'GTiff', '-t', 'Byte', '--resample=cubic',\n",
    "                    dir_path, dir_path_new])\n",
    "    try:\n",
    "        img_out = glob(dir_path_new + \"/*.tif\")[0]\n",
    "        print(img_out)\n",
    "        return img_out\n",
    "    except:\n",
    "        print(\"Failed on: {}\".format(tiff))\n",
    "        pass"
   ]
  },
  {
   "cell_type": "code",
   "execution_count": 4,
   "id": "2f036b9e-9811-4e48-a2f5-c5a9c1a680c1",
   "metadata": {},
   "outputs": [
    {
     "data": {
      "text/plain": [
       "['C:/gis/apps/data\\\\multispectral\\\\21APR24154029-M1BS-506967347100_01_P001\\\\21APR24154029-M1BS-506967347100_01_P001.TIF',\n",
       " 'C:/gis/apps/data\\\\multispectral\\\\21APR24154030-M1BS-506967347100_01_P002\\\\21APR24154030-M1BS-506967347100_01_P002.TIF',\n",
       " 'C:/gis/apps/data\\\\multispectral\\\\21APR24154031-M1BS-506967347100_01_P003\\\\21APR24154031-M1BS-506967347100_01_P003.TIF',\n",
       " 'C:/gis/apps/data\\\\multispectral\\\\21APR24154032-M1BS-506967347100_01_P004\\\\21APR24154032-M1BS-506967347100_01_P004.TIF',\n",
       " 'C:/gis/apps/data\\\\multispectral\\\\21APR24154033-M1BS-506967347100_01_P005\\\\21APR24154033-M1BS-506967347100_01_P005.TIF',\n",
       " 'C:/gis/apps/data\\\\multispectral\\\\21APR24154033-M1BS-506967347100_01_P006\\\\21APR24154033-M1BS-506967347100_01_P006.TIF',\n",
       " 'C:/gis/apps/data\\\\multispectral\\\\21APR24154040-M1BS-506967344060_01_P001\\\\21APR24154040-M1BS-506967344060_01_P001.TIF',\n",
       " 'C:/gis/apps/data\\\\multispectral\\\\21APR24154041-M1BS-506967344060_01_P002\\\\21APR24154041-M1BS-506967344060_01_P002.TIF',\n",
       " 'C:/gis/apps/data\\\\multispectral\\\\21APR24154042-M1BS-506967344060_01_P003\\\\21APR24154042-M1BS-506967344060_01_P003.TIF',\n",
       " 'C:/gis/apps/data\\\\multispectral\\\\21APR24154043-M1BS-506967344060_01_P004\\\\21APR24154043-M1BS-506967344060_01_P004.TIF',\n",
       " 'C:/gis/apps/data\\\\multispectral\\\\21APR24154044-M1BS-506967344060_01_P005\\\\21APR24154044-M1BS-506967344060_01_P005.TIF',\n",
       " 'C:/gis/apps/data\\\\multispectral\\\\21APR24154045-M1BS-506967344060_01_P006\\\\21APR24154045-M1BS-506967344060_01_P006.TIF',\n",
       " 'C:/gis/apps/data\\\\panchromatic\\\\21APR24154029-P1BS-506967347100_01_P001\\\\21APR24154029-P1BS-506967347100_01_P001.TIF',\n",
       " 'C:/gis/apps/data\\\\panchromatic\\\\21APR24154030-P1BS-506967347100_01_P002\\\\21APR24154030-P1BS-506967347100_01_P002.TIF',\n",
       " 'C:/gis/apps/data\\\\panchromatic\\\\21APR24154031-P1BS-506967347100_01_P003\\\\21APR24154031-P1BS-506967347100_01_P003.TIF',\n",
       " 'C:/gis/apps/data\\\\panchromatic\\\\21APR24154032-P1BS-506967347100_01_P004\\\\21APR24154032-P1BS-506967347100_01_P004.TIF',\n",
       " 'C:/gis/apps/data\\\\panchromatic\\\\21APR24154033-P1BS-506967347100_01_P005\\\\21APR24154033-P1BS-506967347100_01_P005.TIF',\n",
       " 'C:/gis/apps/data\\\\panchromatic\\\\21APR24154033-P1BS-506967347100_01_P006\\\\21APR24154033-P1BS-506967347100_01_P006.TIF',\n",
       " 'C:/gis/apps/data\\\\panchromatic\\\\21APR24154040-P1BS-506967344060_01_P001\\\\21APR24154040-P1BS-506967344060_01_P001.TIF',\n",
       " 'C:/gis/apps/data\\\\panchromatic\\\\21APR24154041-P1BS-506967344060_01_P002\\\\21APR24154041-P1BS-506967344060_01_P002.TIF',\n",
       " 'C:/gis/apps/data\\\\panchromatic\\\\21APR24154042-P1BS-506967344060_01_P003\\\\21APR24154042-P1BS-506967344060_01_P003.TIF',\n",
       " 'C:/gis/apps/data\\\\panchromatic\\\\21APR24154043-P1BS-506967344060_01_P004\\\\21APR24154043-P1BS-506967344060_01_P004.TIF',\n",
       " 'C:/gis/apps/data\\\\panchromatic\\\\21APR24154044-P1BS-506967344060_01_P005\\\\21APR24154044-P1BS-506967344060_01_P005.TIF',\n",
       " 'C:/gis/apps/data\\\\panchromatic\\\\21APR24154045-P1BS-506967344060_01_P006\\\\21APR24154045-P1BS-506967344060_01_P006.TIF']"
      ]
     },
     "execution_count": 4,
     "metadata": {},
     "output_type": "execute_result"
    }
   ],
   "source": [
    "imgs = glob(data_dir + \"/**/*.tif\", recursive = True)\n",
    "imgs"
   ]
  },
  {
   "cell_type": "code",
   "execution_count": 5,
   "id": "0cf3d6b5-4283-4595-9201-0f8d565aa7b7",
   "metadata": {},
   "outputs": [
    {
     "name": "stdout",
     "output_type": "stream",
     "text": [
      "C:\\gis\\apps\\data\\multispectral\\21APR24154029-M1BS-506967347100_01_P001\\calibrated\\\n",
      "C:\\gis\\apps\\data\\multispectral\\21APR24154029-M1BS-506967347100_01_P001\\calibrated\\21APR24154029-M1BS-506967347100_01_P001_u08mr32619.tif\n",
      "C:\\gis\\apps\\data\\multispectral\\21APR24154030-M1BS-506967347100_01_P002\\calibrated\\\n",
      "C:\\gis\\apps\\data\\multispectral\\21APR24154030-M1BS-506967347100_01_P002\\calibrated\\21APR24154030-M1BS-506967347100_01_P002_u08mr32619.tif\n",
      "C:\\gis\\apps\\data\\multispectral\\21APR24154031-M1BS-506967347100_01_P003\\calibrated\\\n",
      "C:\\gis\\apps\\data\\multispectral\\21APR24154031-M1BS-506967347100_01_P003\\calibrated\\21APR24154031-M1BS-506967347100_01_P003_u08mr32619.tif\n",
      "C:\\gis\\apps\\data\\multispectral\\21APR24154032-M1BS-506967347100_01_P004\\calibrated\\\n",
      "C:\\gis\\apps\\data\\multispectral\\21APR24154032-M1BS-506967347100_01_P004\\calibrated\\21APR24154032-M1BS-506967347100_01_P004_u08mr32619.tif\n",
      "C:\\gis\\apps\\data\\multispectral\\21APR24154033-M1BS-506967347100_01_P005\\calibrated\\\n",
      "C:\\gis\\apps\\data\\multispectral\\21APR24154033-M1BS-506967347100_01_P005\\calibrated\\21APR24154033-M1BS-506967347100_01_P005_u08mr32619.tif\n",
      "C:\\gis\\apps\\data\\multispectral\\21APR24154033-M1BS-506967347100_01_P006\\calibrated\\\n",
      "C:\\gis\\apps\\data\\multispectral\\21APR24154033-M1BS-506967347100_01_P006\\calibrated\\21APR24154033-M1BS-506967347100_01_P006_u08mr32619.tif\n",
      "C:\\gis\\apps\\data\\multispectral\\21APR24154040-M1BS-506967344060_01_P001\\calibrated\\\n",
      "C:\\gis\\apps\\data\\multispectral\\21APR24154040-M1BS-506967344060_01_P001\\calibrated\\21APR24154040-M1BS-506967344060_01_P001_u08mr32619.tif\n",
      "C:\\gis\\apps\\data\\multispectral\\21APR24154041-M1BS-506967344060_01_P002\\calibrated\\\n",
      "C:\\gis\\apps\\data\\multispectral\\21APR24154041-M1BS-506967344060_01_P002\\calibrated\\21APR24154041-M1BS-506967344060_01_P002_u08mr32619.tif\n",
      "C:\\gis\\apps\\data\\multispectral\\21APR24154042-M1BS-506967344060_01_P003\\calibrated\\\n",
      "C:\\gis\\apps\\data\\multispectral\\21APR24154042-M1BS-506967344060_01_P003\\calibrated\\21APR24154042-M1BS-506967344060_01_P003_u08mr32619.tif\n",
      "C:\\gis\\apps\\data\\multispectral\\21APR24154043-M1BS-506967344060_01_P004\\calibrated\\\n",
      "C:\\gis\\apps\\data\\multispectral\\21APR24154043-M1BS-506967344060_01_P004\\calibrated\\21APR24154043-M1BS-506967344060_01_P004_u08mr32619.tif\n",
      "C:\\gis\\apps\\data\\multispectral\\21APR24154044-M1BS-506967344060_01_P005\\calibrated\\\n",
      "C:\\gis\\apps\\data\\multispectral\\21APR24154044-M1BS-506967344060_01_P005\\calibrated\\21APR24154044-M1BS-506967344060_01_P005_u08mr32619.tif\n",
      "C:\\gis\\apps\\data\\multispectral\\21APR24154045-M1BS-506967344060_01_P006\\calibrated\\\n",
      "C:\\gis\\apps\\data\\multispectral\\21APR24154045-M1BS-506967344060_01_P006\\calibrated\\21APR24154045-M1BS-506967344060_01_P006_u08mr32619.tif\n",
      "C:\\gis\\apps\\data\\panchromatic\\21APR24154029-P1BS-506967347100_01_P001\\calibrated\\\n",
      "C:\\gis\\apps\\data\\panchromatic\\21APR24154029-P1BS-506967347100_01_P001\\calibrated\\21APR24154029-P1BS-506967347100_01_P001_u08mr32619.tif\n",
      "C:\\gis\\apps\\data\\panchromatic\\21APR24154030-P1BS-506967347100_01_P002\\calibrated\\\n",
      "C:\\gis\\apps\\data\\panchromatic\\21APR24154030-P1BS-506967347100_01_P002\\calibrated\\21APR24154030-P1BS-506967347100_01_P002_u08mr32619.tif\n",
      "C:\\gis\\apps\\data\\panchromatic\\21APR24154031-P1BS-506967347100_01_P003\\calibrated\\\n",
      "C:\\gis\\apps\\data\\panchromatic\\21APR24154031-P1BS-506967347100_01_P003\\calibrated\\21APR24154031-P1BS-506967347100_01_P003_u08mr32619.tif\n",
      "C:\\gis\\apps\\data\\panchromatic\\21APR24154032-P1BS-506967347100_01_P004\\calibrated\\\n",
      "C:\\gis\\apps\\data\\panchromatic\\21APR24154032-P1BS-506967347100_01_P004\\calibrated\\21APR24154032-P1BS-506967347100_01_P004_u08mr32619.tif\n",
      "C:\\gis\\apps\\data\\panchromatic\\21APR24154033-P1BS-506967347100_01_P005\\calibrated\\\n",
      "C:\\gis\\apps\\data\\panchromatic\\21APR24154033-P1BS-506967347100_01_P005\\calibrated\\21APR24154033-P1BS-506967347100_01_P005_u08mr32619.tif\n",
      "C:\\gis\\apps\\data\\panchromatic\\21APR24154033-P1BS-506967347100_01_P006\\calibrated\\\n",
      "C:\\gis\\apps\\data\\panchromatic\\21APR24154033-P1BS-506967347100_01_P006\\calibrated\\21APR24154033-P1BS-506967347100_01_P006_u08mr32619.tif\n",
      "C:\\gis\\apps\\data\\panchromatic\\21APR24154040-P1BS-506967344060_01_P001\\calibrated\\\n",
      "C:\\gis\\apps\\data\\panchromatic\\21APR24154040-P1BS-506967344060_01_P001\\calibrated\\21APR24154040-P1BS-506967344060_01_P001_u08mr32619.tif\n",
      "C:\\gis\\apps\\data\\panchromatic\\21APR24154041-P1BS-506967344060_01_P002\\calibrated\\\n",
      "C:\\gis\\apps\\data\\panchromatic\\21APR24154041-P1BS-506967344060_01_P002\\calibrated\\21APR24154041-P1BS-506967344060_01_P002_u08mr32619.tif\n",
      "C:\\gis\\apps\\data\\panchromatic\\21APR24154042-P1BS-506967344060_01_P003\\calibrated\\\n",
      "C:\\gis\\apps\\data\\panchromatic\\21APR24154042-P1BS-506967344060_01_P003\\calibrated\\21APR24154042-P1BS-506967344060_01_P003_u08mr32619.tif\n",
      "C:\\gis\\apps\\data\\panchromatic\\21APR24154043-P1BS-506967344060_01_P004\\calibrated\\\n",
      "C:\\gis\\apps\\data\\panchromatic\\21APR24154043-P1BS-506967344060_01_P004\\calibrated\\21APR24154043-P1BS-506967344060_01_P004_u08mr32619.tif\n",
      "C:\\gis\\apps\\data\\panchromatic\\21APR24154044-P1BS-506967344060_01_P005\\calibrated\\\n",
      "C:\\gis\\apps\\data\\panchromatic\\21APR24154044-P1BS-506967344060_01_P005\\calibrated\\21APR24154044-P1BS-506967344060_01_P005_u08mr32619.tif\n",
      "C:\\gis\\apps\\data\\panchromatic\\21APR24154045-P1BS-506967344060_01_P006\\calibrated\\\n",
      "C:\\gis\\apps\\data\\panchromatic\\21APR24154045-P1BS-506967344060_01_P006\\calibrated\\21APR24154045-P1BS-506967344060_01_P006_u08mr32619.tif\n"
     ]
    }
   ],
   "source": [
    "calibrated_images = [calibrate_image(img) for img in imgs]"
   ]
  },
  {
   "cell_type": "code",
   "execution_count": 6,
   "id": "112d71e3-a9a9-438e-bb34-b74aacbc832c",
   "metadata": {},
   "outputs": [
    {
     "name": "stdout",
     "output_type": "stream",
     "text": [
      "Your 12 calibrated panchromatic image(s) are: ['C:\\\\gis\\\\apps\\\\data\\\\panchromatic\\\\21APR24154029-P1BS-506967347100_01_P001\\\\calibrated\\\\21APR24154029-P1BS-506967347100_01_P001_u08mr32619.tif', 'C:\\\\gis\\\\apps\\\\data\\\\panchromatic\\\\21APR24154030-P1BS-506967347100_01_P002\\\\calibrated\\\\21APR24154030-P1BS-506967347100_01_P002_u08mr32619.tif', 'C:\\\\gis\\\\apps\\\\data\\\\panchromatic\\\\21APR24154031-P1BS-506967347100_01_P003\\\\calibrated\\\\21APR24154031-P1BS-506967347100_01_P003_u08mr32619.tif', 'C:\\\\gis\\\\apps\\\\data\\\\panchromatic\\\\21APR24154032-P1BS-506967347100_01_P004\\\\calibrated\\\\21APR24154032-P1BS-506967347100_01_P004_u08mr32619.tif', 'C:\\\\gis\\\\apps\\\\data\\\\panchromatic\\\\21APR24154033-P1BS-506967347100_01_P005\\\\calibrated\\\\21APR24154033-P1BS-506967347100_01_P005_u08mr32619.tif', 'C:\\\\gis\\\\apps\\\\data\\\\panchromatic\\\\21APR24154033-P1BS-506967347100_01_P006\\\\calibrated\\\\21APR24154033-P1BS-506967347100_01_P006_u08mr32619.tif', 'C:\\\\gis\\\\apps\\\\data\\\\panchromatic\\\\21APR24154040-P1BS-506967344060_01_P001\\\\calibrated\\\\21APR24154040-P1BS-506967344060_01_P001_u08mr32619.tif', 'C:\\\\gis\\\\apps\\\\data\\\\panchromatic\\\\21APR24154041-P1BS-506967344060_01_P002\\\\calibrated\\\\21APR24154041-P1BS-506967344060_01_P002_u08mr32619.tif', 'C:\\\\gis\\\\apps\\\\data\\\\panchromatic\\\\21APR24154042-P1BS-506967344060_01_P003\\\\calibrated\\\\21APR24154042-P1BS-506967344060_01_P003_u08mr32619.tif', 'C:\\\\gis\\\\apps\\\\data\\\\panchromatic\\\\21APR24154043-P1BS-506967344060_01_P004\\\\calibrated\\\\21APR24154043-P1BS-506967344060_01_P004_u08mr32619.tif', 'C:\\\\gis\\\\apps\\\\data\\\\panchromatic\\\\21APR24154044-P1BS-506967344060_01_P005\\\\calibrated\\\\21APR24154044-P1BS-506967344060_01_P005_u08mr32619.tif', 'C:\\\\gis\\\\apps\\\\data\\\\panchromatic\\\\21APR24154045-P1BS-506967344060_01_P006\\\\calibrated\\\\21APR24154045-P1BS-506967344060_01_P006_u08mr32619.tif']\n"
     ]
    }
   ],
   "source": [
    "calibrated_geotiffs = [geotiff for geotiff in calibrated_images if 'calibrated' in geotiff]\n",
    "calibrated_panchromatic_images = [calibrated_geotiff for calibrated_geotiff in calibrated_geotiffs if 'P1BS' in calibrated_geotiff]\n",
    "print(f\"Your {len(calibrated_panchromatic_images)} calibrated panchromatic image(s) are: {calibrated_panchromatic_images}\")"
   ]
  },
  {
   "cell_type": "code",
   "execution_count": 8,
   "id": "03ea6cd5-4fde-4087-b039-1a59742a8f4f",
   "metadata": {},
   "outputs": [
    {
     "name": "stdout",
     "output_type": "stream",
     "text": [
      "Pansharpened C:/gis/apps/data/21APR24154029-S1BS-506967347100_01_P001_u08mr32619.tif!\n",
      "Pansharpened C:/gis/apps/data/21APR24154030-S1BS-506967347100_01_P002_u08mr32619.tif!\n",
      "Pansharpened C:/gis/apps/data/21APR24154031-S1BS-506967347100_01_P003_u08mr32619.tif!\n",
      "Pansharpened C:/gis/apps/data/21APR24154032-S1BS-506967347100_01_P004_u08mr32619.tif!\n",
      "Pansharpened C:/gis/apps/data/21APR24154033-S1BS-506967347100_01_P005_u08mr32619.tif!\n",
      "Pansharpened C:/gis/apps/data/21APR24154033-S1BS-506967347100_01_P006_u08mr32619.tif!\n",
      "Pansharpened C:/gis/apps/data/21APR24154040-S1BS-506967344060_01_P001_u08mr32619.tif!\n",
      "Pansharpened C:/gis/apps/data/21APR24154041-S1BS-506967344060_01_P002_u08mr32619.tif!\n",
      "Pansharpened C:/gis/apps/data/21APR24154042-S1BS-506967344060_01_P003_u08mr32619.tif!\n",
      "Pansharpened C:/gis/apps/data/21APR24154043-S1BS-506967344060_01_P004_u08mr32619.tif!\n",
      "Pansharpened C:/gis/apps/data/21APR24154044-S1BS-506967344060_01_P005_u08mr32619.tif!\n",
      "Pansharpened C:/gis/apps/data/21APR24154045-S1BS-506967344060_01_P006_u08mr32619.tif!\n"
     ]
    }
   ],
   "source": [
    "for pantiff in calibrated_panchromatic_images:\n",
    "    msitiff = pantiff.replace('P1BS', 'M1BS').replace('panchromatic', 'multispectral')\n",
    "    shrptiff = data_dir + \"/\" + pantiff.split('\\\\')[-1].replace('P1BS', 'S1BS')\n",
    "    gdal_pansharpen(['' ,'-b', '5', '-b', '3', '-b', '2', '-r', 'cubic', '-threads', 'ALL_CPUS', pantiff, msitiff, shrptiff])\n",
    "    print(\"Pansharpened {}!\".format(shrptiff))"
   ]
  },
  {
   "cell_type": "code",
   "execution_count": 10,
   "id": "bc337705-16e1-462c-b99c-3d6a4075151c",
   "metadata": {},
   "outputs": [
    {
     "data": {
      "text/plain": [
       "['C:/gis/apps/data\\\\21APR24154029-S1BS-506967347100_01_P001_u08mr32619.tif',\n",
       " 'C:/gis/apps/data\\\\21APR24154030-S1BS-506967347100_01_P002_u08mr32619.tif',\n",
       " 'C:/gis/apps/data\\\\21APR24154031-S1BS-506967347100_01_P003_u08mr32619.tif',\n",
       " 'C:/gis/apps/data\\\\21APR24154032-S1BS-506967347100_01_P004_u08mr32619.tif',\n",
       " 'C:/gis/apps/data\\\\21APR24154033-S1BS-506967347100_01_P005_u08mr32619.tif',\n",
       " 'C:/gis/apps/data\\\\21APR24154033-S1BS-506967347100_01_P006_u08mr32619.tif',\n",
       " 'C:/gis/apps/data\\\\21APR24154040-S1BS-506967344060_01_P001_u08mr32619.tif',\n",
       " 'C:/gis/apps/data\\\\21APR24154041-S1BS-506967344060_01_P002_u08mr32619.tif',\n",
       " 'C:/gis/apps/data\\\\21APR24154042-S1BS-506967344060_01_P003_u08mr32619.tif',\n",
       " 'C:/gis/apps/data\\\\21APR24154043-S1BS-506967344060_01_P004_u08mr32619.tif',\n",
       " 'C:/gis/apps/data\\\\21APR24154044-S1BS-506967344060_01_P005_u08mr32619.tif',\n",
       " 'C:/gis/apps/data\\\\21APR24154045-S1BS-506967344060_01_P006_u08mr32619.tif']"
      ]
     },
     "execution_count": 10,
     "metadata": {},
     "output_type": "execute_result"
    }
   ],
   "source": [
    "imgs = glob(data_dir + \"/**/*S1BS*.tif\", recursive = True)\n",
    "imgs"
   ]
  },
  {
   "cell_type": "code",
   "execution_count": 11,
   "id": "eee27478-1ab9-4d10-a42d-3893723da6cf",
   "metadata": {},
   "outputs": [],
   "source": [
    "for img in imgs:\n",
    "    rio_img = img.split('.')[0] + '_1.tif'\n",
    "    \n",
    "    subprocess.run(['rio', 'cogeo', 'create', '--zoom-level', '20',\n",
    "                    '--overview-resampling', 'cubic', '-w',\n",
    "                    img, rio_img])\n",
    "\n",
    "    # subprocess.run(['gdal_translate', '-of', 'VRT', '-ot', 'Byte', '-scale',\n",
    "    #                 rio_img, 'temp.vrt'])\n",
    "\n",
    "    # out_dir = rio_img.replace('.tif', '/')\n",
    "    # subprocess.run([sys.executable,\n",
    "    #                 'C:/Users/john.wall/AppData/Local/anaconda3/envs/gaia/Scripts/gdal2tiles.py',\n",
    "    #                 '-z', '10-19', '--processes=5', 'temp.vrt', out_dir])"
   ]
  }
 ],
 "metadata": {
  "kernelspec": {
   "display_name": "Python [conda env:gaia] *",
   "language": "python",
   "name": "conda-env-gaia-py"
  },
  "language_info": {
   "codemirror_mode": {
    "name": "ipython",
    "version": 3
   },
   "file_extension": ".py",
   "mimetype": "text/x-python",
   "name": "python",
   "nbconvert_exporter": "python",
   "pygments_lexer": "ipython3",
   "version": "3.11.6"
  }
 },
 "nbformat": 4,
 "nbformat_minor": 5
}
