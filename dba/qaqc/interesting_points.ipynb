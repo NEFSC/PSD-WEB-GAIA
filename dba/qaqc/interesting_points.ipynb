{
 "cells": [
  {
   "cell_type": "markdown",
   "id": "29c1bdf1-bc8a-4ec2-be3f-09ced48e55ef",
   "metadata": {},
   "source": [
    "# Interesting Points\n",
    "This notebook reivews the ability to generate interesting points from processed imagery\n",
    "\n",
    "### Import some libraries, configure Django"
   ]
  },
  {
   "cell_type": "code",
   "execution_count": null,
   "id": "3b3fa44b-9ffe-48e2-935a-c14458c9ecc7",
   "metadata": {},
   "outputs": [],
   "source": [
    "import os\n",
    "import django\n",
    "import pandas as pd\n",
    "from glob import glob\n",
    "from time import time\n",
    "import geopandas as gpd\n",
    "import subprocess\n",
    "from shapely.wkt import loads\n",
    "\n",
    "import sys; sys.path.append('../../')\n",
    "os.environ['DJANGO_SETTINGS_MODULE'] = 'gaia.settings'\n",
    "django.setup()\n",
    "\n",
    "from asgiref.sync import sync_to_async\n",
    "from django.core.management import call_command\n",
    "from django.contrib.gis.geos import GEOSGeometry\n",
    "\n",
    "from whale.models import ExtractTransformLoad as ETL\n",
    "from whale.models import PointsOfInterest as POI"
   ]
  },
  {
   "cell_type": "markdown",
   "id": "064a7b9c-f24b-4448-add4-945c78e06740",
   "metadata": {},
   "source": [
    "### User defined variables"
   ]
  },
  {
   "cell_type": "code",
   "execution_count": null,
   "id": "8b005848-7058-4f13-843d-74a7e20a4800",
   "metadata": {},
   "outputs": [],
   "source": [
    "interesting_points_dir = '../../data/geojson/interesting_points_5-2-2025'\n",
    "\n",
    "poi_columns = ['id', 'vendor_id', 'sample_idx', 'area', 'deviation', 'epsg_code', 'cog_url']"
   ]
  },
  {
   "cell_type": "markdown",
   "id": "ed8f97bf-8371-41ad-8f8b-40aae371336e",
   "metadata": {},
   "source": [
    "### Identify all GeoJSONs"
   ]
  },
  {
   "cell_type": "code",
   "execution_count": null,
   "id": "af08e5a2-a659-4518-8dfe-daa19c0e190b",
   "metadata": {},
   "outputs": [],
   "source": [
    "geojsons = glob(interesting_points_dir + '/**/*.geojson', recursive=True)\n",
    "geojsons = [geojson.replace('\\\\', '/') for geojson in geojsons]\n",
    "geojsons[0]"
   ]
  },
  {
   "cell_type": "markdown",
   "id": "f173fe4e-63a2-45d1-95a2-775d8283abac",
   "metadata": {},
   "source": [
    "### Review Interesting Points GeoJSON"
   ]
  },
  {
   "cell_type": "code",
   "execution_count": null,
   "id": "7255322b-e5d1-44ca-99aa-f01717022bcf",
   "metadata": {},
   "outputs": [],
   "source": [
    "gdf = gpd.read_file(geojsons[0])\n",
    "print(f\"The shape of your Geodataframe is: {gdf.shape}\\n\")\n",
    "gdf.head()"
   ]
  },
  {
   "cell_type": "markdown",
   "id": "5621ee78-7554-4b17-9bfa-9d91ca7ae943",
   "metadata": {},
   "source": [
    "### Add Interesting Points to SpatiaLite Database"
   ]
  },
  {
   "cell_type": "code",
   "execution_count": null,
   "id": "bfc4b396-c968-4608-8b10-35a97288fa7a",
   "metadata": {},
   "outputs": [],
   "source": [
    "def import_poi(geojson_path):\n",
    "    \"\"\" Synchronous Import Points of Interest function.\n",
    "\n",
    "        Takes the GeoJSON filepath and converts the file path to Vendor ID\n",
    "            using the panchromatic image as the basis for this (opposed to\n",
    "            the multispectral). Queries the ExtractTransformLoad (ETL) table\n",
    "            in SpatiaLite for the relevant Vendor ID object. Reads the GeoJSON\n",
    "            file to a GeoDataFrame. Updates or creates the Interesting Points\n",
    "            records from a combination of the ETL and GeoJSON information.\n",
    "\n",
    "        Print statements support troubleshooting.\n",
    "    \"\"\"\n",
    "    cid = geojson_path.split('/')[-2]\n",
    "    \n",
    "    vid = '_'.join(geojson_path.split('/')[-1:][0].split('.')[0].split('_')[:-2])\n",
    "    cog_root = '_'.join(geojsons[0].split('/')[-1:][0].split('.')[0].split('_')[:-1])\n",
    "    cog_url = f\"https://gaianoaastorage.blob.core.windows.net/data/cogs/{cog_root}_cog.tif\"\n",
    "    print(f\"Adding points for {vid}\")\n",
    "    # obj = ETL.objects.get(vendor_id=vid)\n",
    "\n",
    "    epsg_code = geojson_path.split('/')[-1:][0].split('.')[0].split('_')[-2].split('mr')[-1]\n",
    "    gdf = gpd.read_file(geojson_path)\n",
    "\n",
    "    for index, row in gdf.iterrows():\n",
    "        # print(f\"Processing row: {row['id']}\")\n",
    "        poi, created = POI.objects.update_or_create(\n",
    "            sample_idx = row['id'],\n",
    "            defaults={\n",
    "                # 'catalog_id': obj.id,\n",
    "                # 'vendor_id': obj.vendor_id,\n",
    "                'vendor_id': vid,\n",
    "                # 'entity_id': obj.entity_id,\n",
    "                'area': row['area'],\n",
    "                'deviation': row['deviation'],\n",
    "                'epsg_code': epsg_code,\n",
    "                'cog_url': cog_url,\n",
    "                'point': row['geometry'].wkt\n",
    "            }\n",
    "        )\n",
    "        # print(f\"\\t{'Created' if created else 'Updated'} POI with id: {poi.sample_idx}\\n\")\n",
    "\n",
    "    # print('Data imported successfully!')\n",
    "\n",
    "start = time()\n",
    "\n",
    "async def import_poi_async(file_path):\n",
    "    await sync_to_async(import_poi, thread_sensitive=True)(file_path)\n",
    "\n",
    "import asyncio\n",
    "\n",
    "if asyncio.get_event_loop().is_running():\n",
    "    for geojson in geojsons[0:5]:\n",
    "        await import_poi_async(geojson)\n",
    "else:\n",
    "    asyncio.run(import_poi_async(geojson))\n",
    "\n",
    "end = round(time() - start, 2)\n",
    "print(\"It took {} seconds to load {} GeoJSONs\".format(end, len(geojsons))) "
   ]
  },
  {
   "cell_type": "markdown",
   "id": "9c39c51e-b7fa-4e08-9cd5-50ce797f768e",
   "metadata": {},
   "source": [
    "### Confirm that the points were added"
   ]
  },
  {
   "cell_type": "code",
   "execution_count": null,
   "id": "a90f0dd0-a4b1-467a-8d4f-210cb4401ad6",
   "metadata": {},
   "outputs": [],
   "source": [
    "objs = await sync_to_async(list)(POI.objects.all())\n",
    "print(f\"Number of POI records in database: {len(objs)}\\n\")\n",
    "\n",
    "vid = '_'.join(geojsons[0].split('/')[-1:][0].split('.')[0].split('_')[:-2])\n",
    "\n",
    "geoms = []\n",
    "attributes = []\n",
    "for obj in objs:\n",
    "    if obj.vendor_id == vid:\n",
    "        attr_dict = {col: getattr(obj, col) for col in poi_columns}\n",
    "        attributes.append(attr_dict)\n",
    "    \n",
    "        geoms.append(GEOSGeometry(obj.point))\n",
    "\n",
    "gdf = gpd.GeoDataFrame(attributes, geometry = [loads(g.wkt) for g in geoms])\n",
    "gdf.head()"
   ]
  },
  {
   "cell_type": "code",
   "execution_count": null,
   "id": "ecde08b2-7473-40be-ae85-b4366c9d1579",
   "metadata": {},
   "outputs": [],
   "source": []
  },
  {
   "cell_type": "markdown",
   "id": "1bdd110d-9ec7-43b2-b8d8-2b250d538e62",
   "metadata": {},
   "source": [
    "### Identify unique Vendor IDs"
   ]
  },
  {
   "cell_type": "code",
   "execution_count": null,
   "id": "d88376cc-1581-468c-b4f3-3be74d16e9ea",
   "metadata": {},
   "outputs": [],
   "source": [
    "objs = await sync_to_async(list)(POI.objects.all())\n",
    "print(f\"Number of POI records in database: {len(objs)}\\n\")\n",
    "\n",
    "vendor_ids = list(set([obj.vendor_id for obj in objs]))\n",
    "print(f\"Your unique vendor ids are: {vendor_ids}\")"
   ]
  },
  {
   "cell_type": "code",
   "execution_count": null,
   "id": "a9667e1e-5b83-40ee-b29e-61edba1ba6be",
   "metadata": {},
   "outputs": [],
   "source": [
    "vendor_ids_list = [obj.vendor_id for obj in objs]\n",
    "vendor_dict = {}\n",
    "for vendor_id in vendor_ids:\n",
    "    vendor_dict.update({\n",
    "        vendor_id: vendor_ids_list.count(vendor_id)\n",
    "    })\n",
    "\n",
    "pd.DataFrame.from_dict(vendor_dict, orient='index', columns=['poi'])"
   ]
  },
  {
   "cell_type": "markdown",
   "id": "500c4379-9a8c-4a13-9491-0a49d3d404d7",
   "metadata": {},
   "source": [
    "# End"
   ]
  }
 ],
 "metadata": {
  "kernelspec": {
   "display_name": "Python 3 (ipykernel)",
   "language": "python",
   "name": "python3"
  },
  "language_info": {
   "codemirror_mode": {
    "name": "ipython",
    "version": 3
   },
   "file_extension": ".py",
   "mimetype": "text/x-python",
   "name": "python",
   "nbconvert_exporter": "python",
   "pygments_lexer": "ipython3",
   "version": "3.12.8"
  }
 },
 "nbformat": 4,
 "nbformat_minor": 5
}
