{
 "cells": [
  {
   "cell_type": "markdown",
   "id": "29c1bdf1-bc8a-4ec2-be3f-09ced48e55ef",
   "metadata": {},
   "source": [
    "# Quality Assurance & Control - GeoDjango Objects\n",
    "Helps assure that the SQLite tables are spatially enabled, i.e. SpatiaLite, and are properly modeled by GeoDjango. This notebook also documents a lot of the validation needed to configure GeoDjango components.\n",
    "\n",
    "### Configuring SpatiaLite and enabling GeoDjango\n",
    "Within `settings.py` the following need to be configured:\n",
    "- \"GDAL_LIBRARY_PATH\"\n",
    "- \"SPATIALITE_LIBRARY_PATH\"\n",
    "Also within `settings.py` \"INSTALLED_APPS\" needs to be amended to include `'django.contrib.gis'` and the \"DATABASES\" 'ENGINE' needs to be amended to be `'django.contrib.gis.db.backends.spatialite'`.\n",
    "\n",
    "At `[PROJECT]/` you need to download and unzip SpatiaLite from [here](https://www.gaia-gis.it/gaia-sins/) as well as make the amendments to your `libgdal.py` recommended in [this](https://stackoverflow.com/questions/46313119/geodjango-could-not-find-gdal-library-in-windows-10) StackOverflow post.\n",
    "\n",
    "### Spatially Enabling Django Database\n",
    "Use the following code as a template to spatially enable your Django SQLite database turning it into a SpatiaLite database and therefore making your application a GeoDjango application. This code builds the metadata tables for spatial data.\n",
    "\n",
    "```python\n",
    "import sqlite3\n",
    "\n",
    "db = \"path/to/django/database/db.sqlite3\"\n",
    "\n",
    "conn = sqlite3.connect(db)\n",
    "conn.enable_load_extension(True)\n",
    "conn.execute(\"SELECT load_extension('mod_spatialite')\")\n",
    "\n",
    "c = conn.cursor()\n",
    "c.execute('''SELECT InitSpatialMetaData();''')\n",
    "conn.commit()\n",
    "conn.close()\n",
    "```\n",
    "\n",
    "### Validating SpatiaLite and GeoDjango\n",
    "From an Anaconda prompt window, activate your environment of choice and nagivate to your GeoDjango database. Here issue a command something like `sqlite3 db.sqlite3` which will turn your Anaconda prompt into a sqlite terminal. From here issue the command `.tables` you should see a bunch of geometry tables among others. Quit this termainl with `.quit`.\n",
    "\n",
    "From the Anaconda prompt, activate a GeoDjango Database Shell terminal with `python manage.py dbshell` this should launch you into a spatialite terminal. Quit out of this termainl with `.quit`.\n",
    "\n",
    "From the Anaconda prompt, activate a GeoDjango Shell terminal with `python manage.py shell`. At this point, we just want to make sure this starts up and will validate what should come out of here below since we are doing commands here, in the Jupyter Notebook, that could otherwise be implimented within the Shell terminal.\n",
    "\n",
    "### Import some libraries, configure Django\n",
    "Since we are within Jupyter Notebook, some stuff has to be configured specifically to handle this development environment."
   ]
  },
  {
   "cell_type": "code",
   "execution_count": null,
   "id": "3b3fa44b-9ffe-48e2-935a-c14458c9ecc7",
   "metadata": {},
   "outputs": [],
   "source": [
    "# Basic stack\n",
    "import os\n",
    "\n",
    "# Database stack\n",
    "import sqlite3\n",
    "\n",
    "# Geospatial stack\n",
    "import shapely\n",
    "from shapely.wkt import loads\n",
    "from shapely.geometry import Polygon\n",
    "import pandas as pd\n",
    "import geopandas as gpd\n",
    "import folium\n",
    "\n",
    "# GeoDjango stack\n",
    "import django\n",
    "\n",
    "import sys; sys.path.append('../../')\n",
    "os.environ['DJANGO_SETTINGS_MODULE'] = 'gaia.settings'\n",
    "django.setup()\n",
    "\n",
    "from django.db import connection\n",
    "from django.contrib.gis.geos import GEOSGeometry\n",
    "from asgiref.sync import sync_to_async\n",
    "\n",
    "from whale.models import AreaOfInterest as AOI\n",
    "from whale.models import ExtractTransformLoad as ETL"
   ]
  },
  {
   "cell_type": "markdown",
   "id": "45d1a575-fb12-4d16-a4a4-9ebb842af327",
   "metadata": {},
   "source": [
    "### User defined variables"
   ]
  },
  {
   "cell_type": "code",
   "execution_count": null,
   "id": "27e76d0b-1fcb-42fe-9049-4083d4223798",
   "metadata": {},
   "outputs": [],
   "source": [
    "db = \"../../db.sqlite3\"\n",
    "whale_earthexplorer_columns = ['entity_id', 'catalog_id', 'acquisition_date', 'vendor',\n",
    "                               'vendor_id', 'cloud_cover', 'satellite', 'sensor',\n",
    "                               'number_of_bands', 'map_projection', 'datum',\n",
    "                               'processing_level', 'file_format', 'license_id',\n",
    "                               'sun_azimuth', 'sun_elevation', 'pixel_size_x',\n",
    "                               'pixel_size_y', 'license_uplift_update', 'event',\n",
    "                               'date_entered', 'center_latitude_dec',\n",
    "                               'center_longitude_dec', 'thumbnail', 'publish_date',\n",
    "                               'aoi_id_id', 'event_date']\n",
    "whale_areaofinterest_columns = ['id', 'name', 'requestor', 'sqkm']\n",
    "etl_columns = ['table_name', 'aoi_id', 'id', 'vendor_id', 'entity_id', 'vendor',\n",
    "               'platform', 'pixel_size_x', 'pixel_size_y', 'date', 'publish_date',\n",
    "               'sea_state_qual', 'sea_state_quant', 'shareable']"
   ]
  },
  {
   "cell_type": "markdown",
   "id": "7226432b-3548-4ec8-8768-85f36dca3b41",
   "metadata": {},
   "source": [
    "### Validate geospatial data within the SpatiaLite database"
   ]
  },
  {
   "cell_type": "code",
   "execution_count": null,
   "id": "43056d15-f507-4089-b5f5-6928f6743164",
   "metadata": {},
   "outputs": [],
   "source": [
    "# Connect to database, load SpatiaLite exntention\n",
    "conn = sqlite3.connect(db)\n",
    "conn.enable_load_extension(True)\n",
    "conn.execute(\"SELECT load_extension('mod_spatialite')\")\n",
    "\n",
    "# Using the column names within Whale's EarthExplorer table, select first ten records\n",
    "columns_str = ', '.join(whale_earthexplorer_columns)\n",
    "sql_string = \"SELECT {}, AsText(bounds) FROM whale_earthexplorer LIMIT 10\".format(columns_str)\n",
    "df = pd.read_sql_query(sql_string, conn)\n",
    "\n",
    "# Build GeoDataFrame from results\n",
    "df = df.rename(columns={'AsText(bounds)': 'geometry'}, errors='raise')\n",
    "df['geometry'] = shapely.wkt.loads(df['geometry'])\n",
    "gdf = gpd.GeoDataFrame(df, geometry='geometry')\n",
    "\n",
    "# Close your database connection\n",
    "conn.commit()\n",
    "conn.close()\n",
    "\n",
    "# Show records\n",
    "gdf.head()"
   ]
  },
  {
   "cell_type": "markdown",
   "id": "c62a3c2a-71c3-477d-b175-583c5d3140d0",
   "metadata": {},
   "source": [
    "### Plot GeoDataFrame on an interactive map"
   ]
  },
  {
   "cell_type": "code",
   "execution_count": null,
   "id": "d18cb4c3-ac71-4823-964b-46bbd4f7326c",
   "metadata": {},
   "outputs": [],
   "source": [
    "def style_function(hex_value):\n",
    "    return {'color': hex_value, 'fillOpacity': 0}\n",
    "\n",
    "# Add OpenStreetMap as a basemap\n",
    "map = folium.Map()\n",
    "folium.TileLayer('openstreetmap').add_to(map)\n",
    "\n",
    "# Create a GeoJson layer from the response_geojson and add it to the map\n",
    "folium.GeoJson(\n",
    "    gdf['geometry'].to_json(),\n",
    "    style_function = lambda x: style_function('#0000FF')\n",
    ").add_to(map)\n",
    "\n",
    "# Zoom to collected images\n",
    "map.fit_bounds(map.get_bounds(), padding=(100, 100))\n",
    "\n",
    "# Display the map\n",
    "map"
   ]
  },
  {
   "cell_type": "markdown",
   "id": "fb7f022c-4910-4a82-99f6-76a362390422",
   "metadata": {},
   "source": [
    "### Leverage GeoDjango's models to retrieve database objects\n",
    "GeoDjango's `models.py` file provides GeoDjango with a blueprint for how the application should interact with the database returning objects. This means datatypes, constraints, etc. need to match between the models and the database. If not, there is no guarantee the application will retrieve the information we desire if any information at all.\n",
    "\n",
    "Above, note that we used the table \"whale_earthexplorer\" where the application name is appended as a prefix to the model class. To validate that we can also retrieve the same information as objects let's import EarthExplorer from the Whale models and retrieve as well as plot this information."
   ]
  },
  {
   "cell_type": "code",
   "execution_count": null,
   "id": "4408002e-2818-46b2-8ede-260668f5abf1",
   "metadata": {},
   "outputs": [],
   "source": [
    "from whale.models import EarthExplorer as EE\n",
    "\n",
    "# Retrieve the first ten EarthExplorer objects from GeoDjango\n",
    "imgs = await sync_to_async(list)(EE.objects.all()[:10])\n",
    "\n",
    "# Create a GeoDataFrame\n",
    "geoms = []\n",
    "attributes = []\n",
    "for img in imgs:\n",
    "    attr_dict = {col: getattr(img, col) for col in whale_earthexplorer_columns}\n",
    "    attributes.append(attr_dict)\n",
    "\n",
    "    geoms.append(GEOSGeometry(img.bounds))\n",
    "\n",
    "gdf = gpd.GeoDataFrame(attributes, geometry = [loads(g.wkt) for g in geoms])\n",
    "gdf.head()"
   ]
  },
  {
   "cell_type": "markdown",
   "id": "e619f729-4ad6-42be-9fb7-cefb4157c729",
   "metadata": {},
   "source": [
    "### Plot the results"
   ]
  },
  {
   "cell_type": "code",
   "execution_count": null,
   "id": "bb713e79-9746-4c05-9567-ce172839bc5c",
   "metadata": {},
   "outputs": [],
   "source": [
    "def style_function(hex_value):\n",
    "    return {'color': hex_value, 'fillOpacity': 0}\n",
    "\n",
    "# Add OpenStreetMap as a basemap\n",
    "map = folium.Map()\n",
    "folium.TileLayer('openstreetmap').add_to(map)\n",
    "\n",
    "# Create a GeoJson layer from the response_geojson and add it to the map\n",
    "folium.GeoJson(\n",
    "    gdf['geometry'].to_json(),\n",
    "    style_function = lambda x: style_function('#0000FF')\n",
    ").add_to(map)\n",
    "\n",
    "# Zoom to collected images\n",
    "map.fit_bounds(map.get_bounds(), padding=(100, 100))\n",
    "\n",
    "# Display the map\n",
    "map"
   ]
  },
  {
   "cell_type": "markdown",
   "id": "2e0b9e41-6d24-4deb-8332-dfaf147c2b00",
   "metadata": {},
   "source": [
    "### Let's confirm the above code works for other models like AOI"
   ]
  },
  {
   "cell_type": "code",
   "execution_count": null,
   "id": "be3c50e6-b3b8-4baa-b081-ce428fa2c0cf",
   "metadata": {},
   "outputs": [],
   "source": [
    "# Retrieve the first ten EarthExplorer objects from GeoDjango\n",
    "imgs = await sync_to_async(list)(AOI.objects.all()[:10])\n",
    "\n",
    "# Create a GeoDataFrame\n",
    "geoms = []\n",
    "attributes = []\n",
    "for img in imgs:\n",
    "    attr_dict = {col: getattr(img, col) for col in whale_areaofinterest_columns}\n",
    "    attributes.append(attr_dict)\n",
    "\n",
    "    geoms.append(GEOSGeometry(img.geometry))\n",
    "\n",
    "gdf = gpd.GeoDataFrame(attributes, geometry = [loads(g.wkt) for g in geoms])\n",
    "gdf.head()"
   ]
  },
  {
   "cell_type": "markdown",
   "id": "1f791595-7a52-4fbe-8b6f-f19816949e61",
   "metadata": {},
   "source": [
    "### Plot the results"
   ]
  },
  {
   "cell_type": "code",
   "execution_count": null,
   "id": "cf889a4f-3c25-4f5d-bb7b-310e5726c1a1",
   "metadata": {},
   "outputs": [],
   "source": [
    "def style_function(hex_value):\n",
    "    return {'color': hex_value, 'fillOpacity': 0}\n",
    "\n",
    "# Add OpenStreetMap as a basemap\n",
    "map = folium.Map()\n",
    "folium.TileLayer('openstreetmap').add_to(map)\n",
    "\n",
    "# Create a GeoJson layer from the response_geojson and add it to the map\n",
    "folium.GeoJson(\n",
    "    gdf['geometry'].to_json(),\n",
    "    style_function = lambda x: style_function('#0000FF')\n",
    ").add_to(map)\n",
    "\n",
    "# Zoom to collected images\n",
    "map.fit_bounds(map.get_bounds(), padding=(100, 100))\n",
    "\n",
    "# Display the map\n",
    "map"
   ]
  },
  {
   "cell_type": "markdown",
   "id": "780e9a5c-7ed9-400b-aa80-a24e8bc6170c",
   "metadata": {},
   "source": [
    "### Now, let's repeat this for the ExtractTransformLoad (ETL) Table\n",
    "Note that the ETL table is a table created from other table. I've seen this described as a junction or denormalized table amongst others. The key point is that this table integrates imagery across our three data sources (USGS EarthExplorer, GEGD, and Maxar Geospatial Platform) into a uniform table. As such, you'll notice there is no \"whale_\" prefix. Records are added to the table from triggers. This is the table we want to ensure always passes QA/QC."
   ]
  },
  {
   "cell_type": "code",
   "execution_count": null,
   "id": "f3f0e271-be43-49a5-ba76-be9e07822e26",
   "metadata": {},
   "outputs": [],
   "source": [
    "# Retrieve the first 25 EarthExplorer objects from GeoDjango\n",
    "imgs = await sync_to_async(list)(ETL.objects.all()[:25])\n",
    "\n",
    "# Create a GeoDataFrame\n",
    "geoms = []\n",
    "attributes = []\n",
    "for img in imgs:\n",
    "    attr_dict = {col: getattr(img, col) for col in etl_columns}\n",
    "    attributes.append(attr_dict)\n",
    "\n",
    "    geoms.append(GEOSGeometry(img.geometry))\n",
    "\n",
    "gdf = gpd.GeoDataFrame(attributes, geometry = [loads(g.wkt) for g in geoms])\n",
    "gdf.head(25)"
   ]
  },
  {
   "cell_type": "markdown",
   "id": "f90f7960-e9b8-4050-83c5-a858ac16cc25",
   "metadata": {},
   "source": [
    "### Plot the results"
   ]
  },
  {
   "cell_type": "code",
   "execution_count": null,
   "id": "c3b868ed-162b-4071-ab63-9ce68377c5f0",
   "metadata": {},
   "outputs": [],
   "source": [
    "def style_function(hex_value):\n",
    "    return {'color': hex_value, 'fillOpacity': 0}\n",
    "\n",
    "# Add OpenStreetMap as a basemap\n",
    "map = folium.Map()\n",
    "folium.TileLayer('openstreetmap').add_to(map)\n",
    "\n",
    "# Create a GeoJson layer from the response_geojson and add it to the map\n",
    "folium.GeoJson(\n",
    "    gdf['geometry'].to_json(),\n",
    "    style_function = lambda x: style_function('#0000FF')\n",
    ").add_to(map)\n",
    "\n",
    "# Zoom to collected images\n",
    "map.fit_bounds(map.get_bounds(), padding=(100, 100))\n",
    "\n",
    "# Display the map\n",
    "map"
   ]
  },
  {
   "cell_type": "markdown",
   "id": "b0575d1e-5bac-4d67-9bd7-6ec30786afbf",
   "metadata": {},
   "source": [
    "# End"
   ]
  }
 ],
 "metadata": {
  "kernelspec": {
   "display_name": "Python 3 (ipykernel)",
   "language": "python",
   "name": "python3"
  },
  "language_info": {
   "codemirror_mode": {
    "name": "ipython",
    "version": 3
   },
   "file_extension": ".py",
   "mimetype": "text/x-python",
   "name": "python",
   "nbconvert_exporter": "python",
   "pygments_lexer": "ipython3",
   "version": "3.12.8"
  }
 },
 "nbformat": 4,
 "nbformat_minor": 5
}
