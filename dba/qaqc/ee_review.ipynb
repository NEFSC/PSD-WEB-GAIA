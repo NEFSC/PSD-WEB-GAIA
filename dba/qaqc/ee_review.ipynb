{
 "cells": [
  {
   "cell_type": "markdown",
   "id": "29c1bdf1-bc8a-4ec2-be3f-09ced48e55ef",
   "metadata": {},
   "source": [
    "# EE Review\n",
    "This notebook is intended to validate information in the ExtractTransformLoad table as modeled in Django.\n",
    "\n",
    "### Import some libraries, configure Django"
   ]
  },
  {
   "cell_type": "code",
   "execution_count": 1,
   "id": "3b3fa44b-9ffe-48e2-935a-c14458c9ecc7",
   "metadata": {},
   "outputs": [],
   "source": [
    "import os\n",
    "\n",
    "import sqlite3\n",
    "\n",
    "import shapely\n",
    "from shapely.geometry import Polygon\n",
    "import pandas as pd\n",
    "import geopandas as gpd\n",
    "\n",
    "import django\n",
    "\n",
    "import sys; sys.path.append('../../')\n",
    "os.environ['DJANGO_SETTINGS_MODULE'] = 'gaia.settings'\n",
    "django.setup()\n",
    "\n",
    "from asgiref.sync import sync_to_async\n",
    "from django.core.management import call_command\n",
    "from django.contrib.gis.geos import GEOSGeometry\n",
    "\n",
    "from whale.models import EarthExplorer as EE"
   ]
  },
  {
   "cell_type": "code",
   "execution_count": 2,
   "id": "4ff169fb-4b94-405a-b106-5d5ab212ef3d",
   "metadata": {},
   "outputs": [
    {
     "name": "stdout",
     "output_type": "stream",
     "text": [
      "EE - X: 1.0 | Y: 1.0 | Geom: POLYGON ((-70.360465 41.807725, -70.360465 41.927938, -70.094004 41.927938, -70.094004 41.807725, -70.360465 41.807725))\n",
      "EE - X: 0.0 | Y: 0.0 | Geom: POLYGON ((-70.360134 41.807752, -70.360134 41.927927, -70.094304 41.927927, -70.094304 41.807752, -70.360134 41.807752))\n",
      "EE - X: 1.0 | Y: 1.0 | Geom: POLYGON ((-70.360829 41.870817, -70.360829 41.993979, -70.093706 41.993979, -70.093706 41.870817, -70.360829 41.870817))\n",
      "EE - X: 0.0 | Y: 0.0 | Geom: POLYGON ((-70.360496 41.870846, -70.360496 41.993965, -70.094007 41.993965, -70.094007 41.870846, -70.360496 41.870846))\n",
      "EE - X: 1.0 | Y: 1.0 | Geom: POLYGON ((-70.361174 41.934253, -70.361174 42.060377, -70.093235 42.060377, -70.093235 41.934253, -70.361174 41.934253))\n"
     ]
    }
   ],
   "source": [
    "imgs = await sync_to_async(list)(EE.objects.all())\n",
    "\n",
    "for img in imgs[0:5]:\n",
    "    geom = GEOSGeometry(img.bounds).wkt\n",
    "    print(f\"EE - X: {img.pixel_size_x} | Y: {img.pixel_size_y} | Geom: {geom}\")"
   ]
  },
  {
   "cell_type": "code",
   "execution_count": 3,
   "id": "484bb944-470d-4b77-9c73-cad97f3b7f87",
   "metadata": {},
   "outputs": [
    {
     "data": {
      "text/html": [
       "<div>\n",
       "<style scoped>\n",
       "    .dataframe tbody tr th:only-of-type {\n",
       "        vertical-align: middle;\n",
       "    }\n",
       "\n",
       "    .dataframe tbody tr th {\n",
       "        vertical-align: top;\n",
       "    }\n",
       "\n",
       "    .dataframe thead th {\n",
       "        text-align: right;\n",
       "    }\n",
       "</style>\n",
       "<table border=\"1\" class=\"dataframe\">\n",
       "  <thead>\n",
       "    <tr style=\"text-align: right;\">\n",
       "      <th></th>\n",
       "      <th>entity_id</th>\n",
       "      <th>catalog_id</th>\n",
       "      <th>acquisition_date</th>\n",
       "      <th>vendor</th>\n",
       "      <th>vendor_id</th>\n",
       "      <th>cloud_cover</th>\n",
       "      <th>satellite</th>\n",
       "      <th>sensor</th>\n",
       "      <th>number_of_bands</th>\n",
       "      <th>map_projection</th>\n",
       "      <th>...</th>\n",
       "      <th>license_uplift_update</th>\n",
       "      <th>event</th>\n",
       "      <th>date_entered</th>\n",
       "      <th>center_latitude_dec</th>\n",
       "      <th>center_longitude_dec</th>\n",
       "      <th>thumbnail</th>\n",
       "      <th>publish_date</th>\n",
       "      <th>aoi_id_id</th>\n",
       "      <th>event_date</th>\n",
       "      <th>geometry</th>\n",
       "    </tr>\n",
       "  </thead>\n",
       "  <tbody>\n",
       "    <tr>\n",
       "      <th>0</th>\n",
       "      <td>WV320240704205751P00</td>\n",
       "      <td>1040010096C03300</td>\n",
       "      <td>2024-07-04</td>\n",
       "      <td>MAXAR TECHNOLOGIES</td>\n",
       "      <td>24JUL04205751-P1BS-508530682010_02_P007</td>\n",
       "      <td>6</td>\n",
       "      <td>WORLDVIEW-3</td>\n",
       "      <td>PAN</td>\n",
       "      <td>1</td>\n",
       "      <td>GCP</td>\n",
       "      <td>...</td>\n",
       "      <td>None</td>\n",
       "      <td>UCDAM</td>\n",
       "      <td>2024-07-05</td>\n",
       "      <td>60.700664</td>\n",
       "      <td>-151.333349</td>\n",
       "      <td>https://ims.cr.usgs.gov/thumbnail/CRSSP/WV/202...</td>\n",
       "      <td>2024-07-05 15:57:26.517893</td>\n",
       "      <td>1</td>\n",
       "      <td>None</td>\n",
       "      <td>POLYGON ((-151.53281 60.63548, -151.53281 60.7...</td>\n",
       "    </tr>\n",
       "    <tr>\n",
       "      <th>1</th>\n",
       "      <td>WV320240704205751M00</td>\n",
       "      <td>1040010096C03300</td>\n",
       "      <td>2024-07-04</td>\n",
       "      <td>MAXAR TECHNOLOGIES</td>\n",
       "      <td>24JUL04205751-M1BS-508530682010_02_P007</td>\n",
       "      <td>6</td>\n",
       "      <td>WORLDVIEW-3</td>\n",
       "      <td>MSI</td>\n",
       "      <td>8</td>\n",
       "      <td>GCP</td>\n",
       "      <td>...</td>\n",
       "      <td>None</td>\n",
       "      <td>UCDAM</td>\n",
       "      <td>2024-07-05</td>\n",
       "      <td>60.700648</td>\n",
       "      <td>-151.333372</td>\n",
       "      <td>https://ims.cr.usgs.gov/thumbnail/CRSSP/WV/202...</td>\n",
       "      <td>2024-07-05 15:57:33.271479</td>\n",
       "      <td>1</td>\n",
       "      <td>None</td>\n",
       "      <td>POLYGON ((-151.5333 60.63544, -151.5333 60.765...</td>\n",
       "    </tr>\n",
       "    <tr>\n",
       "      <th>2</th>\n",
       "      <td>WV320240704205750P00</td>\n",
       "      <td>1040010096C03300</td>\n",
       "      <td>2024-07-04</td>\n",
       "      <td>MAXAR TECHNOLOGIES</td>\n",
       "      <td>24JUL04205750-P1BS-508530682010_02_P006</td>\n",
       "      <td>0</td>\n",
       "      <td>WORLDVIEW-3</td>\n",
       "      <td>PAN</td>\n",
       "      <td>1</td>\n",
       "      <td>GCP</td>\n",
       "      <td>...</td>\n",
       "      <td>None</td>\n",
       "      <td>UCDAM</td>\n",
       "      <td>2024-07-05</td>\n",
       "      <td>60.636445</td>\n",
       "      <td>-151.333375</td>\n",
       "      <td>https://ims.cr.usgs.gov/thumbnail/CRSSP/WV/202...</td>\n",
       "      <td>2024-07-05 15:57:23.396981</td>\n",
       "      <td>1</td>\n",
       "      <td>None</td>\n",
       "      <td>POLYGON ((-151.53374 60.56951, -151.53374 60.7...</td>\n",
       "    </tr>\n",
       "    <tr>\n",
       "      <th>3</th>\n",
       "      <td>WV320240704205750M00</td>\n",
       "      <td>1040010096C03300</td>\n",
       "      <td>2024-07-04</td>\n",
       "      <td>MAXAR TECHNOLOGIES</td>\n",
       "      <td>24JUL04205750-M1BS-508530682010_02_P006</td>\n",
       "      <td>0</td>\n",
       "      <td>WORLDVIEW-3</td>\n",
       "      <td>MSI</td>\n",
       "      <td>8</td>\n",
       "      <td>GCP</td>\n",
       "      <td>...</td>\n",
       "      <td>None</td>\n",
       "      <td>UCDAM</td>\n",
       "      <td>2024-07-05</td>\n",
       "      <td>60.636431</td>\n",
       "      <td>-151.333397</td>\n",
       "      <td>https://ims.cr.usgs.gov/thumbnail/CRSSP/WV/202...</td>\n",
       "      <td>2024-07-05 15:57:35.245827</td>\n",
       "      <td>1</td>\n",
       "      <td>None</td>\n",
       "      <td>POLYGON ((-151.53424 60.56946, -151.53424 60.7...</td>\n",
       "    </tr>\n",
       "    <tr>\n",
       "      <th>4</th>\n",
       "      <td>WV320240704205746M00</td>\n",
       "      <td>1040010096C03300</td>\n",
       "      <td>2024-07-04</td>\n",
       "      <td>MAXAR TECHNOLOGIES</td>\n",
       "      <td>24JUL04205746-M1BS-508530682010_02_P001</td>\n",
       "      <td>0</td>\n",
       "      <td>WORLDVIEW-3</td>\n",
       "      <td>MSI</td>\n",
       "      <td>8</td>\n",
       "      <td>GCP</td>\n",
       "      <td>...</td>\n",
       "      <td>None</td>\n",
       "      <td>UCDAM</td>\n",
       "      <td>2024-07-05</td>\n",
       "      <td>60.304872</td>\n",
       "      <td>-151.333417</td>\n",
       "      <td>https://ims.cr.usgs.gov/thumbnail/CRSSP/WV/202...</td>\n",
       "      <td>2024-07-05 15:57:40.549114</td>\n",
       "      <td>1</td>\n",
       "      <td>None</td>\n",
       "      <td>POLYGON ((-151.53999 60.22808, -151.53999 60.3...</td>\n",
       "    </tr>\n",
       "  </tbody>\n",
       "</table>\n",
       "<p>5 rows × 28 columns</p>\n",
       "</div>"
      ],
      "text/plain": [
       "              entity_id        catalog_id acquisition_date  \\\n",
       "0  WV320240704205751P00  1040010096C03300       2024-07-04   \n",
       "1  WV320240704205751M00  1040010096C03300       2024-07-04   \n",
       "2  WV320240704205750P00  1040010096C03300       2024-07-04   \n",
       "3  WV320240704205750M00  1040010096C03300       2024-07-04   \n",
       "4  WV320240704205746M00  1040010096C03300       2024-07-04   \n",
       "\n",
       "               vendor                                vendor_id  cloud_cover  \\\n",
       "0  MAXAR TECHNOLOGIES  24JUL04205751-P1BS-508530682010_02_P007            6   \n",
       "1  MAXAR TECHNOLOGIES  24JUL04205751-M1BS-508530682010_02_P007            6   \n",
       "2  MAXAR TECHNOLOGIES  24JUL04205750-P1BS-508530682010_02_P006            0   \n",
       "3  MAXAR TECHNOLOGIES  24JUL04205750-M1BS-508530682010_02_P006            0   \n",
       "4  MAXAR TECHNOLOGIES  24JUL04205746-M1BS-508530682010_02_P001            0   \n",
       "\n",
       "     satellite sensor  number_of_bands map_projection  ...  \\\n",
       "0  WORLDVIEW-3    PAN                1            GCP  ...   \n",
       "1  WORLDVIEW-3    MSI                8            GCP  ...   \n",
       "2  WORLDVIEW-3    PAN                1            GCP  ...   \n",
       "3  WORLDVIEW-3    MSI                8            GCP  ...   \n",
       "4  WORLDVIEW-3    MSI                8            GCP  ...   \n",
       "\n",
       "  license_uplift_update  event date_entered  center_latitude_dec  \\\n",
       "0                  None  UCDAM   2024-07-05            60.700664   \n",
       "1                  None  UCDAM   2024-07-05            60.700648   \n",
       "2                  None  UCDAM   2024-07-05            60.636445   \n",
       "3                  None  UCDAM   2024-07-05            60.636431   \n",
       "4                  None  UCDAM   2024-07-05            60.304872   \n",
       "\n",
       "   center_longitude_dec                                          thumbnail  \\\n",
       "0           -151.333349  https://ims.cr.usgs.gov/thumbnail/CRSSP/WV/202...   \n",
       "1           -151.333372  https://ims.cr.usgs.gov/thumbnail/CRSSP/WV/202...   \n",
       "2           -151.333375  https://ims.cr.usgs.gov/thumbnail/CRSSP/WV/202...   \n",
       "3           -151.333397  https://ims.cr.usgs.gov/thumbnail/CRSSP/WV/202...   \n",
       "4           -151.333417  https://ims.cr.usgs.gov/thumbnail/CRSSP/WV/202...   \n",
       "\n",
       "                 publish_date  aoi_id_id event_date  \\\n",
       "0  2024-07-05 15:57:26.517893          1       None   \n",
       "1  2024-07-05 15:57:33.271479          1       None   \n",
       "2  2024-07-05 15:57:23.396981          1       None   \n",
       "3  2024-07-05 15:57:35.245827          1       None   \n",
       "4  2024-07-05 15:57:40.549114          1       None   \n",
       "\n",
       "                                            geometry  \n",
       "0  POLYGON ((-151.53281 60.63548, -151.53281 60.7...  \n",
       "1  POLYGON ((-151.5333 60.63544, -151.5333 60.765...  \n",
       "2  POLYGON ((-151.53374 60.56951, -151.53374 60.7...  \n",
       "3  POLYGON ((-151.53424 60.56946, -151.53424 60.7...  \n",
       "4  POLYGON ((-151.53999 60.22808, -151.53999 60.3...  \n",
       "\n",
       "[5 rows x 28 columns]"
      ]
     },
     "execution_count": 3,
     "metadata": {},
     "output_type": "execute_result"
    }
   ],
   "source": [
    "db = \"../../db.sqlite3\"\n",
    "\n",
    "whale_earthexplorer_columns = ['entity_id', 'catalog_id', 'acquisition_date', 'vendor',\n",
    "                               'vendor_id', 'cloud_cover', 'satellite', 'sensor',\n",
    "                               'number_of_bands', 'map_projection', 'datum',\n",
    "                               'processing_level', 'file_format', 'license_id',\n",
    "                               'sun_azimuth', 'sun_elevation', 'pixel_size_x',\n",
    "                               'pixel_size_y', 'license_uplift_update', 'event',\n",
    "                               'date_entered', 'center_latitude_dec',\n",
    "                               'center_longitude_dec', 'thumbnail', 'publish_date',\n",
    "                               'aoi_id_id', 'event_date']\n",
    "\n",
    "conn = sqlite3.connect(db)\n",
    "conn.enable_load_extension(True)\n",
    "conn.execute(\"SELECT load_extension('mod_spatialite')\")\n",
    "\n",
    "columns_list = list(whale_earthexplorer_columns)\n",
    "columns_str = ', '.join(columns_list)\n",
    "sql_string = \"SELECT {}, AsText(bounds) FROM whale_earthexplorer WHERE vendor IS NOT NULL AND aoi_id_id = {}\".format(columns_str, 1)\n",
    "\n",
    "df = pd.read_sql_query(sql_string, conn)\n",
    "df = df.rename(columns={'AsText(bounds)': 'geometry'}, errors='raise')\n",
    "df['geometry'] = shapely.wkt.loads(df['geometry'])\n",
    "gdf = gpd.GeoDataFrame(df, geometry='geometry')\n",
    "\n",
    "conn.commit()\n",
    "conn.close()\n",
    "\n",
    "gdf.head()"
   ]
  },
  {
   "cell_type": "code",
   "execution_count": 4,
   "id": "6f0ae9d2-faba-4a38-b8a0-004636dea8d4",
   "metadata": {},
   "outputs": [
    {
     "data": {
      "text/plain": [
       "{0.3, 1.4}"
      ]
     },
     "execution_count": 4,
     "metadata": {},
     "output_type": "execute_result"
    }
   ],
   "source": [
    "set(gdf['pixel_size_y'])"
   ]
  },
  {
   "cell_type": "code",
   "execution_count": 5,
   "id": "ca68cf40-484b-49ce-9876-b4a234d2d147",
   "metadata": {},
   "outputs": [
    {
     "data": {
      "text/plain": [
       "{0.3, 1.4}"
      ]
     },
     "execution_count": 5,
     "metadata": {},
     "output_type": "execute_result"
    }
   ],
   "source": [
    "set(gdf['pixel_size_x'])"
   ]
  },
  {
   "cell_type": "code",
   "execution_count": 6,
   "id": "b223f981-9278-4143-b910-a89e7adcce3b",
   "metadata": {},
   "outputs": [
    {
     "data": {
      "text/plain": [
       "{1}"
      ]
     },
     "execution_count": 6,
     "metadata": {},
     "output_type": "execute_result"
    }
   ],
   "source": [
    "set(gdf['aoi_id_id'])"
   ]
  },
  {
   "cell_type": "code",
   "execution_count": 7,
   "id": "693f1657-5feb-4ea9-9107-390705ec2f3b",
   "metadata": {},
   "outputs": [
    {
     "data": {
      "text/plain": [
       "numpy.int64"
      ]
     },
     "execution_count": 7,
     "metadata": {},
     "output_type": "execute_result"
    }
   ],
   "source": [
    "type(gdf['aoi_id_id'][0])"
   ]
  }
 ],
 "metadata": {
  "kernelspec": {
   "display_name": "Python 3 (ipykernel)",
   "language": "python",
   "name": "python3"
  },
  "language_info": {
   "codemirror_mode": {
    "name": "ipython",
    "version": 3
   },
   "file_extension": ".py",
   "mimetype": "text/x-python",
   "name": "python",
   "nbconvert_exporter": "python",
   "pygments_lexer": "ipython3",
   "version": "3.12.8"
  }
 },
 "nbformat": 4,
 "nbformat_minor": 5
}
