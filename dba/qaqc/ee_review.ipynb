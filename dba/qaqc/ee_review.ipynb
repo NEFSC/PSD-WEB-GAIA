{
 "cells": [
  {
   "cell_type": "markdown",
   "id": "29c1bdf1-bc8a-4ec2-be3f-09ced48e55ef",
   "metadata": {},
   "source": [
    "# EE Review\n",
    "This notebook is intended to validate information in the ExtractTransformLoad table as modeled in Django.\n",
    "\n",
    "### Import some libraries, configure Django"
   ]
  },
  {
   "cell_type": "code",
   "execution_count": null,
   "id": "3b3fa44b-9ffe-48e2-935a-c14458c9ecc7",
   "metadata": {},
   "outputs": [],
   "source": [
    "import os\n",
    "\n",
    "import sqlite3\n",
    "\n",
    "import shapely\n",
    "from shapely.geometry import Polygon\n",
    "import pandas as pd\n",
    "import geopandas as gpd\n",
    "\n",
    "import django\n",
    "\n",
    "import sys; sys.path.append('../../')\n",
    "os.environ['DJANGO_SETTINGS_MODULE'] = 'gaia.settings'\n",
    "django.setup()\n",
    "\n",
    "from asgiref.sync import sync_to_async\n",
    "from django.core.management import call_command\n",
    "from django.contrib.gis.geos import GEOSGeometry\n",
    "\n",
    "from animal.models import EarthExplorer as EE"
   ]
  },
  {
   "cell_type": "code",
   "execution_count": null,
   "id": "4ff169fb-4b94-405a-b106-5d5ab212ef3d",
   "metadata": {},
   "outputs": [],
   "source": [
    "imgs = await sync_to_async(list)(EE.objects.all())\n",
    "\n",
    "for img in imgs[0:5]:\n",
    "    geom = GEOSGeometry(img.bounds).wkt\n",
    "    print(f\"EE - X: {img.pixel_size_x} | Y: {img.pixel_size_y} | Geom: {geom}\")"
   ]
  },
  {
   "cell_type": "code",
   "execution_count": null,
   "id": "484bb944-470d-4b77-9c73-cad97f3b7f87",
   "metadata": {},
   "outputs": [],
   "source": [
    "db = \"../../db.sqlite3\"\n",
    "\n",
    "animal_earthexplorer_columns = ['entity_id', 'catalog_id', 'acquisition_date', 'vendor',\n",
    "                               'vendor_id', 'cloud_cover', 'satellite', 'sensor',\n",
    "                               'number_of_bands', 'map_projection', 'datum',\n",
    "                               'processing_level', 'file_format', 'license_id',\n",
    "                               'sun_azimuth', 'sun_elevation', 'pixel_size_x',\n",
    "                               'pixel_size_y', 'license_uplift_update', 'event',\n",
    "                               'date_entered', 'center_latitude_dec',\n",
    "                               'center_longitude_dec', 'thumbnail', 'publish_date',\n",
    "                               'aoi_id_id', 'event_date']\n",
    "\n",
    "conn = sqlite3.connect(db)\n",
    "conn.enable_load_extension(True)\n",
    "conn.execute(\"SELECT load_extension('mod_spatialite')\")\n",
    "\n",
    "columns_list = list(animal_earthexplorer_columns)\n",
    "columns_str = ', '.join(columns_list)\n",
    "sql_string = \"SELECT {}, AsText(bounds) FROM animal_earthexplorer WHERE vendor IS NOT NULL AND aoi_id_id = {}\".format(columns_str, 1)\n",
    "\n",
    "df = pd.read_sql_query(sql_string, conn)\n",
    "df = df.rename(columns={'AsText(bounds)': 'geometry'}, errors='raise')\n",
    "df['geometry'] = shapely.wkt.loads(df['geometry'])\n",
    "gdf = gpd.GeoDataFrame(df, geometry='geometry')\n",
    "\n",
    "conn.commit()\n",
    "conn.close()\n",
    "\n",
    "gdf.head()"
   ]
  },
  {
   "cell_type": "code",
   "execution_count": null,
   "id": "6f0ae9d2-faba-4a38-b8a0-004636dea8d4",
   "metadata": {},
   "outputs": [],
   "source": [
    "set(gdf['pixel_size_y'])"
   ]
  },
  {
   "cell_type": "code",
   "execution_count": null,
   "id": "ca68cf40-484b-49ce-9876-b4a234d2d147",
   "metadata": {},
   "outputs": [],
   "source": [
    "set(gdf['pixel_size_x'])"
   ]
  },
  {
   "cell_type": "code",
   "execution_count": null,
   "id": "b223f981-9278-4143-b910-a89e7adcce3b",
   "metadata": {},
   "outputs": [],
   "source": [
    "set(gdf['aoi_id_id'])"
   ]
  },
  {
   "cell_type": "code",
   "execution_count": null,
   "id": "693f1657-5feb-4ea9-9107-390705ec2f3b",
   "metadata": {},
   "outputs": [],
   "source": [
    "type(gdf['aoi_id_id'][0])"
   ]
  }
 ],
 "metadata": {
  "kernelspec": {
   "display_name": "gaia",
   "language": "python",
   "name": "python3"
  },
  "language_info": {
   "codemirror_mode": {
    "name": "ipython",
    "version": 3
   },
   "file_extension": ".py",
   "mimetype": "text/x-python",
   "name": "python",
   "nbconvert_exporter": "python",
   "pygments_lexer": "ipython3",
   "version": "3.12.7"
  }
 },
 "nbformat": 4,
 "nbformat_minor": 5
}
