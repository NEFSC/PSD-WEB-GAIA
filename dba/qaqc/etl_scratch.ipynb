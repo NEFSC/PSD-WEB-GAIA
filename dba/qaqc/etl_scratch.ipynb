{
 "cells": [
  {
   "cell_type": "markdown",
   "id": "29c1bdf1-bc8a-4ec2-be3f-09ced48e55ef",
   "metadata": {},
   "source": [
    "# ExtractTransformLoad Review\n",
    "This notebook is intended to validate information in the ExtractTransformLoad table as modeled in Django.\n",
    "\n",
    "### Import some libraries, configure Django"
   ]
  },
  {
   "cell_type": "code",
   "execution_count": 1,
   "id": "3b3fa44b-9ffe-48e2-935a-c14458c9ecc7",
   "metadata": {},
   "outputs": [],
   "source": [
    "import os\n",
    "import django\n",
    "import pandas as pd\n",
    "from asgiref.sync import sync_to_async\n",
    "from django.core.management import call_command\n",
    "from django.contrib.gis.geos import GEOSGeometry\n",
    "\n",
    "import sys; sys.path.append('../../')\n",
    "os.environ['DJANGO_SETTINGS_MODULE'] = 'gaia.settings'\n",
    "django.setup()\n",
    "\n",
    "from whale.models import ExtractTransformLoad as ETL"
   ]
  },
  {
   "cell_type": "code",
   "execution_count": 6,
   "id": "4ff169fb-4b94-405a-b106-5d5ab212ef3d",
   "metadata": {},
   "outputs": [
    {
     "data": {
      "text/plain": [
       "['WV320240822153946P00', 'WV320240822153924M00', 'WV320240822153924P00']"
      ]
     },
     "execution_count": 6,
     "metadata": {},
     "output_type": "execute_result"
    }
   ],
   "source": [
    "async def get_entity_pairs(entity_id):\n",
    "    if 'M' in entity_id:\n",
    "        pair_id = entity_id.replace('M', 'P')\n",
    "    elif 'P' in entity_id:\n",
    "        pair_id = entity_id.replace('P', 'M')\n",
    "    else:\n",
    "        print(\"Failed to find Multispectral and Panchromatic paring. Returning with none!\")\n",
    "        return []\n",
    "\n",
    "    records = await sync_to_async(list)(ETL.objects.filter(entity_id__in=[entity_id, pair_id]))\n",
    "    records = [str(record.entity_id) for record in records]\n",
    "    #records = [entity for record_list in records for entity in record_list]\n",
    "\n",
    "    return records\n",
    "\n",
    "entity_ids = ['WV320240822153946P00']\n",
    "entities = [await get_entity_pairs(entity_id) for entity_id in entity_ids]\n",
    "[entity for record_list in entities for entity in record_list]"
   ]
  },
  {
   "cell_type": "code",
   "execution_count": null,
   "id": "02ad56dd-3d49-4f64-85b3-4ef29dc09ebf",
   "metadata": {},
   "outputs": [],
   "source": [
    "['WV320240822153946P00']"
   ]
  },
  {
   "cell_type": "code",
   "execution_count": 3,
   "id": "817081c0-e12a-4091-84a3-60f099f33bb4",
   "metadata": {},
   "outputs": [
    {
     "data": {
      "text/plain": [
       "['WV320240822153922M00', 'WV320240822153922P00']"
      ]
     },
     "execution_count": 3,
     "metadata": {},
     "output_type": "execute_result"
    }
   ],
   "source": [
    "entities[0]"
   ]
  }
 ],
 "metadata": {
  "kernelspec": {
   "display_name": "Python [conda env:gaia] *",
   "language": "python",
   "name": "conda-env-gaia-py"
  },
  "language_info": {
   "codemirror_mode": {
    "name": "ipython",
    "version": 3
   },
   "file_extension": ".py",
   "mimetype": "text/x-python",
   "name": "python",
   "nbconvert_exporter": "python",
   "pygments_lexer": "ipython3",
   "version": "3.11.6"
  }
 },
 "nbformat": 4,
 "nbformat_minor": 5
}
