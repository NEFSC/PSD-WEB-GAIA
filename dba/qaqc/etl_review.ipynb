{
 "cells": [
  {
   "cell_type": "markdown",
   "id": "29c1bdf1-bc8a-4ec2-be3f-09ced48e55ef",
   "metadata": {},
   "source": [
    "# ExtractTransformLoad Review\n",
    "This notebook is intended to validate information in the ExtractTransformLoad table as modeled in Django.\n",
    "\n",
    "### Import some libraries, configure Django"
   ]
  },
  {
   "cell_type": "code",
   "execution_count": 1,
   "id": "3b3fa44b-9ffe-48e2-935a-c14458c9ecc7",
   "metadata": {},
   "outputs": [],
   "source": [
    "import os\n",
    "import django\n",
    "import pandas as pd\n",
    "\n",
    "import sys; sys.path.append('../../')\n",
    "os.environ['DJANGO_SETTINGS_MODULE'] = 'gaia.settings'\n",
    "django.setup()\n",
    "\n",
    "from asgiref.sync import sync_to_async\n",
    "from django.core.management import call_command\n",
    "from django.contrib.gis.geos import GEOSGeometry\n",
    "\n",
    "from whale.models import ExtractTransformLoad as ETL"
   ]
  },
  {
   "cell_type": "code",
   "execution_count": 2,
   "id": "4ff169fb-4b94-405a-b106-5d5ab212ef3d",
   "metadata": {},
   "outputs": [
    {
     "name": "stdout",
     "output_type": "stream",
     "text": [
      "ETL Table Name: EE | ID: 1 | Vendor ID: 24JUL04205746-M1BS-508530682010_02_P001 | Geom: POLYGON ((-151.53999 60.228081, -151.53999 60.381664, -151.126845 60.381664, -151.126845 60.228081, -151.53999 60.228081))\n",
      "ETL Table Name: EE | ID: 1 | Vendor ID: 24JUL04205746-P1BS-508530682010_02_P001 | Geom: POLYGON ((-151.539477 60.22815, -151.539477 60.381631, -151.127313 60.381631, -151.127313 60.22815, -151.539477 60.22815))\n",
      "ETL Table Name: EE | ID: 1 | Vendor ID: 24JUL04205747-M1BS-508530682010_02_P002 | Geom: POLYGON ((-151.538816 60.298098, -151.538816 60.447366, -151.12767 60.447366, -151.12767 60.298098, -151.538816 60.298098))\n",
      "ETL Table Name: EE | ID: 1 | Vendor ID: 24JUL04205747-M1BS-508530682010_02_P003 | Geom: POLYGON ((-151.537566 60.367169, -151.537566 60.512294, -151.129228 60.512294, -151.129228 60.367169, -151.537566 60.367169))\n",
      "ETL Table Name: EE | ID: 1 | Vendor ID: 24JUL04205747-P1BS-508530682010_02_P002 | Geom: POLYGON ((-151.538306 60.298164, -151.538306 60.447334, -151.128134 60.447334, -151.128134 60.298164, -151.538306 60.298164))\n"
     ]
    }
   ],
   "source": [
    "imgs = await sync_to_async(list)(ETL.objects.all())\n",
    "\n",
    "for img in imgs[0:5]:\n",
    "    geom = GEOSGeometry(img.geometry).wkt\n",
    "    print(f\"ETL Table Name: {img.table_name} | ID: {img.aoi_id} | Vendor ID: {img.vendor_id} | Geom: {geom}\")"
   ]
  },
  {
   "cell_type": "code",
   "execution_count": 3,
   "id": "484bb944-470d-4b77-9c73-cad97f3b7f87",
   "metadata": {},
   "outputs": [
    {
     "name": "stdout",
     "output_type": "stream",
     "text": [
      "WV320240704205746M00\n",
      "WV320240704205746P00\n",
      "WV320240704205747M00\n",
      "WV320240704205747M01\n",
      "WV320240704205747P01\n",
      "WV320240704205747P00\n",
      "WV320240704205748M00\n",
      "WV320240704205748P00\n",
      "WV320240704205750M00\n",
      "WV320240704205750P00\n",
      "WV320240704205751M00\n",
      "WV320240704205751P00\n"
     ]
    }
   ],
   "source": [
    "for img in imgs:\n",
    "    if img.table_name == \"EE\":\n",
    "        if img.aoi_id == 1:\n",
    "            print(img.entity_id)"
   ]
  },
  {
   "cell_type": "code",
   "execution_count": 4,
   "id": "4ac85287-015f-4430-b8d5-34d4f2d647b6",
   "metadata": {},
   "outputs": [],
   "source": [
    "imgs = await sync_to_async(list)(ETL.objects.all().values())\n",
    "df = pd.DataFrame(imgs)\n",
    "df.to_csv('etl_output.csv', index=False)"
   ]
  }
 ],
 "metadata": {
  "kernelspec": {
   "display_name": "Python 3 (ipykernel)",
   "language": "python",
   "name": "python3"
  },
  "language_info": {
   "codemirror_mode": {
    "name": "ipython",
    "version": 3
   },
   "file_extension": ".py",
   "mimetype": "text/x-python",
   "name": "python",
   "nbconvert_exporter": "python",
   "pygments_lexer": "ipython3",
   "version": "3.12.8"
  }
 },
 "nbformat": 4,
 "nbformat_minor": 5
}
