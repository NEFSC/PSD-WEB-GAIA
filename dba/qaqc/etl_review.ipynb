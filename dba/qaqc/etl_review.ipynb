{
 "cells": [
  {
   "cell_type": "markdown",
   "id": "29c1bdf1-bc8a-4ec2-be3f-09ced48e55ef",
   "metadata": {},
   "source": [
    "# ExtractTransformLoad Review\n",
    "This notebook is intended to validate information in the ExtractTransformLoad table as modeled in Django.\n",
    "\n",
    "### Import some libraries, configure Django"
   ]
  },
  {
   "cell_type": "code",
   "execution_count": null,
   "id": "3b3fa44b-9ffe-48e2-935a-c14458c9ecc7",
   "metadata": {},
   "outputs": [],
   "source": [
    "import os\n",
    "import django\n",
    "import pandas as pd\n",
    "\n",
    "import sys; sys.path.append('../../')\n",
    "os.environ['DJANGO_SETTINGS_MODULE'] = 'gaia.settings'\n",
    "django.setup()\n",
    "\n",
    "from asgiref.sync import sync_to_async\n",
    "from django.core.management import call_command\n",
    "from django.contrib.gis.geos import GEOSGeometry\n",
    "\n",
    "from whale.models import ExtractTransformLoad as ETL"
   ]
  },
  {
   "cell_type": "code",
   "execution_count": null,
   "id": "4ff169fb-4b94-405a-b106-5d5ab212ef3d",
   "metadata": {},
   "outputs": [],
   "source": [
    "imgs = await sync_to_async(list)(ETL.objects.all())\n",
    "\n",
    "for img in imgs[0:5]:\n",
    "    geom = GEOSGeometry(img.geometry).wkt\n",
    "    print(f\"ETL Table Name: {img.table_name} | ID: {img.aoi_id} | Vendor ID: {img.vendor_id} | Geom: {geom}\")"
   ]
  },
  {
   "cell_type": "code",
   "execution_count": null,
   "id": "484bb944-470d-4b77-9c73-cad97f3b7f87",
   "metadata": {},
   "outputs": [],
   "source": [
    "for img in imgs:\n",
    "    if img.table_name == \"EE\":\n",
    "        if img.aoi_id == 1:\n",
    "            print(img.entity_id)"
   ]
  },
  {
   "cell_type": "code",
   "execution_count": null,
   "id": "4ac85287-015f-4430-b8d5-34d4f2d647b6",
   "metadata": {},
   "outputs": [],
   "source": [
    "imgs = await sync_to_async(list)(ETL.objects.all().values())\n",
    "df = pd.DataFrame(imgs)\n",
    "df.to_csv('etl_output.csv', index=False)"
   ]
  }
 ],
 "metadata": {
  "kernelspec": {
   "display_name": "Python 3 (ipykernel)",
   "language": "python",
   "name": "python3"
  },
  "language_info": {
   "codemirror_mode": {
    "name": "ipython",
    "version": 3
   },
   "file_extension": ".py",
   "mimetype": "text/x-python",
   "name": "python",
   "nbconvert_exporter": "python",
   "pygments_lexer": "ipython3",
   "version": "3.12.8"
  }
 },
 "nbformat": 4,
 "nbformat_minor": 5
}
