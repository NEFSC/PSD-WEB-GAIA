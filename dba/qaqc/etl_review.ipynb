{
 "cells": [
  {
   "cell_type": "markdown",
   "id": "29c1bdf1-bc8a-4ec2-be3f-09ced48e55ef",
   "metadata": {},
   "source": [
    "# ExtractTransformLoad Review\n",
    "This notebook is intended to validate information in the ExtractTransformLoad table as modeled in Django.\n",
    "\n",
    "### Import some libraries, configure Django"
   ]
  },
  {
   "cell_type": "code",
   "execution_count": 1,
   "id": "3b3fa44b-9ffe-48e2-935a-c14458c9ecc7",
   "metadata": {},
   "outputs": [],
   "source": [
    "import os\n",
    "import django\n",
    "import pandas as pd\n",
    "from asgiref.sync import sync_to_async\n",
    "from django.core.management import call_command\n",
    "from django.contrib.gis.geos import GEOSGeometry\n",
    "\n",
    "import sys; sys.path.append('../../')\n",
    "os.environ['DJANGO_SETTINGS_MODULE'] = 'gaia.settings'\n",
    "django.setup()\n",
    "\n",
    "from whale.models import ExtractTransformLoad as ETL"
   ]
  },
  {
   "cell_type": "code",
   "execution_count": 2,
   "id": "4ff169fb-4b94-405a-b106-5d5ab212ef3d",
   "metadata": {},
   "outputs": [
    {
     "name": "stdout",
     "output_type": "stream",
     "text": [
      "ETL Table Name: EE | ID: 1 | Vendor ID: 24JUL04205750-M1BS-508530682010_02_P006 | Geom: POLYGON ((-151.534235 60.56946, -151.534235 60.703401, -151.132559 60.703401, -151.132559 60.56946, -151.534235 60.56946))\n",
      "ETL Table Name: EE | ID: 1 | Vendor ID: 24JUL04205750-P1BS-508530682010_02_P006 | Geom: POLYGON ((-151.533736 60.569512, -151.533736 60.703379, -151.133013 60.703379, -151.133013 60.569512, -151.533736 60.569512))\n",
      "ETL Table Name: EE | ID: 1 | Vendor ID: 24JUL04205751-M1BS-508530682010_02_P007 | Geom: POLYGON ((-151.533302 60.635436, -151.533302 60.765859, -151.133442 60.765859, -151.133442 60.635436, -151.533302 60.635436))\n",
      "ETL Table Name: EE | ID: 1 | Vendor ID: 24JUL04205751-P1BS-508530682010_02_P007 | Geom: POLYGON ((-151.532806 60.635484, -151.532806 60.765844, -151.133893 60.765844, -151.133893 60.635484, -151.532806 60.635484))\n",
      "ETL Table Name: EE | ID: 6 | Vendor ID: 18MAY24154658-M1BS-503577655070_01_P001 | Geom: POLYGON ((-70.604444 42.024722, -70.604444 42.169167, -70.391944 42.169167, -70.391944 42.024722, -70.604444 42.024722))\n"
     ]
    }
   ],
   "source": [
    "imgs = await sync_to_async(list)(ETL.objects.all())\n",
    "\n",
    "for img in imgs[0:5]:\n",
    "    geom = GEOSGeometry(img.geometry).wkt\n",
    "    print(f\"ETL Table Name: {img.table_name} | ID: {img.aoi_id} | Vendor ID: {img.vendor_id} | Geom: {geom}\")"
   ]
  },
  {
   "cell_type": "code",
   "execution_count": 3,
   "id": "484bb944-470d-4b77-9c73-cad97f3b7f87",
   "metadata": {},
   "outputs": [
    {
     "name": "stdout",
     "output_type": "stream",
     "text": [
      "WV320240704205750M00\n",
      "WV320240704205750P00\n",
      "WV320240704205751M00\n",
      "WV320240704205751P00\n",
      "WV320240704205746M00\n",
      "WV320240704205746P00\n",
      "WV320240704205747M00\n",
      "WV320240704205747M01\n",
      "WV320240704205747P00\n",
      "WV320240704205747P01\n",
      "WV320240704205748M00\n",
      "WV320240704205748P00\n"
     ]
    }
   ],
   "source": [
    "for img in imgs:\n",
    "    if img.table_name == \"EE\":\n",
    "        if img.aoi_id == 1:\n",
    "            print(img.entity_id)"
   ]
  },
  {
   "cell_type": "code",
   "execution_count": 4,
   "id": "4ac85287-015f-4430-b8d5-34d4f2d647b6",
   "metadata": {},
   "outputs": [],
   "source": [
    "imgs = await sync_to_async(list)(ETL.objects.all().values())\n",
    "df = pd.DataFrame(imgs)\n",
    "df.to_csv('etl_output.csv', index=False)"
   ]
  },
  {
   "cell_type": "code",
   "execution_count": null,
   "id": "b817ed67-cddf-4de9-a3db-03520ec5ca18",
   "metadata": {},
   "outputs": [],
   "source": [
    "img."
   ]
  },
  {
   "cell_type": "code",
   "execution_count": 5,
   "id": "6f0ae9d2-faba-4a38-b8a0-004636dea8d4",
   "metadata": {},
   "outputs": [],
   "source": [
    "# for img in imgs:\n",
    "#     if img.table_name == \"EE\":\n",
    "#         with open('test.txt', 'a') as dst:\n",
    "#             dst.write(f\"{img.entity_id}\\n\")"
   ]
  }
 ],
 "metadata": {
  "kernelspec": {
   "display_name": "Python [conda env:gaia] *",
   "language": "python",
   "name": "conda-env-gaia-py"
  },
  "language_info": {
   "codemirror_mode": {
    "name": "ipython",
    "version": 3
   },
   "file_extension": ".py",
   "mimetype": "text/x-python",
   "name": "python",
   "nbconvert_exporter": "python",
   "pygments_lexer": "ipython3",
   "version": "3.11.6"
  }
 },
 "nbformat": 4,
 "nbformat_minor": 5
}
