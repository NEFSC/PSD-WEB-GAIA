{
 "cells": [
  {
   "cell_type": "markdown",
   "id": "845c6284-7c91-42bf-ae1c-34047c46a1e9",
   "metadata": {},
   "source": [
    "# Reviewing Data in the Spatialite Database\n",
    "\n",
    "### Import libraries"
   ]
  },
  {
   "cell_type": "code",
   "execution_count": null,
   "id": "77e282d7-cdef-4b0b-9040-46786db827a6",
   "metadata": {},
   "outputs": [],
   "source": [
    "# Data Science stack\n",
    "import sqlite3\n",
    "import shapely\n",
    "import pandas as pd\n",
    "import geopandas as gpd\n",
    "import folium\n",
    "\n",
    "# Custom stack\n",
    "import sys; sys.path.append(\"../../\")\n",
    "from dba import utilities"
   ]
  },
  {
   "cell_type": "markdown",
   "id": "0394990b-7c56-4157-8d6f-183db8698b32",
   "metadata": {},
   "source": [
    "### User defined variables"
   ]
  },
  {
   "cell_type": "code",
   "execution_count": null,
   "id": "546b608d-20e3-4b26-828f-51cb74bbf08f",
   "metadata": {},
   "outputs": [],
   "source": [
    "db = \"../../db.sqlite3\"\n",
    "aoi_id = 6"
   ]
  },
  {
   "cell_type": "markdown",
   "id": "85670c16-02e3-4689-8a50-c9be4a781316",
   "metadata": {},
   "source": [
    "### Show distinct Area of Interest Identifiers, count Entity Identifiers"
   ]
  },
  {
   "cell_type": "code",
   "execution_count": null,
   "id": "55e1737e-c041-4b92-b198-b68daf01f404",
   "metadata": {},
   "outputs": [],
   "source": [
    "conn = sqlite3.connect(db)\n",
    "conn.enable_load_extension(True)\n",
    "conn.execute(\"SELECT load_extension('mod_spatialite')\")\n",
    "\n",
    "sql_string = '''SELECT DISTINCT aoi_id_id, COUNT(entity_id)\n",
    "                    FROM animal_earthexplorer\n",
    "                    GROUP BY aoi_id_id\n",
    "             '''\n",
    "df = pd.read_sql_query(sql_string, conn)\n",
    "\n",
    "conn.commit()\n",
    "conn.close()\n",
    "\n",
    "df.head()"
   ]
  },
  {
   "cell_type": "markdown",
   "id": "36198620-8002-4d0d-85aa-7b1961ec19dc",
   "metadata": {},
   "source": [
    "### Show some Catalog Identifiers from Cape Cod Bay"
   ]
  },
  {
   "cell_type": "code",
   "execution_count": null,
   "id": "202df63b-ea76-4097-af74-ed23a81b8ff6",
   "metadata": {},
   "outputs": [],
   "source": [
    "conn = sqlite3.connect(db)\n",
    "conn.enable_load_extension(True)\n",
    "conn.execute(\"SELECT load_extension('mod_spatialite')\")\n",
    "\n",
    "sql_string = ''' SELECT DISTINCT catalog_id FROM animal_earthexplorer WHERE aoi_id_id = 6'''\n",
    "df = pd.read_sql_query(sql_string, conn)\n",
    "\n",
    "conn.commit()\n",
    "conn.close()\n",
    "\n",
    "df.head()"
   ]
  },
  {
   "cell_type": "markdown",
   "id": "2151dcc6-ba6f-4963-a1c8-cf455964261d",
   "metadata": {},
   "source": [
    "### Output the above Cape Cod Bay Catalog Identifiers to a CSV"
   ]
  },
  {
   "cell_type": "code",
   "execution_count": null,
   "id": "4a980d8e-0a6e-42a1-91cb-46b6a0685990",
   "metadata": {},
   "outputs": [],
   "source": [
    "df.to_csv('../outputs/wv_ccb.csv')"
   ]
  },
  {
   "cell_type": "markdown",
   "id": "58a392a9-a215-4025-97ee-bdec489705e4",
   "metadata": {},
   "source": [
    "### Illustrate that Catalog Identifiers are non-unique"
   ]
  },
  {
   "cell_type": "code",
   "execution_count": null,
   "id": "95f0f095-a6c0-41ff-8df6-d17524cf610d",
   "metadata": {},
   "outputs": [],
   "source": [
    "conn = sqlite3.connect(db)\n",
    "conn.enable_load_extension(True)\n",
    "conn.execute(\"SELECT load_extension('mod_spatialite')\")\n",
    "\n",
    "sql_string = ''' SELECT * FROM animal_earthexplorer WHERE catalog_id = '10400100674B2100' '''\n",
    "df = pd.read_sql_query(sql_string, conn)\n",
    "\n",
    "conn.commit()\n",
    "conn.close()\n",
    "\n",
    "df.head()"
   ]
  },
  {
   "cell_type": "markdown",
   "id": "63e9d3bf-5d33-4718-ae38-7c9d1aeaef45",
   "metadata": {},
   "source": [
    "### Export the non-unique Catalog Identifiers to a CSV"
   ]
  },
  {
   "cell_type": "code",
   "execution_count": null,
   "id": "818a462c-427b-49f6-bb19-66d168408363",
   "metadata": {},
   "outputs": [],
   "source": [
    "df.to_csv('../outputs/wv3_10400100674B2100_ids.csv')"
   ]
  },
  {
   "cell_type": "markdown",
   "id": "fbe2097c-54d7-483e-95ca-65f13d8b03c0",
   "metadata": {},
   "source": [
    "### Display the DataFrame"
   ]
  },
  {
   "cell_type": "code",
   "execution_count": null,
   "id": "d3b8b1d9-58ed-47fe-8897-0b5e92c2d7ca",
   "metadata": {},
   "outputs": [],
   "source": [
    "df"
   ]
  },
  {
   "cell_type": "markdown",
   "id": "f7cf9554-da40-43ea-b0ef-5c2e51c96e7e",
   "metadata": {},
   "source": [
    "### Select all records associated with a user defined AOI ID, show the table\n",
    "Use `ee` as an example"
   ]
  },
  {
   "cell_type": "code",
   "execution_count": null,
   "id": "d51b30dc-2f7e-407a-a7f6-69ffcc0fd029",
   "metadata": {},
   "outputs": [],
   "source": [
    "conn = sqlite3.connect(db)\n",
    "conn.enable_load_extension(True)\n",
    "conn.execute(\"SELECT load_extension('mod_spatialite')\")\n",
    "\n",
    "sql_string = '''SELECT * FROM animal_earthexplorer WHERE aoi_id_id = {}'''.format(aoi_id)\n",
    "\n",
    "df = pd.read_sql_query(sql_string, conn)\n",
    "\n",
    "conn.commit()\n",
    "conn.close()\n",
    "\n",
    "print(df.shape)\n",
    "df.head()"
   ]
  },
  {
   "cell_type": "markdown",
   "id": "f0d851ef-fbef-4c73-ae30-e5721dbe7ee8",
   "metadata": {},
   "source": [
    "### Inner Join\n",
    "Show images that are in both `ee` and `mgp`. Note that the forgein key for `ee` is catalog_id whereas this value corresponds to the primary key id in `mgp`. There is M:1 relationship between these records."
   ]
  },
  {
   "cell_type": "code",
   "execution_count": null,
   "id": "43f2f2d3-e30f-4fcb-94fd-b0e74c86fc0f",
   "metadata": {},
   "outputs": [],
   "source": [
    "conn = sqlite3.connect(db)\n",
    "conn.enable_load_extension(True)\n",
    "conn.execute(\"SELECT load_extension('mod_spatialite')\")\n",
    "\n",
    "sql_string = '''SELECT a.id, b.catalog_id, AsText(a.bbox)\n",
    "                    FROM animal_maxargeospatialplatform AS a\n",
    "                    INNER JOIN animal_earthexplorer AS b\n",
    "                    ON b.catalog_id = a.id\n",
    "                    WHERE (a.aoi_id_id = {})\n",
    "             '''.format(aoi_id)\n",
    "\n",
    "df = pd.read_sql_query(sql_string, conn)\n",
    "df = df.rename(columns={'AsText(a.bbox)': 'geometry'}, errors='raise')\n",
    "df['geometry'] = shapely.wkt.loads(df['geometry'])\n",
    "gdf = gpd.GeoDataFrame(df, geometry='geometry')\n",
    "\n",
    "conn.commit()\n",
    "conn.close()\n",
    "\n",
    "print(gdf.shape)\n",
    "gdf.head()"
   ]
  },
  {
   "cell_type": "code",
   "execution_count": null,
   "id": "2e9ea578-c6ae-4b11-8308-c94ba9622017",
   "metadata": {},
   "outputs": [],
   "source": [
    "len(set(gdf['catalog_id']))"
   ]
  },
  {
   "cell_type": "markdown",
   "id": "7786789e-e42d-447a-b8fa-1df1b972d6ba",
   "metadata": {},
   "source": [
    "### Left Outer Join 1\n",
    "Select images that are present in `mgp`, but not `ee`"
   ]
  },
  {
   "cell_type": "code",
   "execution_count": null,
   "id": "2f7044d5-c2e4-495e-bb61-4745ac23f78b",
   "metadata": {},
   "outputs": [],
   "source": [
    "conn = sqlite3.connect(db)\n",
    "conn.enable_load_extension(True)\n",
    "conn.execute(\"SELECT load_extension('mod_spatialite')\")\n",
    "\n",
    "sql_string = '''SELECT a.id, b.catalog_id, a.platform, AsText(a.bbox), a.datetime\n",
    "                    FROM animal_maxargeospatialplatform AS a\n",
    "                    LEFT OUTER JOIN animal_earthexplorer AS b\n",
    "                    ON a.id = b.catalog_id\n",
    "                    WHERE b.catalog_id IS NULL\n",
    "                    AND (a.aoi_id_id = {})\n",
    "             '''.format(aoi_id)\n",
    "\n",
    "df = pd.read_sql_query(sql_string, conn)\n",
    "df = df.rename(columns={'AsText(a.bbox)': 'geometry'}, errors='raise')\n",
    "df['geometry'] = shapely.wkt.loads(df['geometry'])\n",
    "gdf_ee = gpd.GeoDataFrame(df, geometry='geometry')\n",
    "\n",
    "conn.commit()\n",
    "conn.close()\n",
    "\n",
    "print(gdf_ee.shape)\n",
    "gdf_ee.head()"
   ]
  },
  {
   "cell_type": "markdown",
   "id": "1e7cf56c-05a6-4fea-9383-23db210eee2a",
   "metadata": {},
   "source": [
    "### Left Outer Join 2\n",
    "Select images that are present in `ee`, but not `mgp`"
   ]
  },
  {
   "cell_type": "code",
   "execution_count": null,
   "id": "c1e6c6e4-88a0-4472-89aa-157f4b68045a",
   "metadata": {},
   "outputs": [],
   "source": [
    "conn = sqlite3.connect(db)\n",
    "conn.enable_load_extension(True)\n",
    "conn.execute(\"SELECT load_extension('mod_spatialite')\")\n",
    "\n",
    "sql_string = '''SELECT a.catalog_id, b.id, a.satellite, AsText(a.bounds), a.publish_date\n",
    "                    FROM animal_earthexplorer AS a\n",
    "                    LEFT OUTER JOIN animal_maxargeospatialplatform AS b\n",
    "                    ON a.catalog_id = b.id\n",
    "                    WHERE b.id IS NULL\n",
    "                    AND (a.aoi_id_id = {})\n",
    "             '''.format(aoi_id)\n",
    "\n",
    "df = pd.read_sql_query(sql_string, conn)\n",
    "df = df.rename(columns={'AsText(a.bounds)': 'geometry'}, errors='raise')\n",
    "df['geometry'] = shapely.wkt.loads(df['geometry'])\n",
    "gdf_mgp = gpd.GeoDataFrame(df, geometry='geometry')\n",
    "\n",
    "conn.commit()\n",
    "conn.close()\n",
    "\n",
    "print(gdf_mgp.shape)\n",
    "gdf_mgp.head()"
   ]
  },
  {
   "cell_type": "markdown",
   "id": "b3019ead-e76b-497c-a079-22c442d57064",
   "metadata": {},
   "source": [
    "### Plot differences"
   ]
  },
  {
   "cell_type": "code",
   "execution_count": null,
   "id": "697b3a40-4a1d-4c0d-8957-0cbcf3a10638",
   "metadata": {},
   "outputs": [],
   "source": [
    "gdf_aoi = functions.get_aoi(db, aoi_id)\n",
    "\n",
    "def style_function(hex_value):\n",
    "    return {'color': hex_value, 'fillOpacity': 0}\n",
    "\n",
    "# Add OpenStreetMap as a basemap\n",
    "map = folium.Map()\n",
    "folium.TileLayer('openstreetmap').add_to(map)\n",
    "\n",
    "# Create a GeoJson layer from the response_geojson and add it to the map\n",
    "#      Blue\n",
    "folium.GeoJson(\n",
    "    gdf_ee.to_json(),\n",
    "    style_function = lambda x: style_function('#0000FF')\n",
    ").add_to(map)\n",
    "\n",
    "# Red\n",
    "folium.GeoJson(\n",
    "    gdf_mgp.to_json(),\n",
    "    style_function = lambda x: style_function('#FF0000')\n",
    ").add_to(map)\n",
    "\n",
    "# Black\n",
    "folium.GeoJson(\n",
    "    gdf_aoi['geometry'].to_json(),\n",
    "    style_function = lambda x: style_function('#000000')\n",
    ").add_to(map)\n",
    "\n",
    "# Zoom to collected images\n",
    "map.fit_bounds(map.get_bounds(), padding=(100, 100))\n",
    "\n",
    "# Display the map\n",
    "map"
   ]
  }
 ],
 "metadata": {
  "kernelspec": {
   "display_name": "Python 3 (ipykernel)",
   "language": "python",
   "name": "python3"
  },
  "language_info": {
   "codemirror_mode": {
    "name": "ipython",
    "version": 3
   },
   "file_extension": ".py",
   "mimetype": "text/x-python",
   "name": "python",
   "nbconvert_exporter": "python",
   "pygments_lexer": "ipython3",
   "version": "3.12.8"
  }
 },
 "nbformat": 4,
 "nbformat_minor": 5
}
