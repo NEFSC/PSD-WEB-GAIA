{
 "cells": [
  {
   "cell_type": "markdown",
   "id": "02db7fc6-6aed-4ff7-a78e-2c89581d88db",
   "metadata": {},
   "source": [
    "# Build (Extract, Transform, and Load)\n",
    "Builds the `etl` table from the `ee`, `gegd`, and `mgp` tables.\n",
    "\n",
    "### Import libraries"
   ]
  },
  {
   "cell_type": "code",
   "execution_count": 1,
   "id": "0a44281f-4592-40a0-b263-7d6787458f11",
   "metadata": {},
   "outputs": [],
   "source": [
    "# Basic stack\n",
    "from datetime import datetime\n",
    "\n",
    "# Web Stack\n",
    "import json\n",
    "import requests\n",
    "\n",
    "# Database stack\n",
    "import sqlite3\n",
    "\n",
    "# Data Science stack\n",
    "import shapely.wkt\n",
    "import pandas as pd\n",
    "import geopandas as gpd\n",
    "import folium"
   ]
  },
  {
   "cell_type": "markdown",
   "id": "a50cf2a9-00e2-4a5b-bf80-02e702fa7f01",
   "metadata": {},
   "source": [
    "### User defined variables"
   ]
  },
  {
   "cell_type": "code",
   "execution_count": 2,
   "id": "04e956f8-7592-473a-a724-174709312219",
   "metadata": {},
   "outputs": [],
   "source": [
    "db = \"../../db.sqlite3\""
   ]
  },
  {
   "cell_type": "markdown",
   "id": "4c0f2709-32a7-4824-a874-31a3542dadf6",
   "metadata": {},
   "source": [
    "### Drop table\n",
    "This is for demonstration purposes"
   ]
  },
  {
   "cell_type": "code",
   "execution_count": 3,
   "id": "81e7ee71-e067-4568-95b7-11d9d406148a",
   "metadata": {},
   "outputs": [],
   "source": [
    "conn = sqlite3.connect(db)\n",
    "conn.enable_load_extension(True)\n",
    "conn.execute(\"SELECT load_extension('mod_spatialite')\")\n",
    "\n",
    "c = conn.cursor()\n",
    "c.execute('''DROP TABLE IF EXISTS etl''')\n",
    "conn.commit()\n",
    "conn.close()"
   ]
  },
  {
   "cell_type": "markdown",
   "id": "f90a9620-d66f-4d24-bc5f-e025ff45011e",
   "metadata": {},
   "source": [
    "### Create `etl` table from selection of `ee`, `gegd`, and `mgp`\n",
    "Might want to include the following other fields: cloud cover, satellite, sensor, number of bands, among others."
   ]
  },
  {
   "cell_type": "code",
   "execution_count": 4,
   "id": "a4cb87fa-f3c4-4571-9167-7fe64a8fc2da",
   "metadata": {},
   "outputs": [],
   "source": [
    "conn = sqlite3.connect(db)\n",
    "conn.enable_load_extension(True)\n",
    "conn.execute(\"SELECT load_extension('mod_spatialite')\")\n",
    "\n",
    "c = conn.cursor()\n",
    "\n",
    "c.execute('''\n",
    "    CREATE TABLE etl AS    \n",
    "        SELECT 'EE' AS table_name,\n",
    "               e.aoi_id AS aoi_id,\n",
    "               e.catalog_id AS id,\n",
    "               e.vendor_id AS vendor_id,\n",
    "               e.entity_id AS entity_id,\n",
    "               e.vendor as vendor,\n",
    "               e.satellite AS platform,\n",
    "               e.pixel_size_x AS pixel_size_x,\n",
    "               e.pixel_size_y AS pixel_size_y,\n",
    "               e.acquisition_date AS date,\n",
    "               Date(e.publish_date) AS publish_date,\n",
    "               AsText(e.bounds) as geometry\n",
    "           FROM ee e\n",
    "        \n",
    "        UNION\n",
    "        \n",
    "        SELECT 'GEGD' AS table_name,\n",
    "               g.aoi_id AS aoi_id,\n",
    "               g.legacy_id AS id,\n",
    "               NULL AS vendor_id,\n",
    "               NULL AS entity_id,\n",
    "               g.company_name as vendor,\n",
    "               g.source AS platform,\n",
    "               g.per_pixel_x AS pixel_size_x,\n",
    "               g.per_pixel_y AS pixel_size_y,\n",
    "               Date(g.acquisition_date) AS date,\n",
    "               NULL AS publish_date,\n",
    "               AsText(g.geometry) AS geometry\n",
    "           FROM gegd g\n",
    "        LEFT JOIN ee e ON g.legacy_id = e.catalog_id\n",
    "            WHERE\n",
    "                e.catalog_id IS NULL\n",
    "        \n",
    "        UNION\n",
    "\n",
    "        SELECT 'MGP' AS table_name,\n",
    "               m.aoi_id AS aoi_id,\n",
    "               m.id AS id,\n",
    "               NULL AS vendor_id,\n",
    "               NULL AS entity_id,\n",
    "               \"Maxar\" AS vendor,\n",
    "               m.platform AS platform,\n",
    "               m.gsd AS pixel_size_x,\n",
    "               m.gsd AS pixel_size_y,\n",
    "               Date(datetime) AS date,\n",
    "               NULL AS publish_date,\n",
    "               AsText(m.bbox) AS geometry\n",
    "           FROM mgp m\n",
    "        LEFT JOIN ee e ON m.id = e.catalog_id\n",
    "        LEFT JOIN gegd g ON m.id = g.legacy_id\n",
    "            WHERE\n",
    "                e.catalog_id IS NULL AND g.legacy_id IS NULL;\n",
    "''')\n",
    "\n",
    "c.execute('''ALTER TABLE etl ADD COLUMN sea_state_qual VARVHAR(15)''')\n",
    "c.execute('''ALTER TABLE etl ADD COLUMN sea_state_quant NUMERIC(2, 2)''')\n",
    "c.execute('''ALTER TABLE etl ADD COLUMN shareable VARVHAR(3)''')\n",
    "\n",
    "conn.commit()\n",
    "conn.close()"
   ]
  },
  {
   "cell_type": "markdown",
   "id": "ec88653f-32e9-47bf-840c-57affb4cc543",
   "metadata": {},
   "source": [
    "# End"
   ]
  }
 ],
 "metadata": {
  "kernelspec": {
   "display_name": "Python 3 (ipykernel)",
   "language": "python",
   "name": "python3"
  },
  "language_info": {
   "codemirror_mode": {
    "name": "ipython",
    "version": 3
   },
   "file_extension": ".py",
   "mimetype": "text/x-python",
   "name": "python",
   "nbconvert_exporter": "python",
   "pygments_lexer": "ipython3",
   "version": "3.12.8"
  }
 },
 "nbformat": 4,
 "nbformat_minor": 5
}
