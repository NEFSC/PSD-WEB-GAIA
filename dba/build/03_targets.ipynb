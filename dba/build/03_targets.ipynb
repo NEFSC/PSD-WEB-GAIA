{
 "cells": [
  {
   "cell_type": "markdown",
   "id": "02db7fc6-6aed-4ff7-a78e-2c89581d88db",
   "metadata": {},
   "source": [
    "# Build (Targets)\n",
    "Builds the `targets` table from a flat file database using names as the primary key which are assumed to be unique strings for this project. Other notebooks should be used for adding additional records to the table.\n",
    "\n",
    "### Import libraries"
   ]
  },
  {
   "cell_type": "code",
   "execution_count": 1,
   "id": "0a44281f-4592-40a0-b263-7d6787458f11",
   "metadata": {},
   "outputs": [],
   "source": [
    "# Basic stack\n",
    "from datetime import datetime\n",
    "\n",
    "# Web Stack\n",
    "import json\n",
    "import requests\n",
    "\n",
    "# Database stack\n",
    "import sqlite3\n",
    "\n",
    "# Data Science stack\n",
    "import pandas as pd"
   ]
  },
  {
   "cell_type": "markdown",
   "id": "a50cf2a9-00e2-4a5b-bf80-02e702fa7f01",
   "metadata": {},
   "source": [
    "### User defined variables"
   ]
  },
  {
   "cell_type": "code",
   "execution_count": 2,
   "id": "04e956f8-7592-473a-a724-174709312219",
   "metadata": {},
   "outputs": [],
   "source": [
    "db = \"../../db.sqlite3\"\n",
    "targets = \"../../data/databases/targets.xlsx\""
   ]
  },
  {
   "cell_type": "markdown",
   "id": "e6a52ff4-e06e-43d1-a3f3-d2bc0e8057f1",
   "metadata": {},
   "source": [
    "### User defined functions"
   ]
  },
  {
   "cell_type": "code",
   "execution_count": 3,
   "id": "b053bbc1-945d-40a2-a592-d948589fdd3f",
   "metadata": {},
   "outputs": [],
   "source": [
    "def update_targets(c, name, column_name, column_value):\n",
    "    \"\"\" Updates EE table values of a given column with a given value using the \n",
    "            ENTITY ID as the selection criteria for the update.\n",
    "\n",
    "        C - A cursor\n",
    "        ENTITY ID - An entity id from EarthExplorer\n",
    "        COLUMN NAME - A column name within the EE table to be updated\n",
    "        COLUMN VALUE - A value to update the column\n",
    "    \"\"\"\n",
    "    sql_string = f\"UPDATE targets SET {column_name} = \\\"{column_value}\\\" WHERE target = \\\"{name}\\\"\"\n",
    "    c.execute(sql_string)\n",
    "\n",
    "\n",
    "def database_activity(db, target, column_name, column_value, activity='update'):\n",
    "    \"\"\" Wrapper function for activities related to database management.\n",
    "            Currently only supports UPDATING based on EarthExplorer \n",
    "            Entity ID values.\n",
    "\n",
    "        Is dependent on the UPDATE EE function above.\n",
    "\n",
    "        DB - A database target\n",
    "        ENTITY ID - An EarthExplorer Entity ID uniquely identifying\n",
    "            the record of interest.\n",
    "        COLUMN NAME - The column to be updated\n",
    "        COLUMN VALUE - The value of the column to be updated\n",
    "        ACTIVITY - The activity to be carried out. Currently only\n",
    "            supports UPDATE.\n",
    "    \"\"\"\n",
    "    conn = sqlite3.connect(db)\n",
    "    conn.enable_load_extension(True)\n",
    "    conn.execute(\"SELECT load_extension('mod_spatialite')\")\n",
    "    c = conn.cursor()\n",
    "\n",
    "    if activity == 'update':\n",
    "        try:\n",
    "            update_targets(c, target, column_name, column_value)\n",
    "        except Exception as e:\n",
    "            print(\"Exception: {} was raised for {}\".format(e, row['target']))\n",
    "    else:\n",
    "        print(\"Your activity method is not currently supported.\")\n",
    "    \n",
    "    conn.commit()\n",
    "    conn.close()\n",
    "\n",
    "def insert_person(c, target):\n",
    "    \"\"\" Inserts People into the People Data Table. People's \n",
    "            names are the Primary Key for the datatable since\n",
    "            they are assumed to be unique for this effort.\n",
    "\n",
    "        C - A cursor\n",
    "        PERSON - A Person's Name\n",
    "    \"\"\"\n",
    "    sql_string = f\"INSERT INTO targets(target) VALUES (\\\"{target}\\\")\"\n",
    "    c.execute(sql_string)"
   ]
  },
  {
   "cell_type": "markdown",
   "id": "e1ac63e2-e1cd-4c0c-a4d9-f89759709c67",
   "metadata": {},
   "source": [
    "### Load data"
   ]
  },
  {
   "cell_type": "code",
   "execution_count": 4,
   "id": "5bcb1026-86eb-4ea0-a63b-7270872c4e47",
   "metadata": {},
   "outputs": [
    {
     "data": {
      "text/html": [
       "<div>\n",
       "<style scoped>\n",
       "    .dataframe tbody tr th:only-of-type {\n",
       "        vertical-align: middle;\n",
       "    }\n",
       "\n",
       "    .dataframe tbody tr th {\n",
       "        vertical-align: top;\n",
       "    }\n",
       "\n",
       "    .dataframe thead th {\n",
       "        text-align: right;\n",
       "    }\n",
       "</style>\n",
       "<table border=\"1\" class=\"dataframe\">\n",
       "  <thead>\n",
       "    <tr style=\"text-align: right;\">\n",
       "      <th></th>\n",
       "      <th>target</th>\n",
       "      <th>scientific_name</th>\n",
       "    </tr>\n",
       "  </thead>\n",
       "  <tbody>\n",
       "    <tr>\n",
       "      <th>0</th>\n",
       "      <td>Bowhead whale</td>\n",
       "      <td>Balaena mysticetus</td>\n",
       "    </tr>\n",
       "    <tr>\n",
       "      <th>1</th>\n",
       "      <td>Bryde's whale</td>\n",
       "      <td>Balaenoptera brydei</td>\n",
       "    </tr>\n",
       "    <tr>\n",
       "      <th>2</th>\n",
       "      <td>Common eiders</td>\n",
       "      <td>Somateria mollissima</td>\n",
       "    </tr>\n",
       "    <tr>\n",
       "      <th>3</th>\n",
       "      <td>Fin whale</td>\n",
       "      <td>Balaenoptera physalus</td>\n",
       "    </tr>\n",
       "    <tr>\n",
       "      <th>4</th>\n",
       "      <td>Gray whale</td>\n",
       "      <td>Eschrichtius robustus</td>\n",
       "    </tr>\n",
       "  </tbody>\n",
       "</table>\n",
       "</div>"
      ],
      "text/plain": [
       "          target        scientific_name\n",
       "0  Bowhead whale     Balaena mysticetus\n",
       "1  Bryde's whale    Balaenoptera brydei\n",
       "2  Common eiders   Somateria mollissima\n",
       "3      Fin whale  Balaenoptera physalus\n",
       "4     Gray whale  Eschrichtius robustus"
      ]
     },
     "execution_count": 4,
     "metadata": {},
     "output_type": "execute_result"
    }
   ],
   "source": [
    "df = pd.read_excel(targets)\n",
    "df.head()"
   ]
  },
  {
   "cell_type": "markdown",
   "id": "4c0f2709-32a7-4824-a874-31a3542dadf6",
   "metadata": {},
   "source": [
    "### Drop table\n",
    "This is for demonstration purposes"
   ]
  },
  {
   "cell_type": "code",
   "execution_count": 5,
   "id": "81e7ee71-e067-4568-95b7-11d9d406148a",
   "metadata": {},
   "outputs": [],
   "source": [
    "conn = sqlite3.connect(db)\n",
    "conn.enable_load_extension(True)\n",
    "conn.execute(\"SELECT load_extension('mod_spatialite')\")\n",
    "\n",
    "c = conn.cursor()\n",
    "c.execute('''DROP TABLE IF EXISTS targets''')\n",
    "conn.commit()\n",
    "conn.close()"
   ]
  },
  {
   "cell_type": "markdown",
   "id": "f90a9620-d66f-4d24-bc5f-e025ff45011e",
   "metadata": {},
   "source": [
    "### Create `targets` table"
   ]
  },
  {
   "cell_type": "code",
   "execution_count": 6,
   "id": "a4cb87fa-f3c4-4571-9167-7fe64a8fc2da",
   "metadata": {},
   "outputs": [],
   "source": [
    "conn = sqlite3.connect(db)\n",
    "conn.enable_load_extension(True)\n",
    "conn.execute(\"SELECT load_extension('mod_spatialite')\")\n",
    "\n",
    "c = conn.cursor()\n",
    "\n",
    "c.execute('''\n",
    "    CREATE TABLE IF NOT EXISTS targets(\n",
    "        id INTEGER PRIMARY KEY AUTOINCREMENT,\n",
    "        target VARCHAR(30),\n",
    "        scientific_name VARCHAR(25)\n",
    "    )\n",
    "''')\n",
    "\n",
    "conn.commit()\n",
    "conn.close()"
   ]
  },
  {
   "cell_type": "markdown",
   "id": "9d7b9988-6850-44d6-b96d-c61e43666f42",
   "metadata": {},
   "source": [
    "### Insert targets into `targets` table"
   ]
  },
  {
   "cell_type": "code",
   "execution_count": 7,
   "id": "f9193a28-40a6-430d-ae78-b5ada3b3a669",
   "metadata": {},
   "outputs": [
    {
     "name": "stdout",
     "output_type": "stream",
     "text": [
      "Done inserting targets into table!\n"
     ]
    }
   ],
   "source": [
    "conn = sqlite3.connect(db)\n",
    "conn.enable_load_extension(True)\n",
    "conn.execute(\"SELECT load_extension('mod_spatialite')\")\n",
    "\n",
    "c = conn.cursor()\n",
    "\n",
    "for i, row in df.iterrows():\n",
    "    try:\n",
    "        insert_person(c, row['target'])\n",
    "    except Exception as e:\n",
    "        print(\"Exception: {} was raised for {}\".format(e, row['target']))\n",
    "print(\"Done inserting targets into table!\")\n",
    "conn.commit()\n",
    "conn.close()"
   ]
  },
  {
   "cell_type": "markdown",
   "id": "4ad1e04d-9ee4-49d7-a436-736ab60faa45",
   "metadata": {},
   "source": [
    "### Update `target` records from spreadsheet"
   ]
  },
  {
   "cell_type": "code",
   "execution_count": 8,
   "id": "635fab25-a2d2-4b10-866d-a878dd541e3d",
   "metadata": {},
   "outputs": [
    {
     "name": "stdout",
     "output_type": "stream",
     "text": [
      "Updating information for: Bowhead whale\n",
      "Updating information for: Bryde's whale\n",
      "Updating information for: Common eiders\n",
      "Updating information for: Fin whale\n",
      "Updating information for: Gray whale\n",
      "Updating information for: Hawaiian monk seal\n",
      "Updating information for: Humpback whale\n",
      "Updating information for: Blue whale\n",
      "Updating information for: North Atlantic right whale\n",
      "Updating information for: North Pacific right whale\n",
      "Updating information for: Seal\n",
      "Updating information for: Southern right whale\n",
      "Updating information for: Sperm whale\n",
      "Updating information for: Target buoy weather station\n",
      "Updating information for: Omura whale\n",
      "Updating information for: Turtle\n",
      "Updating information for: Rice's whale\n",
      "Updating information for: Killer whale\n"
     ]
    }
   ],
   "source": [
    "columns = df.columns[1:]\n",
    "for i, row in df.iterrows():\n",
    "    tid = row['target']\n",
    "    print(\"Updating information for: {}\".format(row['target']))\n",
    "    for column in columns:\n",
    "        database_activity(db, tid, column, row[column])"
   ]
  },
  {
   "cell_type": "markdown",
   "id": "8e251aa7-fc76-4575-accf-b97c81b71ab5",
   "metadata": {},
   "source": [
    "### Select new information, review it"
   ]
  },
  {
   "cell_type": "code",
   "execution_count": 9,
   "id": "756a8bc6-f2f1-4c88-8647-f953cf56564a",
   "metadata": {},
   "outputs": [
    {
     "data": {
      "text/html": [
       "<div>\n",
       "<style scoped>\n",
       "    .dataframe tbody tr th:only-of-type {\n",
       "        vertical-align: middle;\n",
       "    }\n",
       "\n",
       "    .dataframe tbody tr th {\n",
       "        vertical-align: top;\n",
       "    }\n",
       "\n",
       "    .dataframe thead th {\n",
       "        text-align: right;\n",
       "    }\n",
       "</style>\n",
       "<table border=\"1\" class=\"dataframe\">\n",
       "  <thead>\n",
       "    <tr style=\"text-align: right;\">\n",
       "      <th></th>\n",
       "      <th>id</th>\n",
       "      <th>target</th>\n",
       "      <th>scientific_name</th>\n",
       "      <th>bbox</th>\n",
       "    </tr>\n",
       "  </thead>\n",
       "  <tbody>\n",
       "    <tr>\n",
       "      <th>0</th>\n",
       "      <td>1</td>\n",
       "      <td>Bowhead whale</td>\n",
       "      <td>Balaena mysticetus</td>\n",
       "      <td>None</td>\n",
       "    </tr>\n",
       "    <tr>\n",
       "      <th>1</th>\n",
       "      <td>2</td>\n",
       "      <td>Bryde's whale</td>\n",
       "      <td>Balaenoptera brydei</td>\n",
       "      <td>None</td>\n",
       "    </tr>\n",
       "    <tr>\n",
       "      <th>2</th>\n",
       "      <td>3</td>\n",
       "      <td>Common eiders</td>\n",
       "      <td>Somateria mollissima</td>\n",
       "      <td>None</td>\n",
       "    </tr>\n",
       "    <tr>\n",
       "      <th>3</th>\n",
       "      <td>4</td>\n",
       "      <td>Fin whale</td>\n",
       "      <td>Balaenoptera physalus</td>\n",
       "      <td>None</td>\n",
       "    </tr>\n",
       "    <tr>\n",
       "      <th>4</th>\n",
       "      <td>5</td>\n",
       "      <td>Gray whale</td>\n",
       "      <td>Eschrichtius robustus</td>\n",
       "      <td>None</td>\n",
       "    </tr>\n",
       "  </tbody>\n",
       "</table>\n",
       "</div>"
      ],
      "text/plain": [
       "   id         target        scientific_name  bbox\n",
       "0   1  Bowhead whale     Balaena mysticetus  None\n",
       "1   2  Bryde's whale    Balaenoptera brydei  None\n",
       "2   3  Common eiders   Somateria mollissima  None\n",
       "3   4      Fin whale  Balaenoptera physalus  None\n",
       "4   5     Gray whale  Eschrichtius robustus  None"
      ]
     },
     "execution_count": 9,
     "metadata": {},
     "output_type": "execute_result"
    }
   ],
   "source": [
    "conn = sqlite3.connect(db)\n",
    "conn.enable_load_extension(True)\n",
    "conn.execute(\"SELECT load_extension('mod_spatialite')\")\n",
    "\n",
    "df = pd.read_sql_query(f\"SELECT * FROM targets\", conn)\n",
    "\n",
    "conn.commit()\n",
    "conn.close()\n",
    "\n",
    "df.head()"
   ]
  },
  {
   "cell_type": "markdown",
   "id": "ec88653f-32e9-47bf-840c-57affb4cc543",
   "metadata": {},
   "source": [
    "# End"
   ]
  }
 ],
 "metadata": {
  "kernelspec": {
   "display_name": "Python 3 (ipykernel)",
   "language": "python",
   "name": "python3"
  },
  "language_info": {
   "codemirror_mode": {
    "name": "ipython",
    "version": 3
   },
   "file_extension": ".py",
   "mimetype": "text/x-python",
   "name": "python",
   "nbconvert_exporter": "python",
   "pygments_lexer": "ipython3",
   "version": "3.12.8"
  }
 },
 "nbformat": 4,
 "nbformat_minor": 5
}
