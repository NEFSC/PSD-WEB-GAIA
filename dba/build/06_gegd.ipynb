{
 "cells": [
  {
   "cell_type": "markdown",
   "id": "02db7fc6-6aed-4ff7-a78e-2c89581d88db",
   "metadata": {},
   "source": [
    "# Whale GEOINT Discovery\n",
    "Builds the `whale_geointdiscovery` table. This table will be populated by pulling in Global Enhanced GEOINT Delivery imagery records from the API.\n",
    "\n",
    "### Import libraries"
   ]
  },
  {
   "cell_type": "code",
   "execution_count": 1,
   "id": "0a44281f-4592-40a0-b263-7d6787458f11",
   "metadata": {},
   "outputs": [],
   "source": [
    "# Basic stack\n",
    "from datetime import datetime\n",
    "\n",
    "# Web Stack\n",
    "import json\n",
    "import requests\n",
    "import getpass\n",
    "\n",
    "# Database stack\n",
    "import sqlite3\n",
    "\n",
    "# Data Science stack\n",
    "import shapely\n",
    "from shapely.geometry import box, Polygon\n",
    "import pandas as pd\n",
    "import geopandas as gpd\n",
    "import folium"
   ]
  },
  {
   "cell_type": "markdown",
   "id": "a50cf2a9-00e2-4a5b-bf80-02e702fa7f01",
   "metadata": {},
   "source": [
    "### User defined variables"
   ]
  },
  {
   "cell_type": "code",
   "execution_count": 2,
   "id": "04e956f8-7592-473a-a724-174709312219",
   "metadata": {},
   "outputs": [],
   "source": [
    "db = \"../../db.sqlite3\""
   ]
  },
  {
   "cell_type": "markdown",
   "id": "f926ce25-4239-49aa-9bae-6d70d8069982",
   "metadata": {},
   "source": [
    "### Drop table\n",
    "This is for demonstration and troubleshooting purposes."
   ]
  },
  {
   "cell_type": "code",
   "execution_count": 3,
   "id": "c3a590dd-7058-4fb5-8485-18705180a2b9",
   "metadata": {},
   "outputs": [],
   "source": [
    "conn = sqlite3.connect(db)\n",
    "conn.enable_load_extension(True)\n",
    "conn.execute(\"SELECT load_extension('mod_spatialite')\")\n",
    "\n",
    "c = conn.cursor()\n",
    "c.execute('''DROP TABLE IF EXISTS whale_geointdiscovery''')\n",
    "conn.commit()\n",
    "conn.close()"
   ]
  },
  {
   "cell_type": "markdown",
   "id": "28d176c5-6826-43ba-9f98-15f3cbabfbbf",
   "metadata": {},
   "source": [
    "### Create `whale_geointdiscovery` table"
   ]
  },
  {
   "cell_type": "code",
   "execution_count": 4,
   "id": "f2687014-ea57-41eb-b196-3bc33ca3941d",
   "metadata": {},
   "outputs": [],
   "source": [
    "conn = sqlite3.connect(db)\n",
    "conn.enable_load_extension(True)\n",
    "conn.execute(\"SELECT load_extension('mod_spatialite')\")\n",
    "# conn.execute(\"\")\n",
    "\n",
    "c = conn.cursor()\n",
    "\n",
    "c.execute('''\n",
    "    CREATE TABLE IF NOT EXISTS whale_geointdiscovery(\n",
    "        id VARCHAR(32) PRIMARY KEY,\n",
    "        aoi_id VARCHAR(4),\n",
    "        legacy_id VARCHAR(16),\n",
    "        factory_order_number VARCHAR(12),\n",
    "        acquisition_date SMALLDATETIME,\n",
    "        source VARCHAR(9),\n",
    "        source_unit VARCHAR(5),\n",
    "        product_type VARCHAR(36),\n",
    "        cloud_cover NUMERIC(3,2),\n",
    "        off_nadir_angle NUMERIC(2, 3),\n",
    "        sun_elevation NUMERIC(3, 3),\n",
    "        sun_azimuth NUMERIC(3, 3),\n",
    "        ground_sample_distance NUMERIC(2, 2),\n",
    "        data_layer VARCHAR(10),\n",
    "        legacy_description VARCHAR(12),\n",
    "        color_band_order VARCHAR(3),\n",
    "        asset_name VARCHAR(8),\n",
    "        per_pixel_x NUMERIC(2, 2),\n",
    "        per_pixel_y NUMERIC(2, 2),\n",
    "        crs_from_pixels VARCHAR(10),\n",
    "        age_days NUMERIC(4, 1),\n",
    "        ingest_date SMALLDATETIME,\n",
    "        company_name VARCHAR(12),\n",
    "        copyright VARCHAR(37),\n",
    "        niirs NUMERIC(1, 1),\n",
    "        geometry POLYGON,\n",
    "        FOREIGN KEY (aoi_id)\n",
    "            REFERENCES aoi(id)\n",
    "    )\n",
    "''')\n",
    "\n",
    "conn.commit()\n",
    "conn.close()"
   ]
  },
  {
   "cell_type": "markdown",
   "id": "ec88653f-32e9-47bf-840c-57affb4cc543",
   "metadata": {},
   "source": [
    "# End"
   ]
  }
 ],
 "metadata": {
  "kernelspec": {
   "display_name": "Python 3 (ipykernel)",
   "language": "python",
   "name": "python3"
  },
  "language_info": {
   "codemirror_mode": {
    "name": "ipython",
    "version": 3
   },
   "file_extension": ".py",
   "mimetype": "text/x-python",
   "name": "python",
   "nbconvert_exporter": "python",
   "pygments_lexer": "ipython3",
   "version": "3.12.8"
  }
 },
 "nbformat": 4,
 "nbformat_minor": 5
}
