{
 "cells": [
  {
   "cell_type": "markdown",
   "id": "125bb98a-3306-41e9-aa1c-8215ce883905",
   "metadata": {},
   "source": [
    "# Initializer\n",
    "Initializes the database and ensures that it is spatially enabled, i.e. SpatiaLite.\n",
    "\n",
    "### Import libraries"
   ]
  },
  {
   "cell_type": "code",
   "execution_count": 1,
   "id": "92416d06-521c-4b8a-bda3-6238a6e90b50",
   "metadata": {},
   "outputs": [],
   "source": [
    "# Database stack\n",
    "import sqlite3"
   ]
  },
  {
   "cell_type": "markdown",
   "id": "d3014754-62cf-4820-8c43-21d9672cf73b",
   "metadata": {},
   "source": [
    "### User defined variables"
   ]
  },
  {
   "cell_type": "code",
   "execution_count": 2,
   "id": "d2f47321-6ace-4e78-94ce-50562b479dcb",
   "metadata": {},
   "outputs": [],
   "source": [
    "db = \"../../db.sqlite3\""
   ]
  },
  {
   "cell_type": "markdown",
   "id": "429fdb35-9281-4941-b772-333f48b9f0b9",
   "metadata": {},
   "source": [
    "### User defined functions"
   ]
  },
  {
   "cell_type": "code",
   "execution_count": 3,
   "id": "8cd49d09-b2fe-43d8-801a-92867d2aa417",
   "metadata": {},
   "outputs": [],
   "source": [
    "conn = sqlite3.connect(db)\n",
    "conn.enable_load_extension(True)\n",
    "conn.execute(\"SELECT load_extension('mod_spatialite')\")\n",
    "\n",
    "c = conn.cursor()\n",
    "c.execute('''SELECT InitSpatialMetaData();''')\n",
    "conn.commit()\n",
    "conn.close()"
   ]
  },
  {
   "cell_type": "markdown",
   "id": "3a0eed8a-0a1f-4051-91a3-deb4d0ef32d0",
   "metadata": {},
   "source": [
    "# End"
   ]
  }
 ],
 "metadata": {
  "kernelspec": {
   "display_name": "Python 3 (ipykernel)",
   "language": "python",
   "name": "python3"
  },
  "language_info": {
   "codemirror_mode": {
    "name": "ipython",
    "version": 3
   },
   "file_extension": ".py",
   "mimetype": "text/x-python",
   "name": "python",
   "nbconvert_exporter": "python",
   "pygments_lexer": "ipython3",
   "version": "3.12.8"
  }
 },
 "nbformat": 4,
 "nbformat_minor": 5
}
