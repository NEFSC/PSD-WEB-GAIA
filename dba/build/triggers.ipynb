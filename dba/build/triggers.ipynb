{
 "cells": [
  {
   "cell_type": "markdown",
   "id": "6a76e551-0a9e-4ba0-8021-7242fb3e57c9",
   "metadata": {},
   "source": [
    "# Triggers\n",
    "Updates the ETL table based on updates to EE, GEGD, and MGP tables\n",
    "\n",
    "### Import libraries"
   ]
  },
  {
   "cell_type": "code",
   "execution_count": 1,
   "id": "c1d1654d-bee8-4120-88db-c71071e61a4a",
   "metadata": {},
   "outputs": [],
   "source": [
    "import sqlite3"
   ]
  },
  {
   "cell_type": "markdown",
   "id": "e394cab9-d63d-4b6c-ba9d-18574573fd7d",
   "metadata": {},
   "source": [
    "### User defined variables"
   ]
  },
  {
   "cell_type": "code",
   "execution_count": 2,
   "id": "061acecd-6c78-4906-a939-7148475bc8be",
   "metadata": {},
   "outputs": [],
   "source": [
    "db = \"../../db.sqlite3\""
   ]
  },
  {
   "cell_type": "markdown",
   "id": "53b9a0f6-d537-4460-a199-0da2f1dc5731",
   "metadata": {},
   "source": [
    "### Drop triggers if they exist"
   ]
  },
  {
   "cell_type": "code",
   "execution_count": 3,
   "id": "0df208c3-b094-415f-8cb4-985a7b0fff1f",
   "metadata": {},
   "outputs": [],
   "source": [
    "conn = sqlite3.connect(db)\n",
    "conn.enable_load_extension(True)\n",
    "conn.execute(\"SELECT load_extension('mod_spatialite')\")\n",
    "c = conn.cursor()\n",
    "\n",
    "c.execute('''DROP TRIGGER IF EXISTS update_etl_after_ee_insert''')\n",
    "c.execute('''DROP TRIGGER IF EXISTS update_etl_after_gegd_insert''')\n",
    "c.execute('''DROP TRIGGER IF EXISTS update_etl_after_mgp_insert''')\n",
    "\n",
    "conn.commit()\n",
    "conn.close()"
   ]
  },
  {
   "cell_type": "markdown",
   "id": "03480292-73a6-448d-9ab0-79de76bf4d98",
   "metadata": {},
   "source": [
    "### Create triggers"
   ]
  },
  {
   "cell_type": "code",
   "execution_count": 4,
   "id": "4a241dfd-0f82-4006-ae31-0a55726a8491",
   "metadata": {},
   "outputs": [],
   "source": [
    "conn = sqlite3.connect(db)\n",
    "conn.enable_load_extension(True)\n",
    "conn.execute(\"SELECT load_extension('mod_spatialite')\")\n",
    "\n",
    "c = conn.cursor()\n",
    "\n",
    "c.execute('''\n",
    "    CREATE TRIGGER update_etl_after_ee_insert\n",
    "        AFTER INSERT ON whale_earthexplorer\n",
    "            BEGIN\n",
    "                INSERT INTO etl (table_name, aoi_id, id, vendor_id, entity_id, vendor, platform, pixel_size_x, pixel_size_y, date, publish_date, geometry)\n",
    "                SELECT\n",
    "                   'EE' AS table_name,\n",
    "                   NEW.aoi_id_id AS aoi_id,\n",
    "                   NEW.catalog_id AS id,\n",
    "                   NEW.vendor_id AS vendor_id,\n",
    "                   NEW.entity_id AS entity_id,\n",
    "                   NEW.vendor as vendor,\n",
    "                   NEW.satellite AS platform,\n",
    "                   NEW.pixel_size_x AS pixel_size_x,\n",
    "                   NEW.pixel_size_y AS pixel_size_y,\n",
    "                   NEW.acquisition_date AS date,\n",
    "                   Date(NEW.publish_date) AS publish_date,\n",
    "                   AsText(NEW.bounds) as geometry;\n",
    "\n",
    "                INSERT INTO trigger_log (trigger_name, action, log_message)\n",
    "                VALUES ('update_etl_after_ee_insert', 'INSERT', 'trigger fired after INSERT on whale_earthexplorer');\n",
    "            END;\n",
    "''')\n",
    "\n",
    "conn.commit()\n",
    "conn.close()"
   ]
  },
  {
   "cell_type": "code",
   "execution_count": 5,
   "id": "08af4cf3-94d4-4e1e-a353-3d557042f76f",
   "metadata": {},
   "outputs": [],
   "source": [
    "conn = sqlite3.connect(db)\n",
    "conn.enable_load_extension(True)\n",
    "conn.execute(\"SELECT load_extension('mod_spatialite')\")\n",
    "\n",
    "c = conn.cursor()\n",
    "\n",
    "c.execute('''\n",
    "    CREATE TRIGGER update_etl_after_gegd_insert\n",
    "        AFTER INSERT ON whale_geointdiscovery\n",
    "            BEGIN\n",
    "                INSERT INTO etl (table_name, aoi_id, id, vendor_id, entity_id, vendor, platform, pixel_size_x, pixel_size_y, date, publish_date, geometry)\n",
    "                SELECT\n",
    "                   'GEGD' AS table_name,\n",
    "                   NEW.aoi_id_id AS aoi_id,\n",
    "                   NEW.legacy_id AS id,\n",
    "                   NULL AS vendor_id,\n",
    "                   NULL AS entity_id,\n",
    "                   NEW.company_name as vendor,\n",
    "                   NEW.source AS platform,\n",
    "                   NEW.per_pixel_x AS pixel_size_x,\n",
    "                   NEW.per_pixel_y AS pixel_size_y,\n",
    "                   Date(NEW.acquisition_date) AS date,\n",
    "                   NULL AS publish_date,\n",
    "                   AsText(NEW.geometry) as geometry;\n",
    "\n",
    "                INSERT INTO trigger_log (trigger_name, action, log_message)\n",
    "                VALUES ('update_etl_after_gegd_insert', 'INSERT', 'trigger fired after INSERT on whale_geointdiscovery');\n",
    "            END;\n",
    "''')\n",
    "\n",
    "conn.commit()\n",
    "conn.close()"
   ]
  },
  {
   "cell_type": "code",
   "execution_count": 6,
   "id": "b7ffabd6-5dac-4c63-acc1-4b619957c05b",
   "metadata": {},
   "outputs": [],
   "source": [
    "conn = sqlite3.connect(db)\n",
    "conn.enable_load_extension(True)\n",
    "conn.execute(\"SELECT load_extension('mod_spatialite')\")\n",
    "\n",
    "c = conn.cursor()\n",
    "\n",
    "c.execute('''\n",
    "    CREATE TRIGGER update_etl_after_mgp_insert\n",
    "        AFTER INSERT ON whale_maxargeospatialplatform\n",
    "            BEGIN\n",
    "                INSERT INTO etl (table_name, aoi_id, id, vendor_id, entity_id, vendor, platform, pixel_size_x, pixel_size_y, date, publish_date, geometry)\n",
    "                SELECT\n",
    "                   'MGP' AS table_name,\n",
    "                   NEW.aoi_id_id AS aoi_id,\n",
    "                   NEW.id AS id,\n",
    "                   NULL AS vendor_id,\n",
    "                   NULL AS entity_id,\n",
    "                   \"Maxar\" AS vendor,\n",
    "                   NEW.platform AS platform,\n",
    "                   NEW.gsd AS pixel_size_x,\n",
    "                   NEW.gsd AS pixel_size_y,\n",
    "                   Date(NEW.datetime) AS date,\n",
    "                   NULL AS publish_date,\n",
    "                   AsText(NEW.bbox) as geometry;\n",
    "\n",
    "                INSERT INTO trigger_log (trigger_name, action, log_message)\n",
    "                VALUES ('update_etl_after_mgp_insert', 'INSERT', 'trigger fired after INSERT on whale_maxargeospatialplatform');\n",
    "            END;\n",
    "''')\n",
    "\n",
    "conn.commit()\n",
    "conn.close()"
   ]
  },
  {
   "cell_type": "markdown",
   "id": "86c1e98c-0090-480f-8594-0b10a88f1cd9",
   "metadata": {},
   "source": [
    "# End"
   ]
  }
 ],
 "metadata": {
  "kernelspec": {
   "display_name": "Python [conda env:gaia] *",
   "language": "python",
   "name": "conda-env-gaia-py"
  },
  "language_info": {
   "codemirror_mode": {
    "name": "ipython",
    "version": 3
   },
   "file_extension": ".py",
   "mimetype": "text/x-python",
   "name": "python",
   "nbconvert_exporter": "python",
   "pygments_lexer": "ipython3",
   "version": "3.11.6"
  }
 },
 "nbformat": 4,
 "nbformat_minor": 5
}
