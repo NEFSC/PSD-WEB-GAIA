{
 "cells": [
  {
   "cell_type": "markdown",
   "id": "6a76e551-0a9e-4ba0-8021-7242fb3e57c9",
   "metadata": {},
   "source": [
    "# Triggers\n",
    "Updates the ETL table based on updates to EE, GEGD, and MGP tables\n",
    "\n",
    "### Import libraries"
   ]
  },
  {
   "cell_type": "code",
   "execution_count": 1,
   "id": "c1d1654d-bee8-4120-88db-c71071e61a4a",
   "metadata": {},
   "outputs": [],
   "source": [
    "import sqlite3"
   ]
  },
  {
   "cell_type": "markdown",
   "id": "e394cab9-d63d-4b6c-ba9d-18574573fd7d",
   "metadata": {},
   "source": [
    "### User defined variables"
   ]
  },
  {
   "cell_type": "code",
   "execution_count": 2,
   "id": "061acecd-6c78-4906-a939-7148475bc8be",
   "metadata": {},
   "outputs": [],
   "source": [
    "db = \"../../db.sqlite3\""
   ]
  },
  {
   "cell_type": "markdown",
   "id": "53b9a0f6-d537-4460-a199-0da2f1dc5731",
   "metadata": {},
   "source": [
    "### Drop triggers if they exist"
   ]
  },
  {
   "cell_type": "code",
   "execution_count": 3,
   "id": "0df208c3-b094-415f-8cb4-985a7b0fff1f",
   "metadata": {},
   "outputs": [],
   "source": [
    "conn = sqlite3.connect(db)\n",
    "conn.enable_load_extension(True)\n",
    "conn.execute(\"SELECT load_extension('mod_spatialite')\")\n",
    "c = conn.cursor()\n",
    "\n",
    "c.execute('''DROP TABLE IF EXISTS trigger_log''')\n",
    "\n",
    "conn.commit()\n",
    "conn.close()"
   ]
  },
  {
   "cell_type": "markdown",
   "id": "03480292-73a6-448d-9ab0-79de76bf4d98",
   "metadata": {},
   "source": [
    "### Create Table"
   ]
  },
  {
   "cell_type": "code",
   "execution_count": 4,
   "id": "4a241dfd-0f82-4006-ae31-0a55726a8491",
   "metadata": {},
   "outputs": [],
   "source": [
    "conn = sqlite3.connect(db)\n",
    "conn.enable_load_extension(True)\n",
    "conn.execute(\"SELECT load_extension('mod_spatialite')\")\n",
    "\n",
    "c = conn.cursor()\n",
    "\n",
    "c.execute('''\n",
    "    CREATE TABLE trigger_log (\n",
    "        id INTEGER PRIMARY KEY AUTOINCREMENT,\n",
    "        trigger_name TEXT,\n",
    "        action TEXT,\n",
    "        log_message TEXT,\n",
    "        log_time TIMESTAMP DEFAULT CURRENT_TIMESTAMP\n",
    "    );\n",
    "''')\n",
    "\n",
    "conn.commit()\n",
    "conn.close()"
   ]
  },
  {
   "cell_type": "markdown",
   "id": "86c1e98c-0090-480f-8594-0b10a88f1cd9",
   "metadata": {},
   "source": [
    "# End"
   ]
  }
 ],
 "metadata": {
  "kernelspec": {
   "display_name": "Python [conda env:gaia] *",
   "language": "python",
   "name": "conda-env-gaia-py"
  },
  "language_info": {
   "codemirror_mode": {
    "name": "ipython",
    "version": 3
   },
   "file_extension": ".py",
   "mimetype": "text/x-python",
   "name": "python",
   "nbconvert_exporter": "python",
   "pygments_lexer": "ipython3",
   "version": "3.11.6"
  }
 },
 "nbformat": 4,
 "nbformat_minor": 5
}
