{
 "cells": [
  {
   "cell_type": "markdown",
   "id": "02db7fc6-6aed-4ff7-a78e-2c89581d88db",
   "metadata": {},
   "source": [
    "# Whale EarthExplorer\n",
    "Builds the `whale_earthexplorer` table. This table will be populated by pulling in USGS EarthExplorer imagery records from the API.\n",
    "\n",
    "### Import libraries"
   ]
  },
  {
   "cell_type": "code",
   "execution_count": 1,
   "id": "0a44281f-4592-40a0-b263-7d6787458f11",
   "metadata": {},
   "outputs": [],
   "source": [
    "# Basic stack\n",
    "from datetime import datetime\n",
    "\n",
    "# Web Stack\n",
    "import json\n",
    "import requests\n",
    "\n",
    "# Database stack\n",
    "import sqlite3\n",
    "\n",
    "# Data Science stack\n",
    "import shapely\n",
    "from shapely.geometry import Polygon\n",
    "import pandas as pd\n",
    "import geopandas as gpd\n",
    "import folium"
   ]
  },
  {
   "cell_type": "markdown",
   "id": "a50cf2a9-00e2-4a5b-bf80-02e702fa7f01",
   "metadata": {},
   "source": [
    "### User defined variables"
   ]
  },
  {
   "cell_type": "code",
   "execution_count": 2,
   "id": "04e956f8-7592-473a-a724-174709312219",
   "metadata": {},
   "outputs": [],
   "source": [
    "db = \"../../db.sqlite3\""
   ]
  },
  {
   "cell_type": "markdown",
   "id": "4c0f2709-32a7-4824-a874-31a3542dadf6",
   "metadata": {},
   "source": [
    "### Drop table\n",
    "This is for demonstration and troubleshooting purposes."
   ]
  },
  {
   "cell_type": "code",
   "execution_count": 3,
   "id": "81e7ee71-e067-4568-95b7-11d9d406148a",
   "metadata": {},
   "outputs": [],
   "source": [
    "conn = sqlite3.connect(db)\n",
    "conn.enable_load_extension(True)\n",
    "conn.execute(\"SELECT load_extension('mod_spatialite')\")\n",
    "\n",
    "c = conn.cursor()\n",
    "c.execute('''DROP TABLE IF EXISTS whale_earthexplorer''')\n",
    "conn.commit()\n",
    "conn.close()"
   ]
  },
  {
   "cell_type": "markdown",
   "id": "f90a9620-d66f-4d24-bc5f-e025ff45011e",
   "metadata": {},
   "source": [
    "### Create `whale_earthexplorer` table"
   ]
  },
  {
   "cell_type": "code",
   "execution_count": 4,
   "id": "a4cb87fa-f3c4-4571-9167-7fe64a8fc2da",
   "metadata": {},
   "outputs": [],
   "source": [
    "conn = sqlite3.connect(db)\n",
    "conn.enable_load_extension(True)\n",
    "conn.execute(\"SELECT load_extension('mod_spatialite')\")\n",
    "\n",
    "c = conn.cursor()\n",
    "\n",
    "c.execute('''\n",
    "    CREATE TABLE IF NOT EXISTS whale_earthexplorer(\n",
    "        entity_id VARCHAR(20) PRIMARY KEY,\n",
    "        aoi_id VARCHAR(4),\n",
    "        catalog_id VARCHAR(16),\n",
    "        acquisition_date DATE,\n",
    "        vendor VARCHAR(18),\n",
    "        vendor_id VARCHAR(39),\n",
    "        cloud_cover NUMERIC(3),\n",
    "        satellite VARCHAR(11),\n",
    "        sensor VARCHAR(3),\n",
    "        number_of_bands NUMERIC(1),\n",
    "        map_projection VARCHAR(3),\n",
    "        datum VARCHAR(5),\n",
    "        processing_level VARCHAR(3),\n",
    "        file_format VARCHAR(7),\n",
    "        license_id NUMERIC(1),\n",
    "        sun_azimuth NUMERIC(3, 2),\n",
    "        sun_elevation NUMERIC(2, 2),\n",
    "        pixel_size_x NUMERIC(2, 2),\n",
    "        pixel_size_y NUMERIC(2, 2),\n",
    "        license_uplift_update DATE,\n",
    "        event VARCHAR(5),\n",
    "        event_date DATE,\n",
    "        date_entered DATE,\n",
    "        center_latitude_dec NUMERIC(2, 6),\n",
    "        center_longitude_dec NUMERIC(3, 6),\n",
    "        thumbnail VARCHAR(76),\n",
    "        publish_date DATETIME2,\n",
    "        bounds POLYGON,\n",
    "        FOREIGN KEY (aoi_id)\n",
    "            REFERENCES aoi(id)\n",
    "    )\n",
    "''')\n",
    "\n",
    "conn.commit()\n",
    "conn.close()"
   ]
  },
  {
   "cell_type": "markdown",
   "id": "ec88653f-32e9-47bf-840c-57affb4cc543",
   "metadata": {},
   "source": [
    "# End"
   ]
  }
 ],
 "metadata": {
  "kernelspec": {
   "display_name": "Python 3 (ipykernel)",
   "language": "python",
   "name": "python3"
  },
  "language_info": {
   "codemirror_mode": {
    "name": "ipython",
    "version": 3
   },
   "file_extension": ".py",
   "mimetype": "text/x-python",
   "name": "python",
   "nbconvert_exporter": "python",
   "pygments_lexer": "ipython3",
   "version": "3.12.8"
  }
 },
 "nbformat": 4,
 "nbformat_minor": 5
}
