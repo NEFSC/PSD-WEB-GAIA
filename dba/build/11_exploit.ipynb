{
 "cells": [
  {
   "cell_type": "markdown",
   "id": "125bb98a-3306-41e9-aa1c-8215ce883905",
   "metadata": {},
   "source": [
    "# Build (EXPLOIT)\n",
    "\n",
    "### Import libraries"
   ]
  },
  {
   "cell_type": "code",
   "execution_count": 1,
   "id": "92416d06-521c-4b8a-bda3-6238a6e90b50",
   "metadata": {},
   "outputs": [],
   "source": [
    "import sqlite3\n",
    "import warnings"
   ]
  },
  {
   "cell_type": "markdown",
   "id": "30a5cd9b-29c1-496b-85ca-d6ab27780ba8",
   "metadata": {},
   "source": [
    "### Ignore warnings"
   ]
  },
  {
   "cell_type": "code",
   "execution_count": 2,
   "id": "c9009fb2-bb0c-40e4-87da-c20477513af6",
   "metadata": {},
   "outputs": [],
   "source": [
    "warnings.filterwarnings(\"ignore\")"
   ]
  },
  {
   "cell_type": "markdown",
   "id": "d3014754-62cf-4820-8c43-21d9672cf73b",
   "metadata": {},
   "source": [
    "### User defined variables"
   ]
  },
  {
   "cell_type": "code",
   "execution_count": 3,
   "id": "d2f47321-6ace-4e78-94ce-50562b479dcb",
   "metadata": {},
   "outputs": [],
   "source": [
    "db = \"../../db.sqlite3\""
   ]
  },
  {
   "cell_type": "markdown",
   "id": "9e48a53d-c654-4f97-83e8-cb62f7bcb823",
   "metadata": {},
   "source": [
    "### Drop table\n",
    "This is for demonstration purposes"
   ]
  },
  {
   "cell_type": "code",
   "execution_count": 4,
   "id": "05c8331b-9f8d-499a-b3a6-9caa53f1a389",
   "metadata": {},
   "outputs": [],
   "source": [
    "conn = sqlite3.connect(db)\n",
    "conn.enable_load_extension(True)\n",
    "conn.execute(\"SELECT load_extension('mod_spatialite')\")\n",
    "\n",
    "c = conn.cursor()\n",
    "c.execute('''DROP TABLE IF EXISTS whale_pointsofinterest''')\n",
    "conn.commit()\n",
    "conn.close()"
   ]
  },
  {
   "cell_type": "markdown",
   "id": "af135cf9-528a-4dbd-8367-c795b4e92622",
   "metadata": {
    "scrolled": true
   },
   "source": [
    "### Create `EXPLOIT` table"
   ]
  },
  {
   "cell_type": "code",
   "execution_count": 5,
   "id": "2cfdea6c-c558-4b3b-8961-0672906cc899",
   "metadata": {},
   "outputs": [],
   "source": [
    "conn = sqlite3.connect(db)\n",
    "conn.enable_load_extension(True)\n",
    "conn.execute(\"SELECT load_extension('mod_spatialite')\")\n",
    "\n",
    "c = conn.cursor()\n",
    "\n",
    "c.execute('''\n",
    "    CREATE TABLE IF NOT EXISTS whale_pointsofinterest(\n",
    "        id INTEGER PRIMARY KEY AUTOINCREMENT,\n",
    "        vendor_id VARCHAR(39),\n",
    "        \n",
    "        sample_idx VARCHAR(40),\n",
    "        area NUMERIC(4, 6),\n",
    "        deviation NUMERIC(4, 6),\n",
    "        epsg_code VARCHAR(6),\n",
    "\n",
    "        status VARCHAR(20),\n",
    "        locked_by INTEGER,\n",
    "        review_count INTEGER,\n",
    "        reviewed_by_users,\n",
    "\n",
    "        email VARCHAR(35),\n",
    "        client_ip VARCHAR(13),\n",
    "        out_time DATE,\n",
    "        in_time DATE,\n",
    "        \n",
    "        classification VARCHAR(20),\n",
    "        confidence VARCHAR(10),\n",
    "        species VARCHAR(50),\n",
    "        comments VARCHAR(500),\n",
    "        \n",
    "        user1_id VARCHAR(30),\n",
    "        user1_classification VARCHAR(20),\n",
    "        user1_comments VARCHAR(500),\n",
    "        user1_species VARCHAR(50),\n",
    "        user1_confidence VARCHAR(10),\n",
    "\n",
    "        user2_id VARCHAR(30),\n",
    "        user2_classification VARCHAR(20),\n",
    "        user2_comments VARCHAR(500),\n",
    "        user2_species VARCHAR(50),\n",
    "        user2_confidence VARCHAR(10),\n",
    "\n",
    "        user3_id VARCHAR(30),\n",
    "        user3_classification VARCHAR(20),\n",
    "        user3_comments VARCHAR(500),\n",
    "        user3_species VARCHAR(50),\n",
    "        user3_confidence VARCHAR(10),\n",
    "\n",
    "        final_review VARCHAR(20),\n",
    "        final_review_date DATE,\n",
    "        final_species VARCHAR(50),\n",
    "        final_confidence VARCHAR(10),\n",
    "\n",
    "        FOREIGN KEY (locked_by)\n",
    "            REFERENCES auth_user(id)\n",
    "    )\n",
    "''')\n",
    "\n",
    "c.execute('''SELECT AddGeometryColumn('whale_pointsofinterest', 'point', 4326, 'POINT')''')\n",
    "\n",
    "conn.commit()\n",
    "conn.close()"
   ]
  },
  {
   "cell_type": "markdown",
   "id": "3a0eed8a-0a1f-4051-91a3-deb4d0ef32d0",
   "metadata": {},
   "source": [
    "# End"
   ]
  }
 ],
 "metadata": {
  "kernelspec": {
   "display_name": "Python 3 (ipykernel)",
   "language": "python",
   "name": "python3"
  },
  "language_info": {
   "codemirror_mode": {
    "name": "ipython",
    "version": 3
   },
   "file_extension": ".py",
   "mimetype": "text/x-python",
   "name": "python",
   "nbconvert_exporter": "python",
   "pygments_lexer": "ipython3",
   "version": "3.12.8"
  }
 },
 "nbformat": 4,
 "nbformat_minor": 5
}
