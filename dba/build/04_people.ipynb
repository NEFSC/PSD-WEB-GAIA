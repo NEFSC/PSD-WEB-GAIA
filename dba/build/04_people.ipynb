{
 "cells": [
  {
   "cell_type": "markdown",
   "id": "02db7fc6-6aed-4ff7-a78e-2c89581d88db",
   "metadata": {},
   "source": [
    "# Build (People)\n",
    "Builds the `people` table from a flat file database using names as the primary key which are assumed to be unique strings for this project. Other notebooks should be used for adding additional records to the table.\n",
    "\n",
    "### Import libraries"
   ]
  },
  {
   "cell_type": "code",
   "execution_count": 1,
   "id": "0a44281f-4592-40a0-b263-7d6787458f11",
   "metadata": {},
   "outputs": [],
   "source": [
    "# Basic stack\n",
    "from datetime import datetime\n",
    "\n",
    "# Web Stack\n",
    "import json\n",
    "import requests\n",
    "\n",
    "# Database stack\n",
    "import sqlite3\n",
    "\n",
    "# Data Science stack\n",
    "import pandas as pd"
   ]
  },
  {
   "cell_type": "markdown",
   "id": "a50cf2a9-00e2-4a5b-bf80-02e702fa7f01",
   "metadata": {},
   "source": [
    "### User defined variables"
   ]
  },
  {
   "cell_type": "code",
   "execution_count": 2,
   "id": "04e956f8-7592-473a-a724-174709312219",
   "metadata": {},
   "outputs": [],
   "source": [
    "db = \"../../db.sqlite3\"\n",
    "people = \"../../data/databases/people.xlsx\""
   ]
  },
  {
   "cell_type": "markdown",
   "id": "e6a52ff4-e06e-43d1-a3f3-d2bc0e8057f1",
   "metadata": {},
   "source": [
    "### User defined functions"
   ]
  },
  {
   "cell_type": "code",
   "execution_count": 3,
   "id": "b053bbc1-945d-40a2-a592-d948589fdd3f",
   "metadata": {},
   "outputs": [],
   "source": [
    "def update_people(c, name, column_name, column_value):\n",
    "    \"\"\" Updates EE table values of a given column with a given value using the \n",
    "            ENTITY ID as the selection criteria for the update.\n",
    "\n",
    "        C - A cursor\n",
    "        ENTITY ID - An entity id from EarthExplorer\n",
    "        COLUMN NAME - A column name within the EE table to be updated\n",
    "        COLUMN VALUE - A value to update the column\n",
    "    \"\"\"\n",
    "    sql_string = f\"UPDATE people SET {column_name} = \\\"{column_value}\\\" WHERE name = \\\"{name}\\\"\"\n",
    "    c.execute(sql_string)\n",
    "\n",
    "\n",
    "def database_activity(db, name, column_name, column_value, activity='update'):\n",
    "    \"\"\" Wrapper function for activities related to database management.\n",
    "            Currently only supports UPDATING based on EarthExplorer \n",
    "            Entity ID values.\n",
    "\n",
    "        Is dependent on the UPDATE EE function above.\n",
    "\n",
    "        DB - A database target\n",
    "        ENTITY ID - An EarthExplorer Entity ID uniquely identifying\n",
    "            the record of interest.\n",
    "        COLUMN NAME - The column to be updated\n",
    "        COLUMN VALUE - The value of the column to be updated\n",
    "        ACTIVITY - The activity to be carried out. Currently only\n",
    "            supports UPDATE.\n",
    "    \"\"\"\n",
    "    conn = sqlite3.connect(db)\n",
    "    conn.enable_load_extension(True)\n",
    "    conn.execute(\"SELECT load_extension('mod_spatialite')\")\n",
    "    c = conn.cursor()\n",
    "\n",
    "    if activity == 'update':\n",
    "        try:\n",
    "            update_people(c, name, column_name, column_value)\n",
    "        except Exception as e:\n",
    "            print(\"Exception: {} was raised for {}\".format(e, row['name']))\n",
    "    else:\n",
    "        print(\"Your activity method is not currently supported.\")\n",
    "    \n",
    "    conn.commit()\n",
    "    conn.close()\n",
    "\n",
    "def insert_person(c, name):\n",
    "    \"\"\" Inserts People into the People Data Table. People's \n",
    "            names are the Primary Key for the datatable since\n",
    "            they are assumed to be unique for this effort.\n",
    "\n",
    "        C - A cursor\n",
    "        PERSON - A Person's Name\n",
    "    \"\"\"\n",
    "    sql_string = f\"INSERT INTO people(name) VALUES (\\\"{name}\\\")\"\n",
    "    c.execute(sql_string)"
   ]
  },
  {
   "cell_type": "markdown",
   "id": "e1ac63e2-e1cd-4c0c-a4d9-f89759709c67",
   "metadata": {},
   "source": [
    "### Load data"
   ]
  },
  {
   "cell_type": "code",
   "execution_count": 4,
   "id": "5bcb1026-86eb-4ea0-a63b-7270872c4e47",
   "metadata": {},
   "outputs": [
    {
     "data": {
      "text/html": [
       "<div>\n",
       "<style scoped>\n",
       "    .dataframe tbody tr th:only-of-type {\n",
       "        vertical-align: middle;\n",
       "    }\n",
       "\n",
       "    .dataframe tbody tr th {\n",
       "        vertical-align: top;\n",
       "    }\n",
       "\n",
       "    .dataframe thead th {\n",
       "        text-align: right;\n",
       "    }\n",
       "</style>\n",
       "<table border=\"1\" class=\"dataframe\">\n",
       "  <thead>\n",
       "    <tr style=\"text-align: right;\">\n",
       "      <th></th>\n",
       "      <th>name</th>\n",
       "      <th>email</th>\n",
       "      <th>organization</th>\n",
       "      <th>sub_organization</th>\n",
       "      <th>location</th>\n",
       "    </tr>\n",
       "  </thead>\n",
       "  <tbody>\n",
       "    <tr>\n",
       "      <th>0</th>\n",
       "      <td>Christin Khan</td>\n",
       "      <td>christin.khan@noaa.gov</td>\n",
       "      <td>NOAA</td>\n",
       "      <td>Northeast Fisheries Science Center</td>\n",
       "      <td>Woods Hole, Massachusetts</td>\n",
       "    </tr>\n",
       "    <tr>\n",
       "      <th>1</th>\n",
       "      <td>Tim White</td>\n",
       "      <td>NaN</td>\n",
       "      <td>NaN</td>\n",
       "      <td>NaN</td>\n",
       "      <td>NaN</td>\n",
       "    </tr>\n",
       "    <tr>\n",
       "      <th>2</th>\n",
       "      <td>Kim Goetz</td>\n",
       "      <td>kim.goetz@noaa.gov</td>\n",
       "      <td>NOAA</td>\n",
       "      <td>Alaska Fisheries Science Center</td>\n",
       "      <td>Seattle, Washington</td>\n",
       "    </tr>\n",
       "    <tr>\n",
       "      <th>3</th>\n",
       "      <td>Tyler Aldrich</td>\n",
       "      <td>tyler.aldrich@noaa.gov</td>\n",
       "      <td>NOAA Officer Corps</td>\n",
       "      <td>Northeast Fisheries Science Center</td>\n",
       "      <td>Woods Hole, Massachusetts</td>\n",
       "    </tr>\n",
       "    <tr>\n",
       "      <th>4</th>\n",
       "      <td>Meredith Sackett</td>\n",
       "      <td>meredith.sackett@noaa.gov</td>\n",
       "      <td>NOAA</td>\n",
       "      <td>Northeast Fisheries Science Center</td>\n",
       "      <td>Woods Hole, Massachusetts</td>\n",
       "    </tr>\n",
       "  </tbody>\n",
       "</table>\n",
       "</div>"
      ],
      "text/plain": [
       "               name                      email        organization  \\\n",
       "0     Christin Khan     christin.khan@noaa.gov                NOAA   \n",
       "1         Tim White                        NaN                 NaN   \n",
       "2         Kim Goetz         kim.goetz@noaa.gov                NOAA   \n",
       "3     Tyler Aldrich     tyler.aldrich@noaa.gov  NOAA Officer Corps   \n",
       "4  Meredith Sackett  meredith.sackett@noaa.gov                NOAA   \n",
       "\n",
       "                     sub_organization                   location  \n",
       "0  Northeast Fisheries Science Center  Woods Hole, Massachusetts  \n",
       "1                                 NaN                        NaN  \n",
       "2     Alaska Fisheries Science Center        Seattle, Washington  \n",
       "3  Northeast Fisheries Science Center  Woods Hole, Massachusetts  \n",
       "4  Northeast Fisheries Science Center  Woods Hole, Massachusetts  "
      ]
     },
     "execution_count": 4,
     "metadata": {},
     "output_type": "execute_result"
    }
   ],
   "source": [
    "df = pd.read_excel(people)\n",
    "df.head()"
   ]
  },
  {
   "cell_type": "markdown",
   "id": "4c0f2709-32a7-4824-a874-31a3542dadf6",
   "metadata": {},
   "source": [
    "### Drop table\n",
    "This is for demonstration purposes"
   ]
  },
  {
   "cell_type": "code",
   "execution_count": 5,
   "id": "81e7ee71-e067-4568-95b7-11d9d406148a",
   "metadata": {},
   "outputs": [],
   "source": [
    "conn = sqlite3.connect(db)\n",
    "conn.enable_load_extension(True)\n",
    "conn.execute(\"SELECT load_extension('mod_spatialite')\")\n",
    "\n",
    "c = conn.cursor()\n",
    "c.execute('''DROP TABLE IF EXISTS people''')\n",
    "conn.commit()\n",
    "conn.close()"
   ]
  },
  {
   "cell_type": "markdown",
   "id": "f90a9620-d66f-4d24-bc5f-e025ff45011e",
   "metadata": {},
   "source": [
    "### Create `people` table"
   ]
  },
  {
   "cell_type": "code",
   "execution_count": 6,
   "id": "a4cb87fa-f3c4-4571-9167-7fe64a8fc2da",
   "metadata": {},
   "outputs": [],
   "source": [
    "conn = sqlite3.connect(db)\n",
    "conn.enable_load_extension(True)\n",
    "conn.execute(\"SELECT load_extension('mod_spatialite')\")\n",
    "\n",
    "c = conn.cursor()\n",
    "\n",
    "c.execute('''\n",
    "    CREATE TABLE IF NOT EXISTS people(\n",
    "        id INTEGER PRIMARY KEY AUTOINCREMENT,\n",
    "        name VARCHAR(20),\n",
    "        email VARCHAR(30),\n",
    "        organization VARCHAR(25),\n",
    "        sub_organization VARCHAR(50),\n",
    "        location VARCHAR(50)\n",
    "    )\n",
    "''')\n",
    "\n",
    "conn.commit()\n",
    "conn.close()"
   ]
  },
  {
   "cell_type": "markdown",
   "id": "9d7b9988-6850-44d6-b96d-c61e43666f42",
   "metadata": {},
   "source": [
    "### Insert EarthExplorer Entity IDs into `ee` table"
   ]
  },
  {
   "cell_type": "code",
   "execution_count": 7,
   "id": "f9193a28-40a6-430d-ae78-b5ada3b3a669",
   "metadata": {},
   "outputs": [
    {
     "name": "stdout",
     "output_type": "stream",
     "text": [
      "Done inserting people into table!\n"
     ]
    }
   ],
   "source": [
    "conn = sqlite3.connect(db)\n",
    "conn.enable_load_extension(True)\n",
    "conn.execute(\"SELECT load_extension('mod_spatialite')\")\n",
    "\n",
    "c = conn.cursor()\n",
    "\n",
    "for i, row in df.iterrows():\n",
    "    try:\n",
    "        insert_person(c, row['name'])\n",
    "    except Exception as e:\n",
    "        print(\"Exception: {} was raised for {}\".format(e, row['name']))\n",
    "print(\"Done inserting people into table!\")\n",
    "conn.commit()\n",
    "conn.close()"
   ]
  },
  {
   "cell_type": "markdown",
   "id": "4ad1e04d-9ee4-49d7-a436-736ab60faa45",
   "metadata": {},
   "source": [
    "### Update `people` records from spreadsheet"
   ]
  },
  {
   "cell_type": "code",
   "execution_count": 8,
   "id": "635fab25-a2d2-4b10-866d-a878dd541e3d",
   "metadata": {},
   "outputs": [
    {
     "name": "stdout",
     "output_type": "stream",
     "text": [
      "Updating information for: Christin Khan\n",
      "Updating information for: Tim White\n",
      "Updating information for: Kim Goetz\n",
      "Updating information for: Tyler Aldrich\n",
      "Updating information for: Meredith Sackett\n",
      "Updating information for: Kathleen Leonard\n",
      "Updating information for: Davida Streett\n"
     ]
    }
   ],
   "source": [
    "columns = df.columns[1:]\n",
    "for i, row in df.iterrows():\n",
    "    pid = row['name']\n",
    "    print(\"Updating information for: {}\".format(pid))\n",
    "    for column in columns:\n",
    "        database_activity(db, pid, column, row[column])"
   ]
  },
  {
   "cell_type": "markdown",
   "id": "ec88653f-32e9-47bf-840c-57affb4cc543",
   "metadata": {},
   "source": [
    "# End"
   ]
  }
 ],
 "metadata": {
  "kernelspec": {
   "display_name": "Python 3 (ipykernel)",
   "language": "python",
   "name": "python3"
  },
  "language_info": {
   "codemirror_mode": {
    "name": "ipython",
    "version": 3
   },
   "file_extension": ".py",
   "mimetype": "text/x-python",
   "name": "python",
   "nbconvert_exporter": "python",
   "pygments_lexer": "ipython3",
   "version": "3.12.8"
  }
 },
 "nbformat": 4,
 "nbformat_minor": 5
}
