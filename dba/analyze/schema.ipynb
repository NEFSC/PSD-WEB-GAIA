{
 "cells": [
  {
   "cell_type": "markdown",
   "id": "845c6284-7c91-42bf-ae1c-34047c46a1e9",
   "metadata": {},
   "source": [
    "# Schema\n",
    "Review some portions of the database schema\n",
    "\n",
    "### Import libraries"
   ]
  },
  {
   "cell_type": "code",
   "execution_count": 11,
   "id": "77e282d7-cdef-4b0b-9040-46786db827a6",
   "metadata": {},
   "outputs": [],
   "source": [
    "import os\n",
    "import sqlite3\n",
    "from sqlalchemy import create_engine, event, MetaData, Table\n",
    "from sqlalchemy_schemadisplay import create_schema_graph\n",
    "import pandas as pd"
   ]
  },
  {
   "cell_type": "markdown",
   "id": "7383d354-ff4a-4a95-acf6-3bb091fb23e1",
   "metadata": {},
   "source": [
    "### User defined variables"
   ]
  },
  {
   "cell_type": "code",
   "execution_count": 2,
   "id": "546b608d-20e3-4b26-828f-51cb74bbf08f",
   "metadata": {},
   "outputs": [],
   "source": [
    "db_alchemy = \"sqlite:///../../db.sqlite3\"\n",
    "out_file = '../outputs/graph.png'"
   ]
  },
  {
   "cell_type": "markdown",
   "id": "0a633674-dfde-4998-a265-4ae3d2b537f3",
   "metadata": {},
   "source": [
    "### Show Tables"
   ]
  },
  {
   "cell_type": "code",
   "execution_count": 9,
   "id": "310fea0f-22ae-48ed-844c-3832fb801c07",
   "metadata": {},
   "outputs": [
    {
     "name": "stdout",
     "output_type": "stream",
     "text": [
      "Tables reflected:\n",
      "- ElementaryGeometries\n",
      "- ISO_metadata\n",
      "- ISO_metadata_reference\n",
      "- KNN\n",
      "- SE_external_graphics\n",
      "- SE_fonts\n",
      "- SE_raster_styled_layers\n",
      "- raster_coverages\n",
      "- spatial_ref_sys\n",
      "- data_licenses\n",
      "- SE_raster_styles\n",
      "- SE_vector_styled_layers\n",
      "- vector_coverages\n",
      "- geometry_columns\n",
      "- views_geometry_columns\n",
      "- virts_geometry_columns\n",
      "- SE_vector_styles\n",
      "- SpatialIndex\n",
      "- auth_group\n",
      "- auth_group_permissions\n",
      "- auth_permission\n",
      "- django_content_type\n",
      "- auth_user\n",
      "- auth_user_groups\n",
      "- auth_user_user_permissions\n",
      "- django_admin_log\n",
      "- django_migrations\n",
      "- django_q_ormq\n",
      "- django_q_schedule\n",
      "- django_q_task\n",
      "- django_session\n",
      "- etl\n",
      "- geometry_columns_auth\n",
      "- geometry_columns_field_infos\n",
      "- geometry_columns_statistics\n",
      "- geometry_columns_time\n",
      "- idx_ISO_metadata_geometry\n",
      "- idx_ISO_metadata_geometry_node\n",
      "- idx_ISO_metadata_geometry_parent\n",
      "- idx_ISO_metadata_geometry_rowid\n",
      "- idx_whale_areaofinterest_geometry\n",
      "- idx_whale_areaofinterest_geometry_node\n",
      "- idx_whale_areaofinterest_geometry_parent\n",
      "- idx_whale_areaofinterest_geometry_rowid\n",
      "- idx_whale_earthexplorer_bounds\n",
      "- idx_whale_earthexplorer_bounds_node\n",
      "- idx_whale_earthexplorer_bounds_parent\n",
      "- idx_whale_earthexplorer_bounds_rowid\n",
      "- idx_whale_geointdiscovery_geometry\n",
      "- idx_whale_geointdiscovery_geometry_node\n",
      "- idx_whale_geointdiscovery_geometry_parent\n",
      "- idx_whale_geointdiscovery_geometry_rowid\n",
      "- idx_whale_maxargeospatialplatform_bbox\n",
      "- idx_whale_maxargeospatialplatform_bbox_node\n",
      "- idx_whale_maxargeospatialplatform_bbox_parent\n",
      "- idx_whale_maxargeospatialplatform_bbox_rowid\n",
      "- idx_whale_pointsofinterest_point\n",
      "- idx_whale_pointsofinterest_point_node\n",
      "- idx_whale_pointsofinterest_point_parent\n",
      "- idx_whale_pointsofinterest_point_rowid\n",
      "- networks\n",
      "- raster_coverages_keyword\n",
      "- raster_coverages_srid\n",
      "- rl2map_configurations\n",
      "- spatial_ref_sys_aux\n",
      "- spatialite_history\n",
      "- sql_statements_log\n",
      "- stored_procedures\n",
      "- stored_variables\n",
      "- topologies\n",
      "- trigger_log\n",
      "- vector_coverages_keyword\n",
      "- vector_coverages_srid\n",
      "- views_geometry_columns_auth\n",
      "- views_geometry_columns_field_infos\n",
      "- views_geometry_columns_statistics\n",
      "- virts_geometry_columns_auth\n",
      "- virts_geometry_columns_field_infos\n",
      "- virts_geometry_columns_statistics\n",
      "- whale_areaofinterest\n",
      "- whale_dummy\n",
      "- whale_earthexplorer\n",
      "- whale_geointdiscovery\n",
      "- whale_maxargeospatialplatform\n",
      "- whale_people\n",
      "- whale_pointsofinterest\n",
      "- whale_pointsofinterest_reviewed_by_users\n",
      "- whale_species\n",
      "- whale_targets\n",
      "- whale_tasking\n",
      "- wms_getcapabilities\n",
      "- wms_getmap\n",
      "- wms_ref_sys\n",
      "- wms_settings\n"
     ]
    }
   ],
   "source": [
    "engine = create_engine(db_alchemy)\n",
    "metadata = MetaData()\n",
    "\n",
    "@event.listens_for(engine, 'connect')\n",
    "def load_spatialite(dbapi_conn, connection_record):\n",
    "    dbapi_conn.enable_load_extension(True)\n",
    "    try:\n",
    "        dbapi_conn.execute(\"SELECT load_extension('mod_spatialite')\")\n",
    "    except sqlite3.OperationalError as e:\n",
    "        print(\"Error loading mod_spatialite:\", e)\n",
    "\n",
    "metadata.reflect(engine)\n",
    "\n",
    "print(\"Tables reflected:\")\n",
    "for table_name in metadata.tables.keys():\n",
    "    print(f\"- {table_name}\")"
   ]
  },
  {
   "cell_type": "code",
   "execution_count": 21,
   "id": "44800acc-bd32-41c6-a507-ef02f15c3564",
   "metadata": {},
   "outputs": [
    {
     "data": {
      "text/html": [
       "<div>\n",
       "<style scoped>\n",
       "    .dataframe tbody tr th:only-of-type {\n",
       "        vertical-align: middle;\n",
       "    }\n",
       "\n",
       "    .dataframe tbody tr th {\n",
       "        vertical-align: top;\n",
       "    }\n",
       "\n",
       "    .dataframe thead th {\n",
       "        text-align: right;\n",
       "    }\n",
       "</style>\n",
       "<table border=\"1\" class=\"dataframe\">\n",
       "  <thead>\n",
       "    <tr style=\"text-align: right;\">\n",
       "      <th></th>\n",
       "      <th>id</th>\n",
       "      <th>test</th>\n",
       "    </tr>\n",
       "  </thead>\n",
       "  <tbody>\n",
       "  </tbody>\n",
       "</table>\n",
       "</div>"
      ],
      "text/plain": [
       "Empty DataFrame\n",
       "Columns: [id, test]\n",
       "Index: []"
      ]
     },
     "execution_count": 21,
     "metadata": {},
     "output_type": "execute_result"
    }
   ],
   "source": [
    "pdf = pd.read_sql_table('whale_dummy', con=engine)\n",
    "pdf.head()"
   ]
  },
  {
   "cell_type": "code",
   "execution_count": 14,
   "id": "4e01ed21-60a5-4805-9e8d-74304adfc5ef",
   "metadata": {},
   "outputs": [
    {
     "data": {
      "text/plain": [
       "Index(['entity_id', 'catalog_id', 'acquisition_date', 'vendor', 'vendor_id',\n",
       "       'cloud_cover', 'satellite', 'sensor', 'number_of_bands',\n",
       "       'map_projection', 'datum', 'processing_level', 'file_format',\n",
       "       'license_id', 'sun_azimuth', 'pixel_size_x', 'pixel_size_y',\n",
       "       'license_uplift_update', 'event', 'event_date', 'date_entered',\n",
       "       'center_latitude_dec', 'center_longitude_dec', 'thumbnail',\n",
       "       'publish_date', 'aoi_id_id', 'sun_elevation', 'bounds'],\n",
       "      dtype='object')"
      ]
     },
     "execution_count": 14,
     "metadata": {},
     "output_type": "execute_result"
    }
   ],
   "source": [
    "pdf.columns"
   ]
  },
  {
   "cell_type": "markdown",
   "id": "7ca98688-8331-4b04-afce-d9e3623c6245",
   "metadata": {},
   "source": [
    "# End"
   ]
  }
 ],
 "metadata": {
  "kernelspec": {
   "display_name": "Python 3 (ipykernel)",
   "language": "python",
   "name": "python3"
  },
  "language_info": {
   "codemirror_mode": {
    "name": "ipython",
    "version": 3
   },
   "file_extension": ".py",
   "mimetype": "text/x-python",
   "name": "python",
   "nbconvert_exporter": "python",
   "pygments_lexer": "ipython3",
   "version": "3.12.8"
  }
 },
 "nbformat": 4,
 "nbformat_minor": 5
}
