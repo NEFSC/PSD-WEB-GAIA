{
 "cells": [
  {
   "cell_type": "markdown",
   "id": "02db7fc6-6aed-4ff7-a78e-2c89581d88db",
   "metadata": {},
   "source": [
    "# Update (Triggers)\n",
    "Updates the ETL table based on updates to EE, GEGD, and MGP tables\n",
    "\n",
    "### Import libraries"
   ]
  },
  {
   "cell_type": "code",
   "execution_count": 1,
   "id": "0a44281f-4592-40a0-b263-7d6787458f11",
   "metadata": {},
   "outputs": [],
   "source": [
    "# Database stack\n",
    "import sqlite3"
   ]
  },
  {
   "cell_type": "markdown",
   "id": "a50cf2a9-00e2-4a5b-bf80-02e702fa7f01",
   "metadata": {},
   "source": [
    "### User defined variables"
   ]
  },
  {
   "cell_type": "code",
   "execution_count": 2,
   "id": "04e956f8-7592-473a-a724-174709312219",
   "metadata": {},
   "outputs": [],
   "source": [
    "db = \"C:/gis/gaia/data/databases/gaia.db\""
   ]
  },
  {
   "cell_type": "code",
   "execution_count": 3,
   "id": "62337927-54a6-4403-953e-eb15b35e09b5",
   "metadata": {},
   "outputs": [],
   "source": [
    "conn = sqlite3.connect(db)\n",
    "conn.enable_load_extension(True)\n",
    "conn.execute(\"SELECT load_extension('mod_spatialite')\")\n",
    "\n",
    "c = conn.cursor()\n",
    "c.execute('''DROP TRIGGER IF EXISTS update_etl_after_ee_insert''')\n",
    "conn.commit()\n",
    "conn.close()"
   ]
  },
  {
   "cell_type": "code",
   "execution_count": 8,
   "id": "63c1681b-a0d9-49ee-83c3-9dfaf8a9f432",
   "metadata": {},
   "outputs": [],
   "source": [
    "conn = sqlite3.connect(db)\n",
    "conn.enable_load_extension(True)\n",
    "conn.execute(\"SELECT load_extension('mod_spatialite')\")\n",
    "\n",
    "c = conn.cursor()\n",
    "\n",
    "c.execute('''\n",
    "    CREATE TRIGGER update_etl_after_ee_insert\n",
    "        AFTER INSERT ON ee\n",
    "            BEGIN\n",
    "                INSERT INTO etl (table_name, id, vendor_id, entity_id, date, geometry)\n",
    "                VALUES ('EE', NEW.catalog_id, NEW.vendor_id, NEW.entity_id, NEW.acquisition_date, AsText(NEW.bounds));\n",
    "            END;\n",
    "''')\n",
    "\n",
    "conn.commit()\n",
    "conn.close()"
   ]
  },
  {
   "cell_type": "code",
   "execution_count": 4,
   "id": "9e323cc0-aaa7-41be-b9a0-d486b76fee76",
   "metadata": {},
   "outputs": [
    {
     "ename": "OperationalError",
     "evalue": "near \"END\": syntax error",
     "output_type": "error",
     "traceback": [
      "\u001b[1;31m---------------------------------------------------------------------------\u001b[0m",
      "\u001b[1;31mOperationalError\u001b[0m                          Traceback (most recent call last)",
      "Cell \u001b[1;32mIn[4], line 7\u001b[0m\n\u001b[0;32m      3\u001b[0m conn\u001b[38;5;241m.\u001b[39mexecute(\u001b[38;5;124m\"\u001b[39m\u001b[38;5;124mSELECT load_extension(\u001b[39m\u001b[38;5;124m'\u001b[39m\u001b[38;5;124mmod_spatialite\u001b[39m\u001b[38;5;124m'\u001b[39m\u001b[38;5;124m)\u001b[39m\u001b[38;5;124m\"\u001b[39m)\n\u001b[0;32m      5\u001b[0m c \u001b[38;5;241m=\u001b[39m conn\u001b[38;5;241m.\u001b[39mcursor()\n\u001b[1;32m----> 7\u001b[0m \u001b[43mc\u001b[49m\u001b[38;5;241;43m.\u001b[39;49m\u001b[43mexecute\u001b[49m\u001b[43m(\u001b[49m\u001b[38;5;124;43m'''\u001b[39;49m\n\u001b[0;32m      8\u001b[0m \u001b[38;5;124;43m    CREATE TRIGGER update_etl_after_insert\u001b[39;49m\n\u001b[0;32m      9\u001b[0m \u001b[38;5;124;43m        AFTER INSERT ON ee\u001b[39;49m\n\u001b[0;32m     10\u001b[0m \u001b[38;5;124;43m            BEGIN\u001b[39;49m\n\u001b[0;32m     11\u001b[0m \u001b[38;5;124;43m                INSERT INTO etl (table_name, id, vendor_id, entity_id, date, geometry)\u001b[39;49m\n\u001b[0;32m     12\u001b[0m \u001b[38;5;124;43m                SELECT\u001b[39;49m\n\u001b[0;32m     13\u001b[0m \u001b[38;5;124;43m                   \u001b[39;49m\u001b[38;5;124;43m'\u001b[39;49m\u001b[38;5;124;43mEE\u001b[39;49m\u001b[38;5;124;43m'\u001b[39;49m\u001b[38;5;124;43m AS table_name,\u001b[39;49m\n\u001b[0;32m     14\u001b[0m \u001b[38;5;124;43m                   e.catalog_id AS id,\u001b[39;49m\n\u001b[0;32m     15\u001b[0m \u001b[38;5;124;43m                   e.vendor_id AS vendor_id,\u001b[39;49m\n\u001b[0;32m     16\u001b[0m \u001b[38;5;124;43m                   e.entity_id AS entity_id,\u001b[39;49m\n\u001b[0;32m     17\u001b[0m \u001b[38;5;124;43m                   e.acquisition_date AS date,\u001b[39;49m\n\u001b[0;32m     18\u001b[0m \u001b[38;5;124;43m                   AsText(e.bounds) as geometry\u001b[39;49m\n\u001b[0;32m     19\u001b[0m \u001b[38;5;124;43m            END;\u001b[39;49m\n\u001b[0;32m     20\u001b[0m \u001b[38;5;124;43m            \u001b[39;49m\n\u001b[0;32m     21\u001b[0m \u001b[38;5;124;43m        AFTER INSERT ON gegd\u001b[39;49m\n\u001b[0;32m     22\u001b[0m \u001b[38;5;124;43m            BEGIN\u001b[39;49m\n\u001b[0;32m     23\u001b[0m \u001b[38;5;124;43m                INSERT INTO etl (table_name, id, vendor_id, entity_id, date, geometry)\u001b[39;49m\n\u001b[0;32m     24\u001b[0m \u001b[38;5;124;43m                SELECT\u001b[39;49m\n\u001b[0;32m     25\u001b[0m \u001b[38;5;124;43m                   \u001b[39;49m\u001b[38;5;124;43m'\u001b[39;49m\u001b[38;5;124;43mGEGD\u001b[39;49m\u001b[38;5;124;43m'\u001b[39;49m\u001b[38;5;124;43m AS table_name,\u001b[39;49m\n\u001b[0;32m     26\u001b[0m \u001b[38;5;124;43m                   g.legacy_id AS id,\u001b[39;49m\n\u001b[0;32m     27\u001b[0m \u001b[38;5;124;43m                   NULL AS vendor_id,\u001b[39;49m\n\u001b[0;32m     28\u001b[0m \u001b[38;5;124;43m                   NULL AS entity_id,\u001b[39;49m\n\u001b[0;32m     29\u001b[0m \u001b[38;5;124;43m                   Date(g.acquisition_date) AS date,\u001b[39;49m\n\u001b[0;32m     30\u001b[0m \u001b[38;5;124;43m                   AsText(g.geometry) AS geometry\u001b[39;49m\n\u001b[0;32m     31\u001b[0m \u001b[38;5;124;43m            END;\u001b[39;49m\n\u001b[0;32m     32\u001b[0m \n\u001b[0;32m     33\u001b[0m \u001b[38;5;124;43m        AFTER INSERT ON mgp\u001b[39;49m\n\u001b[0;32m     34\u001b[0m \u001b[38;5;124;43m            BEGIN\u001b[39;49m\n\u001b[0;32m     35\u001b[0m \u001b[38;5;124;43m                INSERT INTO etl (table_name, id, vendor_id, entity_id, date, geometry)\u001b[39;49m\n\u001b[0;32m     36\u001b[0m \u001b[38;5;124;43m                SELECT\u001b[39;49m\n\u001b[0;32m     37\u001b[0m \u001b[38;5;124;43m                   \u001b[39;49m\u001b[38;5;124;43m'\u001b[39;49m\u001b[38;5;124;43mmgp\u001b[39;49m\u001b[38;5;124;43m'\u001b[39;49m\u001b[38;5;124;43m AS table_name,\u001b[39;49m\n\u001b[0;32m     38\u001b[0m \u001b[38;5;124;43m                   m.id AS id,\u001b[39;49m\n\u001b[0;32m     39\u001b[0m \u001b[38;5;124;43m                   NULL AS vendor_id,\u001b[39;49m\n\u001b[0;32m     40\u001b[0m \u001b[38;5;124;43m                   NULL AS entity_id,\u001b[39;49m\n\u001b[0;32m     41\u001b[0m \u001b[38;5;124;43m                   Date(datetime) AS date,\u001b[39;49m\n\u001b[0;32m     42\u001b[0m \u001b[38;5;124;43m                   AsText(m.bbox) AS geometry\u001b[39;49m\n\u001b[0;32m     43\u001b[0m \u001b[38;5;124;43m            END;\u001b[39;49m\n\u001b[0;32m     44\u001b[0m \u001b[38;5;124;43m'''\u001b[39;49m\u001b[43m)\u001b[49m\n\u001b[0;32m     46\u001b[0m conn\u001b[38;5;241m.\u001b[39mcommit()\n\u001b[0;32m     47\u001b[0m conn\u001b[38;5;241m.\u001b[39mclose()\n",
      "\u001b[1;31mOperationalError\u001b[0m: near \"END\": syntax error"
     ]
    }
   ],
   "source": [
    "conn = sqlite3.connect(db)\n",
    "conn.enable_load_extension(True)\n",
    "conn.execute(\"SELECT load_extension('mod_spatialite')\")\n",
    "\n",
    "c = conn.cursor()\n",
    "\n",
    "c.execute('''\n",
    "    CREATE TRIGGER update_etl_after_insert\n",
    "        AFTER INSERT ON ee\n",
    "            BEGIN\n",
    "                INSERT INTO etl (table_name, id, vendor_id, entity_id, date, geometry)\n",
    "                SELECT\n",
    "                   'EE' AS table_name,\n",
    "                   e.catalog_id AS id,\n",
    "                   e.vendor_id AS vendor_id,\n",
    "                   e.entity_id AS entity_id,\n",
    "                   e.acquisition_date AS date,\n",
    "                   AsText(e.bounds) as geometry\n",
    "            END;\n",
    "            \n",
    "        AFTER INSERT ON gegd\n",
    "            BEGIN\n",
    "                INSERT INTO etl (table_name, id, vendor_id, entity_id, date, geometry)\n",
    "                SELECT\n",
    "                   'GEGD' AS table_name,\n",
    "                   g.legacy_id AS id,\n",
    "                   NULL AS vendor_id,\n",
    "                   NULL AS entity_id,\n",
    "                   Date(g.acquisition_date) AS date,\n",
    "                   AsText(g.geometry) AS geometry\n",
    "            END;\n",
    "\n",
    "        AFTER INSERT ON mgp\n",
    "            BEGIN\n",
    "                INSERT INTO etl (table_name, id, vendor_id, entity_id, date, geometry)\n",
    "                SELECT\n",
    "                   'mgp' AS table_name,\n",
    "                   m.id AS id,\n",
    "                   NULL AS vendor_id,\n",
    "                   NULL AS entity_id,\n",
    "                   Date(datetime) AS date,\n",
    "                   AsText(m.bbox) AS geometry\n",
    "            END;\n",
    "''')\n",
    "\n",
    "conn.commit()\n",
    "conn.close()"
   ]
  },
  {
   "cell_type": "code",
   "execution_count": null,
   "id": "a5a18b90-de18-4ef1-a9e1-1387e2e95930",
   "metadata": {},
   "outputs": [],
   "source": []
  },
  {
   "cell_type": "code",
   "execution_count": null,
   "id": "0a46fcdf-7d92-479e-b1de-20859fa2ea16",
   "metadata": {},
   "outputs": [],
   "source": []
  },
  {
   "cell_type": "code",
   "execution_count": null,
   "id": "b0424c21-8ef9-459a-94fd-66219b9e6206",
   "metadata": {},
   "outputs": [],
   "source": []
  },
  {
   "cell_type": "markdown",
   "id": "4571c781-0bad-48c5-b56a-2ee3b6477150",
   "metadata": {},
   "source": [
    "### Log-in to EarthExplorer\n",
    "Hint: !"
   ]
  },
  {
   "cell_type": "code",
   "execution_count": 4,
   "id": "20deecd6-3e04-4587-a79b-5a7623ef74ff",
   "metadata": {},
   "outputs": [
    {
     "name": "stdin",
     "output_type": "stream",
     "text": [
      "Enter your username:   johnwallx\n",
      "Enter your password:   ········\n"
     ]
    },
    {
     "ename": "JSONDecodeError",
     "evalue": "Expecting value: line 1 column 1 (char 0)",
     "output_type": "error",
     "traceback": [
      "\u001b[1;31m---------------------------------------------------------------------------\u001b[0m",
      "\u001b[1;31mJSONDecodeError\u001b[0m                           Traceback (most recent call last)",
      "File \u001b[1;32m~\\AppData\\Local\\anaconda3\\envs\\gaia\\Lib\\site-packages\\requests\\models.py:971\u001b[0m, in \u001b[0;36mResponse.json\u001b[1;34m(self, **kwargs)\u001b[0m\n\u001b[0;32m    970\u001b[0m \u001b[38;5;28;01mtry\u001b[39;00m:\n\u001b[1;32m--> 971\u001b[0m     \u001b[38;5;28;01mreturn\u001b[39;00m \u001b[43mcomplexjson\u001b[49m\u001b[38;5;241;43m.\u001b[39;49m\u001b[43mloads\u001b[49m\u001b[43m(\u001b[49m\u001b[38;5;28;43mself\u001b[39;49m\u001b[38;5;241;43m.\u001b[39;49m\u001b[43mtext\u001b[49m\u001b[43m,\u001b[49m\u001b[43m \u001b[49m\u001b[38;5;241;43m*\u001b[39;49m\u001b[38;5;241;43m*\u001b[39;49m\u001b[43mkwargs\u001b[49m\u001b[43m)\u001b[49m\n\u001b[0;32m    972\u001b[0m \u001b[38;5;28;01mexcept\u001b[39;00m JSONDecodeError \u001b[38;5;28;01mas\u001b[39;00m e:\n\u001b[0;32m    973\u001b[0m     \u001b[38;5;66;03m# Catch JSON-related errors and raise as requests.JSONDecodeError\u001b[39;00m\n\u001b[0;32m    974\u001b[0m     \u001b[38;5;66;03m# This aliases json.JSONDecodeError and simplejson.JSONDecodeError\u001b[39;00m\n",
      "File \u001b[1;32m~\\AppData\\Local\\anaconda3\\envs\\gaia\\Lib\\json\\__init__.py:346\u001b[0m, in \u001b[0;36mloads\u001b[1;34m(s, cls, object_hook, parse_float, parse_int, parse_constant, object_pairs_hook, **kw)\u001b[0m\n\u001b[0;32m    343\u001b[0m \u001b[38;5;28;01mif\u001b[39;00m (\u001b[38;5;28mcls\u001b[39m \u001b[38;5;129;01mis\u001b[39;00m \u001b[38;5;28;01mNone\u001b[39;00m \u001b[38;5;129;01mand\u001b[39;00m object_hook \u001b[38;5;129;01mis\u001b[39;00m \u001b[38;5;28;01mNone\u001b[39;00m \u001b[38;5;129;01mand\u001b[39;00m\n\u001b[0;32m    344\u001b[0m         parse_int \u001b[38;5;129;01mis\u001b[39;00m \u001b[38;5;28;01mNone\u001b[39;00m \u001b[38;5;129;01mand\u001b[39;00m parse_float \u001b[38;5;129;01mis\u001b[39;00m \u001b[38;5;28;01mNone\u001b[39;00m \u001b[38;5;129;01mand\u001b[39;00m\n\u001b[0;32m    345\u001b[0m         parse_constant \u001b[38;5;129;01mis\u001b[39;00m \u001b[38;5;28;01mNone\u001b[39;00m \u001b[38;5;129;01mand\u001b[39;00m object_pairs_hook \u001b[38;5;129;01mis\u001b[39;00m \u001b[38;5;28;01mNone\u001b[39;00m \u001b[38;5;129;01mand\u001b[39;00m \u001b[38;5;129;01mnot\u001b[39;00m kw):\n\u001b[1;32m--> 346\u001b[0m     \u001b[38;5;28;01mreturn\u001b[39;00m \u001b[43m_default_decoder\u001b[49m\u001b[38;5;241;43m.\u001b[39;49m\u001b[43mdecode\u001b[49m\u001b[43m(\u001b[49m\u001b[43ms\u001b[49m\u001b[43m)\u001b[49m\n\u001b[0;32m    347\u001b[0m \u001b[38;5;28;01mif\u001b[39;00m \u001b[38;5;28mcls\u001b[39m \u001b[38;5;129;01mis\u001b[39;00m \u001b[38;5;28;01mNone\u001b[39;00m:\n",
      "File \u001b[1;32m~\\AppData\\Local\\anaconda3\\envs\\gaia\\Lib\\json\\decoder.py:337\u001b[0m, in \u001b[0;36mJSONDecoder.decode\u001b[1;34m(self, s, _w)\u001b[0m\n\u001b[0;32m    333\u001b[0m \u001b[38;5;250m\u001b[39m\u001b[38;5;124;03m\"\"\"Return the Python representation of ``s`` (a ``str`` instance\u001b[39;00m\n\u001b[0;32m    334\u001b[0m \u001b[38;5;124;03mcontaining a JSON document).\u001b[39;00m\n\u001b[0;32m    335\u001b[0m \n\u001b[0;32m    336\u001b[0m \u001b[38;5;124;03m\"\"\"\u001b[39;00m\n\u001b[1;32m--> 337\u001b[0m obj, end \u001b[38;5;241m=\u001b[39m \u001b[38;5;28;43mself\u001b[39;49m\u001b[38;5;241;43m.\u001b[39;49m\u001b[43mraw_decode\u001b[49m\u001b[43m(\u001b[49m\u001b[43ms\u001b[49m\u001b[43m,\u001b[49m\u001b[43m \u001b[49m\u001b[43midx\u001b[49m\u001b[38;5;241;43m=\u001b[39;49m\u001b[43m_w\u001b[49m\u001b[43m(\u001b[49m\u001b[43ms\u001b[49m\u001b[43m,\u001b[49m\u001b[43m \u001b[49m\u001b[38;5;241;43m0\u001b[39;49m\u001b[43m)\u001b[49m\u001b[38;5;241;43m.\u001b[39;49m\u001b[43mend\u001b[49m\u001b[43m(\u001b[49m\u001b[43m)\u001b[49m\u001b[43m)\u001b[49m\n\u001b[0;32m    338\u001b[0m end \u001b[38;5;241m=\u001b[39m _w(s, end)\u001b[38;5;241m.\u001b[39mend()\n",
      "File \u001b[1;32m~\\AppData\\Local\\anaconda3\\envs\\gaia\\Lib\\json\\decoder.py:355\u001b[0m, in \u001b[0;36mJSONDecoder.raw_decode\u001b[1;34m(self, s, idx)\u001b[0m\n\u001b[0;32m    354\u001b[0m \u001b[38;5;28;01mexcept\u001b[39;00m \u001b[38;5;167;01mStopIteration\u001b[39;00m \u001b[38;5;28;01mas\u001b[39;00m err:\n\u001b[1;32m--> 355\u001b[0m     \u001b[38;5;28;01mraise\u001b[39;00m JSONDecodeError(\u001b[38;5;124m\"\u001b[39m\u001b[38;5;124mExpecting value\u001b[39m\u001b[38;5;124m\"\u001b[39m, s, err\u001b[38;5;241m.\u001b[39mvalue) \u001b[38;5;28;01mfrom\u001b[39;00m \u001b[38;5;28;01mNone\u001b[39;00m\n\u001b[0;32m    356\u001b[0m \u001b[38;5;28;01mreturn\u001b[39;00m obj, end\n",
      "\u001b[1;31mJSONDecodeError\u001b[0m: Expecting value: line 1 column 1 (char 0)",
      "\nDuring handling of the above exception, another exception occurred:\n",
      "\u001b[1;31mJSONDecodeError\u001b[0m                           Traceback (most recent call last)",
      "Cell \u001b[1;32mIn[4], line 2\u001b[0m\n\u001b[0;32m      1\u001b[0m session \u001b[38;5;241m=\u001b[39m requests\u001b[38;5;241m.\u001b[39mSession()\n\u001b[1;32m----> 2\u001b[0m session \u001b[38;5;241m=\u001b[39m \u001b[43msecurity\u001b[49m\u001b[38;5;241;43m.\u001b[39;49m\u001b[43mee_login\u001b[49m\u001b[43m(\u001b[49m\u001b[43msession\u001b[49m\u001b[43m)\u001b[49m\n",
      "File \u001b[1;32mc:\\gis\\gaia\\tools\\database\\update\\../..\\ee\\security.py:28\u001b[0m, in \u001b[0;36mee_login\u001b[1;34m(session)\u001b[0m\n\u001b[0;32m     25\u001b[0m url \u001b[38;5;241m=\u001b[39m \u001b[38;5;124m\"\u001b[39m\u001b[38;5;124mhttps://m2m.cr.usgs.gov/api/api/json/stable/login\u001b[39m\u001b[38;5;124m\"\u001b[39m\n\u001b[0;32m     27\u001b[0m r \u001b[38;5;241m=\u001b[39m session\u001b[38;5;241m.\u001b[39mpost(url, json\u001b[38;5;241m.\u001b[39mdumps(payload))\n\u001b[1;32m---> 28\u001b[0m session\u001b[38;5;241m.\u001b[39mheaders[\u001b[38;5;124m\"\u001b[39m\u001b[38;5;124mX-Auth-Token\u001b[39m\u001b[38;5;124m\"\u001b[39m] \u001b[38;5;241m=\u001b[39m \u001b[43mr\u001b[49m\u001b[38;5;241;43m.\u001b[39;49m\u001b[43mjson\u001b[49m\u001b[43m(\u001b[49m\u001b[43m)\u001b[49m\u001b[38;5;241m.\u001b[39mget(\u001b[38;5;124m\"\u001b[39m\u001b[38;5;124mdata\u001b[39m\u001b[38;5;124m\"\u001b[39m)\n\u001b[0;32m     30\u001b[0m \u001b[38;5;28;01mreturn\u001b[39;00m session\n",
      "File \u001b[1;32m~\\AppData\\Local\\anaconda3\\envs\\gaia\\Lib\\site-packages\\requests\\models.py:975\u001b[0m, in \u001b[0;36mResponse.json\u001b[1;34m(self, **kwargs)\u001b[0m\n\u001b[0;32m    971\u001b[0m     \u001b[38;5;28;01mreturn\u001b[39;00m complexjson\u001b[38;5;241m.\u001b[39mloads(\u001b[38;5;28mself\u001b[39m\u001b[38;5;241m.\u001b[39mtext, \u001b[38;5;241m*\u001b[39m\u001b[38;5;241m*\u001b[39mkwargs)\n\u001b[0;32m    972\u001b[0m \u001b[38;5;28;01mexcept\u001b[39;00m JSONDecodeError \u001b[38;5;28;01mas\u001b[39;00m e:\n\u001b[0;32m    973\u001b[0m     \u001b[38;5;66;03m# Catch JSON-related errors and raise as requests.JSONDecodeError\u001b[39;00m\n\u001b[0;32m    974\u001b[0m     \u001b[38;5;66;03m# This aliases json.JSONDecodeError and simplejson.JSONDecodeError\u001b[39;00m\n\u001b[1;32m--> 975\u001b[0m     \u001b[38;5;28;01mraise\u001b[39;00m RequestsJSONDecodeError(e\u001b[38;5;241m.\u001b[39mmsg, e\u001b[38;5;241m.\u001b[39mdoc, e\u001b[38;5;241m.\u001b[39mpos)\n",
      "\u001b[1;31mJSONDecodeError\u001b[0m: Expecting value: line 1 column 1 (char 0)"
     ]
    }
   ],
   "source": [
    "session = requests.Session()\n",
    "session = security.ee_login(session)"
   ]
  },
  {
   "cell_type": "markdown",
   "id": "80bd4170-7625-4d56-92c6-852311ca9b89",
   "metadata": {},
   "source": [
    "### Retreve the Area of Interest record from the `aoi` table corresponding to the supplied DAR ID"
   ]
  },
  {
   "cell_type": "code",
   "execution_count": null,
   "id": "c4b086c2-98ab-4fb1-9fe2-a9806d36c1f3",
   "metadata": {},
   "outputs": [],
   "source": [
    "gdf_aoi = functions.get_aoi(db, dar_id)\n",
    "gdf_aoi"
   ]
  },
  {
   "cell_type": "markdown",
   "id": "f598ab56-fa54-4459-bb62-f29f53ef495b",
   "metadata": {},
   "source": [
    "### Create the querying payload for EarthExplorer"
   ]
  },
  {
   "cell_type": "code",
   "execution_count": null,
   "id": "adf95b89-4817-4a5c-86d2-5ccd0242c3e1",
   "metadata": {},
   "outputs": [],
   "source": [
    "# This needs to be handled by search.GEOJSON_FOR_EE\n",
    "gdf_json = json.loads(gdf_aoi['geometry'].to_json())['features'][0]['geometry']\n",
    "\n",
    "payload = {}\n",
    "\n",
    "data_filter = search.build_scene_filter(\n",
    "    acquisition = search.build_acqusition_filter(start_date, end_date),\n",
    "    spatial = search.build_spatial_filter(gdf_json),\n",
    "    cloud = search.build_cloud_cover_filter()\n",
    ")\n",
    "\n",
    "max_results = 1_000\n",
    "\n",
    "params = {\"datasetName\": datasetName,\n",
    "          \"sceneFilter\": data_filter,\n",
    "          \"maxResults\": max_results,\n",
    "          \"metadataType\": \"full\",}\n",
    "\n",
    "data = json.dumps(params)\n",
    "\n",
    "data"
   ]
  },
  {
   "cell_type": "markdown",
   "id": "13b1161e-973d-470c-a10f-1adb0de847e1",
   "metadata": {},
   "source": [
    "### Query EarthExplorer for data"
   ]
  },
  {
   "cell_type": "code",
   "execution_count": null,
   "id": "3a094736-2830-421c-a7d9-f4f6c88472f3",
   "metadata": {},
   "outputs": [],
   "source": [
    "url = \"https://m2m.cr.usgs.gov/api/api/json/stable/scene-search\"\n",
    "\n",
    "results = session.get(url=url, data=data)\n",
    "print(results.status_code)\n",
    "\n",
    "results.json()"
   ]
  },
  {
   "cell_type": "markdown",
   "id": "4ed607c9-81fb-4eb8-a21c-1e95879a6633",
   "metadata": {},
   "source": [
    "### Create a GeoDataFrame from query results"
   ]
  },
  {
   "cell_type": "code",
   "execution_count": null,
   "id": "70b52fa9-4eb6-4310-9335-a386b35768c5",
   "metadata": {},
   "outputs": [],
   "source": [
    "gdf = functions.gdf_from_ee(results, dar_id)\n",
    "print(gdf.shape)\n",
    "gdf.head()"
   ]
  },
  {
   "cell_type": "markdown",
   "id": "9d7b9988-6850-44d6-b96d-c61e43666f42",
   "metadata": {},
   "source": [
    "### Insert EarthExplorer Entity IDs into `ee` table"
   ]
  },
  {
   "cell_type": "code",
   "execution_count": null,
   "id": "d2fefc52-17eb-4f76-a320-664c31944de2",
   "metadata": {},
   "outputs": [],
   "source": [
    "functions.insert_pk(db, 'ee', gdf)"
   ]
  },
  {
   "cell_type": "markdown",
   "id": "a02fc78b-3f16-4148-bf13-04408da3b773",
   "metadata": {},
   "source": [
    "### Update `ee` records from EarthExplorer results"
   ]
  },
  {
   "cell_type": "code",
   "execution_count": null,
   "id": "f3cbff7f-c7a2-4995-b284-c98f874f5fe1",
   "metadata": {},
   "outputs": [],
   "source": [
    "columns = gdf.columns[1:]\n",
    "for i, row in gdf.iterrows():\n",
    "    eid = row['entity_id']\n",
    "    print(\"Updating information for Entity ID: {}\".format(eid))\n",
    "    for column in columns:\n",
    "        functions.database_activity(db, 'ee', eid, column, row[column])"
   ]
  },
  {
   "cell_type": "markdown",
   "id": "45be1bff-0493-4240-a8dd-ea16b7cfe009",
   "metadata": {},
   "source": [
    "### Select newly inserted AOIs, make a GeoDataFrame for validation"
   ]
  },
  {
   "cell_type": "code",
   "execution_count": null,
   "id": "01ab097e-9e2a-4fee-a4a1-4e91c9f0cfaf",
   "metadata": {},
   "outputs": [],
   "source": [
    "gdf = functions.validate_updates(db, 'ee', gdf, dar_id)\n",
    "# Note that the GDF shape matches that from the above\n",
    "print(gdf.shape)\n",
    "gdf.head()\n",
    "\n",
    "# conn = sqlite3.connect(db)\n",
    "# conn.enable_load_extension(True)\n",
    "# conn.execute(\"SELECT load_extension('mod_spatialite')\")\n",
    "\n",
    "# columns_list = list(gdf.columns[:-1])\n",
    "# columns_str = ', '.join(columns_list)\n",
    "# sql_string = \"SELECT {}, AsText(bounds) FROM ee WHERE vendor IS NOT NULL AND dar_id = {}\".format(columns_str, dar_id)\n",
    "\n",
    "# df = pd.read_sql_query(sql_string, conn)\n",
    "# df = df.rename(columns={'AsText(bounds)': 'geometry'}, errors='raise')\n",
    "# df['geometry'] = shapely.wkt.loads(df['geometry'])\n",
    "# gdf = gpd.GeoDataFrame(df, geometry='geometry')\n",
    "\n",
    "# conn.commit()\n",
    "# conn.close()\n",
    "\n",
    "# # Note that the GDF shape matches that from the above\n",
    "# print(gdf.shape)\n",
    "# gdf.head()"
   ]
  },
  {
   "cell_type": "markdown",
   "id": "cac6ad2c-f7ab-4bd3-b5ca-31af2d50a910",
   "metadata": {},
   "source": [
    "### Plot Areas of Interest on an Interactive Map"
   ]
  },
  {
   "cell_type": "code",
   "execution_count": null,
   "id": "a9d52d17-ab19-444b-9f44-76699b9e835a",
   "metadata": {},
   "outputs": [],
   "source": [
    "mp = functions.quick_map(gdf, gdf_json)\n",
    "mp"
   ]
  },
  {
   "cell_type": "markdown",
   "id": "ec88653f-32e9-47bf-840c-57affb4cc543",
   "metadata": {},
   "source": [
    "# End"
   ]
  }
 ],
 "metadata": {
  "kernelspec": {
   "display_name": "Python [conda env:gaia] *",
   "language": "python",
   "name": "conda-env-gaia-py"
  },
  "language_info": {
   "codemirror_mode": {
    "name": "ipython",
    "version": 3
   },
   "file_extension": ".py",
   "mimetype": "text/x-python",
   "name": "python",
   "nbconvert_exporter": "python",
   "pygments_lexer": "ipython3",
   "version": "3.11.6"
  }
 },
 "nbformat": 4,
 "nbformat_minor": 5
}
