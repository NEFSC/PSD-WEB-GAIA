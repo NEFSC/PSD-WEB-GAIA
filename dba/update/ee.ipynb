{
 "cells": [
  {
   "cell_type": "markdown",
   "id": "02db7fc6-6aed-4ff7-a78e-2c89581d88db",
   "metadata": {},
   "source": [
    "# Update (EE)\n",
    "Using an Area of Interest (AOI) from the `aoi` SQLite Database, queries the EarthExplorer API for data over a given time period, updates the `ee` table from these results, and then populates the table with these values. Other notebooks should be used for adding additional records to the table.\n",
    "\n",
    "### Import libraries"
   ]
  },
  {
   "cell_type": "code",
   "execution_count": null,
   "id": "0a44281f-4592-40a0-b263-7d6787458f11",
   "metadata": {},
   "outputs": [],
   "source": [
    "# Basic stack\n",
    "from datetime import datetime\n",
    "\n",
    "# Web Stack\n",
    "import json\n",
    "import requests\n",
    "\n",
    "# Database stack\n",
    "import sqlite3\n",
    "\n",
    "# Data Science stack\n",
    "import shapely\n",
    "from shapely.geometry import Polygon\n",
    "import pandas as pd\n",
    "import geopandas as gpd\n",
    "import folium\n",
    "\n",
    "# Custom stack\n",
    "import sys; sys.path.append(\"../../\")\n",
    "from SDB import utilities\n",
    "from EE import security, search"
   ]
  },
  {
   "cell_type": "markdown",
   "id": "a50cf2a9-00e2-4a5b-bf80-02e702fa7f01",
   "metadata": {},
   "source": [
    "### User defined variables\n",
    "Some dataset options are:\n",
    "- crssp_orderable_wv\n",
    "- crssp_orderable_w2\n",
    "- crssp_orderable_w3"
   ]
  },
  {
   "cell_type": "code",
   "execution_count": null,
   "id": "04e956f8-7592-473a-a724-174709312219",
   "metadata": {},
   "outputs": [],
   "source": [
    "dar_id = '6'\n",
    "datasetName = 'crssp_orderable_w3'\n",
    "start_date = '2009-10-08'\n",
    "end_date = '2024-05-31'\n",
    "db = \"C:/gis/gaia/data/databases/gaia.db\""
   ]
  },
  {
   "cell_type": "markdown",
   "id": "4571c781-0bad-48c5-b56a-2ee3b6477150",
   "metadata": {},
   "source": [
    "### Log-in to EarthExplorer\n",
    "Hint: !"
   ]
  },
  {
   "cell_type": "code",
   "execution_count": null,
   "id": "20deecd6-3e04-4587-a79b-5a7623ef74ff",
   "metadata": {},
   "outputs": [],
   "source": [
    "session = requests.Session()\n",
    "session = security.ee_login(session)"
   ]
  },
  {
   "cell_type": "markdown",
   "id": "80bd4170-7625-4d56-92c6-852311ca9b89",
   "metadata": {},
   "source": [
    "### Retreve the Area of Interest record from the `aoi` table corresponding to the supplied DAR ID"
   ]
  },
  {
   "cell_type": "code",
   "execution_count": null,
   "id": "c4b086c2-98ab-4fb1-9fe2-a9806d36c1f3",
   "metadata": {},
   "outputs": [],
   "source": [
    "gdf_aoi = functions.get_aoi(db, dar_id)\n",
    "gdf_aoi"
   ]
  },
  {
   "cell_type": "markdown",
   "id": "f598ab56-fa54-4459-bb62-f29f53ef495b",
   "metadata": {},
   "source": [
    "### Create the querying payload for EarthExplorer"
   ]
  },
  {
   "cell_type": "code",
   "execution_count": null,
   "id": "adf95b89-4817-4a5c-86d2-5ccd0242c3e1",
   "metadata": {},
   "outputs": [],
   "source": [
    "# This needs to be handled by search.GEOJSON_FOR_EE\n",
    "gdf_json = json.loads(gdf_aoi['geometry'].to_json())['features'][0]['geometry']\n",
    "\n",
    "payload = {}\n",
    "\n",
    "data_filter = search.build_scene_filter(\n",
    "    acquisition = search.build_acqusition_filter(start_date, end_date),\n",
    "    spatial = search.build_spatial_filter(gdf_json),\n",
    "    cloud = search.build_cloud_cover_filter()\n",
    ")\n",
    "\n",
    "max_results = 10_000\n",
    "\n",
    "params = {\"datasetName\": datasetName,\n",
    "          \"sceneFilter\": data_filter,\n",
    "          \"maxResults\": max_results,\n",
    "          \"metadataType\": \"full\",}\n",
    "\n",
    "data = json.dumps(params)\n",
    "\n",
    "data"
   ]
  },
  {
   "cell_type": "markdown",
   "id": "13b1161e-973d-470c-a10f-1adb0de847e1",
   "metadata": {},
   "source": [
    "### Query EarthExplorer for data"
   ]
  },
  {
   "cell_type": "code",
   "execution_count": null,
   "id": "3a094736-2830-421c-a7d9-f4f6c88472f3",
   "metadata": {
    "scrolled": true
   },
   "outputs": [],
   "source": [
    "url = \"https://m2m.cr.usgs.gov/api/api/json/stable/scene-search\"\n",
    "\n",
    "results = session.get(url=url, data=data)\n",
    "print(results.status_code)\n",
    "\n",
    "results.json()"
   ]
  },
  {
   "cell_type": "markdown",
   "id": "4ed607c9-81fb-4eb8-a21c-1e95879a6633",
   "metadata": {},
   "source": [
    "### Create a GeoDataFrame from query results"
   ]
  },
  {
   "cell_type": "code",
   "execution_count": null,
   "id": "70b52fa9-4eb6-4310-9335-a386b35768c5",
   "metadata": {},
   "outputs": [],
   "source": [
    "gdf = functions.gdf_from_ee(results, dar_id)\n",
    "print(gdf.shape)\n",
    "gdf.head()"
   ]
  },
  {
   "cell_type": "markdown",
   "id": "9d7b9988-6850-44d6-b96d-c61e43666f42",
   "metadata": {},
   "source": [
    "### Insert EarthExplorer Entity IDs into `ee` table"
   ]
  },
  {
   "cell_type": "code",
   "execution_count": null,
   "id": "d2fefc52-17eb-4f76-a320-664c31944de2",
   "metadata": {},
   "outputs": [],
   "source": [
    "functions.insert_pk(db, 'ee', gdf)"
   ]
  },
  {
   "cell_type": "markdown",
   "id": "a02fc78b-3f16-4148-bf13-04408da3b773",
   "metadata": {},
   "source": [
    "### Update `ee` records from EarthExplorer results"
   ]
  },
  {
   "cell_type": "code",
   "execution_count": null,
   "id": "7e7986a1-363e-4379-889b-27ada346dca0",
   "metadata": {},
   "outputs": [],
   "source": [
    "gdf[gdf['entity_id'] == 'WV320240527205854M00']"
   ]
  },
  {
   "cell_type": "code",
   "execution_count": null,
   "id": "f3cbff7f-c7a2-4995-b284-c98f874f5fe1",
   "metadata": {
    "scrolled": true
   },
   "outputs": [],
   "source": [
    "columns = gdf.columns[1:]\n",
    "for i, row in gdf.iterrows():\n",
    "    eid = row['entity_id']\n",
    "    # print(\"Updating information for Entity ID: {}\".format(eid))\n",
    "    for column in columns:\n",
    "        if row[column] is None:\n",
    "            print(\"\\tSkipping updating {} with value {} since it's None\".format(column, row[column]))\n",
    "        else:\n",
    "            # print(\"EID: {}; COLUMNS: {}; DATA: {}\".format(eid, column, row[column]))\n",
    "            functions.database_activity(db, 'ee', eid, column, row[column])"
   ]
  },
  {
   "cell_type": "markdown",
   "id": "45be1bff-0493-4240-a8dd-ea16b7cfe009",
   "metadata": {},
   "source": [
    "### Select newly inserted AOIs, make a GeoDataFrame for validation"
   ]
  },
  {
   "cell_type": "code",
   "execution_count": null,
   "id": "01ab097e-9e2a-4fee-a4a1-4e91c9f0cfaf",
   "metadata": {},
   "outputs": [],
   "source": [
    "gdf = functions.validate_updates(db, 'ee', gdf, dar_id)\n",
    "# Note that the GDF shape matches that from the above\n",
    "print(gdf.shape)\n",
    "gdf.head()\n",
    "\n",
    "conn = sqlite3.connect(db)\n",
    "conn.enable_load_extension(True)\n",
    "conn.execute(\"SELECT load_extension('mod_spatialite')\")\n",
    "\n",
    "columns_list = list(gdf.columns[:-1])\n",
    "columns_str = ', '.join(columns_list)\n",
    "sql_string = \"SELECT {}, AsText(bounds) FROM ee WHERE vendor IS NOT NULL AND aoi_id = {}\".format(columns_str, dar_id)\n",
    "\n",
    "df = pd.read_sql_query(sql_string, conn)\n",
    "df = df.rename(columns={'AsText(bounds)': 'geometry'}, errors='raise')\n",
    "df['geometry'] = shapely.wkt.loads(df['geometry'])\n",
    "gdf = gpd.GeoDataFrame(df, geometry='geometry')\n",
    "\n",
    "conn.commit()\n",
    "conn.close()\n",
    "\n",
    "# Note that the GDF shape matches that from the above\n",
    "print(gdf.shape)\n",
    "gdf.head()"
   ]
  },
  {
   "cell_type": "markdown",
   "id": "cac6ad2c-f7ab-4bd3-b5ca-31af2d50a910",
   "metadata": {},
   "source": [
    "### Plot Areas of Interest on an Interactive Map"
   ]
  },
  {
   "cell_type": "code",
   "execution_count": null,
   "id": "a9d52d17-ab19-444b-9f44-76699b9e835a",
   "metadata": {},
   "outputs": [],
   "source": [
    "mp = functions.quick_map(gdf, gdf_json)\n",
    "mp"
   ]
  },
  {
   "cell_type": "markdown",
   "id": "ec88653f-32e9-47bf-840c-57affb4cc543",
   "metadata": {},
   "source": [
    "# End"
   ]
  }
 ],
 "metadata": {
  "kernelspec": {
   "display_name": "Python 3 (ipykernel)",
   "language": "python",
   "name": "python3"
  },
  "language_info": {
   "codemirror_mode": {
    "name": "ipython",
    "version": 3
   },
   "file_extension": ".py",
   "mimetype": "text/x-python",
   "name": "python",
   "nbconvert_exporter": "python",
   "pygments_lexer": "ipython3",
   "version": "3.12.8"
  }
 },
 "nbformat": 4,
 "nbformat_minor": 5
}
