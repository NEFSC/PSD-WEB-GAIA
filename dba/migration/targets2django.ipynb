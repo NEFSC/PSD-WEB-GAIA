{
 "cells": [
  {
   "cell_type": "markdown",
   "id": "b8e72cc3-3333-4eed-9640-cf7210e995e4",
   "metadata": {},
   "source": [
    "# Targets to Django\n",
    "Import SpatiaLite records to a GeoDjango database\n",
    "\n",
    "### Import libraries, define settings, import model"
   ]
  },
  {
   "cell_type": "code",
   "execution_count": 1,
   "id": "eac3be0c-ef5b-4c1c-b1f8-aba209039f2e",
   "metadata": {
    "scrolled": true
   },
   "outputs": [],
   "source": [
    "import os\n",
    "import django\n",
    "import pandas as pd\n",
    "import asyncio\n",
    "from asgiref.sync import sync_to_async\n",
    "\n",
    "import sys; sys.path.append('../../')\n",
    "os.environ['DJANGO_SETTINGS_MODULE'] = 'gaia.settings'\n",
    "django.setup()\n",
    "\n",
    "from whale.models import Targets"
   ]
  },
  {
   "cell_type": "markdown",
   "id": "cbbffcc9-c27e-46a8-91e5-04a1284a93bd",
   "metadata": {},
   "source": [
    "### User defined variables"
   ]
  },
  {
   "cell_type": "code",
   "execution_count": 2,
   "id": "117a46d9-c6f6-41ba-a66f-ab679447ae97",
   "metadata": {},
   "outputs": [],
   "source": [
    "targets = \"C:/gis/gaia/data/databases/targets.xlsx\""
   ]
  },
  {
   "cell_type": "markdown",
   "id": "69d0fe36-2401-426e-852f-7cdb069a0105",
   "metadata": {},
   "source": [
    "### Insert to database"
   ]
  },
  {
   "cell_type": "code",
   "execution_count": 3,
   "id": "b9cad0d3-e407-41b4-9145-a250a0103841",
   "metadata": {},
   "outputs": [
    {
     "name": "stdout",
     "output_type": "stream",
     "text": [
      "Data imported successfully\n"
     ]
    }
   ],
   "source": [
    "async def import_taskings(file_path):\n",
    "    df = await sync_to_async(pd.read_excel)(file_path)\n",
    "\n",
    "    imagery_tasking = [\n",
    "        Targets(\n",
    "            target = row['target'],\n",
    "            scientific_name = row['scientific_name']\n",
    "        )\n",
    "        for index, row in df.iterrows()\n",
    "    ]\n",
    "\n",
    "    await sync_to_async(Targets.objects.bulk_create)(imagery_tasking)\n",
    "\n",
    "    print('Data imported successfully')\n",
    "\n",
    "await import_taskings(targets)"
   ]
  },
  {
   "cell_type": "markdown",
   "id": "9d763827-dc52-4fcd-8380-e3ab5d28c45a",
   "metadata": {},
   "source": [
    "# End"
   ]
  }
 ],
 "metadata": {
  "kernelspec": {
   "display_name": "Python [conda env:gaia] *",
   "language": "python",
   "name": "conda-env-gaia-py"
  },
  "language_info": {
   "codemirror_mode": {
    "name": "ipython",
    "version": 3
   },
   "file_extension": ".py",
   "mimetype": "text/x-python",
   "name": "python",
   "nbconvert_exporter": "python",
   "pygments_lexer": "ipython3",
   "version": "3.11.6"
  }
 },
 "nbformat": 4,
 "nbformat_minor": 5
}
