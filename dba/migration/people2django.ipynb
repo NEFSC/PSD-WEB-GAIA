{
 "cells": [
  {
   "cell_type": "markdown",
   "id": "b8e72cc3-3333-4eed-9640-cf7210e995e4",
   "metadata": {},
   "source": [
    "# People to Django\n",
    "Import SpatiaLite records to a GeoDjango database\n",
    "\n",
    "### Import libraries, define settings, import model"
   ]
  },
  {
   "cell_type": "code",
   "execution_count": 1,
   "id": "eac3be0c-ef5b-4c1c-b1f8-aba209039f2e",
   "metadata": {
    "scrolled": true
   },
   "outputs": [],
   "source": [
    "import os\n",
    "import django\n",
    "from django.db import transaction\n",
    "from django.contrib.gis.geos import GEOSGeometry\n",
    "import sqlite3\n",
    "from asgiref.sync import sync_to_async\n",
    "\n",
    "import sys; sys.path.append('../../')\n",
    "os.environ['DJANGO_SETTINGS_MODULE'] = 'gaia.settings'\n",
    "django.setup()\n",
    "\n",
    "from whale.models import People"
   ]
  },
  {
   "cell_type": "markdown",
   "id": "cbbffcc9-c27e-46a8-91e5-04a1284a93bd",
   "metadata": {},
   "source": [
    "### User defined variables"
   ]
  },
  {
   "cell_type": "code",
   "execution_count": 2,
   "id": "117a46d9-c6f6-41ba-a66f-ab679447ae97",
   "metadata": {},
   "outputs": [],
   "source": [
    "sdb = \"C:/gis/gaia/data/databases/gaia.db\""
   ]
  },
  {
   "cell_type": "markdown",
   "id": "69d0fe36-2401-426e-852f-7cdb069a0105",
   "metadata": {},
   "source": [
    "### Perform async insertion to database"
   ]
  },
  {
   "cell_type": "code",
   "execution_count": 3,
   "id": "3cb4d29d-1ecd-45cf-a233-0f32b769a742",
   "metadata": {},
   "outputs": [],
   "source": [
    "@sync_to_async\n",
    "def insert_people(id, name, email, organization, sub_organization, location):\n",
    "    \"\"\" Insert People into the GeoDjango database\"\"\"\n",
    "    People.objects.create(\n",
    "        id = id,\n",
    "        name = name,\n",
    "        email = email,\n",
    "        organization = organization,\n",
    "        sub_organization = sub_organization,\n",
    "        location = location\n",
    "    )\n",
    "\n",
    "async def load_spatialite_data():\n",
    "    \"\"\" Connect to original SpatiaLite Database, select all records\n",
    "            call insert function in sync_to_async mode.\n",
    "    \"\"\"\n",
    "    conn = sqlite3.connect(sdb)\n",
    "    conn.enable_load_extension(True)\n",
    "    conn.execute(\"SELECT load_extension('mod_spatialite')\")\n",
    "    cursor = conn.cursor()\n",
    "\n",
    "    cursor.execute(\"SELECT id, name, email, organization, sub_organization, location from people\")\n",
    "\n",
    "    for row in cursor.fetchall():\n",
    "        id, name, email, organization, sub_organization, location = row\n",
    "        await insert_people(id, name, email, organization, sub_organization, location)\n",
    "\n",
    "    conn.close()\n",
    "\n",
    "await load_spatialite_data()"
   ]
  },
  {
   "cell_type": "markdown",
   "id": "9d763827-dc52-4fcd-8380-e3ab5d28c45a",
   "metadata": {},
   "source": [
    "# End"
   ]
  }
 ],
 "metadata": {
  "kernelspec": {
   "display_name": "Python [conda env:gaia] *",
   "language": "python",
   "name": "conda-env-gaia-py"
  },
  "language_info": {
   "codemirror_mode": {
    "name": "ipython",
    "version": 3
   },
   "file_extension": ".py",
   "mimetype": "text/x-python",
   "name": "python",
   "nbconvert_exporter": "python",
   "pygments_lexer": "ipython3",
   "version": "3.11.6"
  }
 },
 "nbformat": 4,
 "nbformat_minor": 5
}
