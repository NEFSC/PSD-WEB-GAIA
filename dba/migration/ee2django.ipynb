{
 "cells": [
  {
   "cell_type": "markdown",
   "id": "b8e72cc3-3333-4eed-9640-cf7210e995e4",
   "metadata": {},
   "source": [
    "# Areas of Interest to Django\n",
    "Import SpatiaLite records to a GeoDjango database\n",
    "\n",
    "### Import libraries, define settings, import model"
   ]
  },
  {
   "cell_type": "code",
   "execution_count": 1,
   "id": "eac3be0c-ef5b-4c1c-b1f8-aba209039f2e",
   "metadata": {
    "scrolled": true
   },
   "outputs": [],
   "source": [
    "import os\n",
    "import django\n",
    "from django.db import transaction\n",
    "from django.contrib.gis.geos import GEOSGeometry\n",
    "import sqlite3\n",
    "from asgiref.sync import sync_to_async\n",
    "\n",
    "import sys; sys.path.append('../../')\n",
    "os.environ['DJANGO_SETTINGS_MODULE'] = 'gaia.settings'\n",
    "django.setup()\n",
    "\n",
    "from whale.models import EarthExplorer as DjangoTable\n",
    "from whale.models import AreaOfInterest as ForeignDjangoTable"
   ]
  },
  {
   "cell_type": "markdown",
   "id": "cbbffcc9-c27e-46a8-91e5-04a1284a93bd",
   "metadata": {},
   "source": [
    "### User defined variables"
   ]
  },
  {
   "cell_type": "code",
   "execution_count": 2,
   "id": "117a46d9-c6f6-41ba-a66f-ab679447ae97",
   "metadata": {},
   "outputs": [],
   "source": [
    "sdb = \"C:/gis/gaia/data/databases/gaia.db\"\n",
    "sdb_table_name = \"ee\"\n",
    "geometry_col = 'bounds'"
   ]
  },
  {
   "cell_type": "markdown",
   "id": "69d0fe36-2401-426e-852f-7cdb069a0105",
   "metadata": {},
   "source": [
    "### Perform async insertion to database"
   ]
  },
  {
   "cell_type": "code",
   "execution_count": 5,
   "id": "3cb4d29d-1ecd-45cf-a233-0f32b769a742",
   "metadata": {},
   "outputs": [
    {
     "name": "stdout",
     "output_type": "stream",
     "text": [
      "PRAGMA table_info(ee);\n",
      "['entity_id', 'aoi_id', 'catalog_id', 'acquisition_date', 'vendor', 'vendor_id', 'cloud_cover', 'satellite', 'sensor', 'number_of_bands', 'map_projection', 'datum', 'processing_level', 'file_format', 'license_id', 'sun_azimuth', 'sun_elevation', 'pixel_size_x', 'pixel_size_y', 'license_uplift_update', 'event', 'event_date', 'date_entered', 'center_latitude_dec', 'center_longitude_dec', 'thumbnail', 'publish_date', 'bounds']\n",
      "['entity_id', 'aoi_id', 'catalog_id', 'acquisition_date', 'vendor', 'vendor_id', 'cloud_cover', 'satellite', 'sensor', 'number_of_bands', 'map_projection', 'datum', 'processing_level', 'file_format', 'license_id', 'sun_azimuth', 'sun_elevation', 'pixel_size_x', 'pixel_size_y', 'license_uplift_update', 'event', 'event_date', 'date_entered', 'center_latitude_dec', 'center_longitude_dec', 'thumbnail', 'publish_date', 'AsText(bounds) AS geometry_text']\n",
      "SELECT entity_id, aoi_id, catalog_id, acquisition_date, vendor, vendor_id, cloud_cover, satellite, sensor, number_of_bands, map_projection, datum, processing_level, file_format, license_id, sun_azimuth, sun_elevation, pixel_size_x, pixel_size_y, license_uplift_update, event, event_date, date_entered, center_latitude_dec, center_longitude_dec, thumbnail, publish_date, AsText(bounds) AS geometry_text FROM ee;\n"
     ]
    }
   ],
   "source": [
    "@sync_to_async\n",
    "def insert_data(**kwargs):\n",
    "    \"\"\" Insert Areas of Interest into the GeoDjango database\"\"\"\n",
    "    if 'geometry_text' in kwargs:\n",
    "        kwargs['geometry'] = GEOSGeometry(kwargs.pop('geometry_text'))\n",
    "    if 'aoi_id' in kwargs:\n",
    "        kwargs['aoi_id'] = ForeignDjangoTable.objects.get(id=kwargs.pop('aoi_id'))\n",
    "    \n",
    "    DjangoTable.objects.create(**kwargs)\n",
    "\n",
    "conn = sqlite3.connect(sdb)\n",
    "conn.enable_load_extension(True)\n",
    "conn.execute(\"SELECT load_extension('mod_spatialite')\")\n",
    "\n",
    "pragma_statement = f\"PRAGMA table_info({sdb_table_name});\"\n",
    "print(pragma_statement)\n",
    "cursor = conn.execute(pragma_statement)\n",
    "columns = [row[1] for row in cursor.fetchall()]\n",
    "print(columns)\n",
    "\n",
    "columns_with_geom = [\n",
    "    f\"AsText({geometry_col}) AS geometry_text\" if col == geometry_col else col\n",
    "    for col in columns\n",
    "]\n",
    "print(columns_with_geom)\n",
    "query = f\"SELECT {', '.join(columns_with_geom)} FROM {sdb_table_name};\"\n",
    "print(query)\n",
    "cursor.execute(query)\n",
    "rows = cursor.fetchall()\n",
    "\n",
    "conn.close()\n",
    "\n",
    "import asyncio\n",
    "\n",
    "async def commit_rows():\n",
    "    for row in rows:\n",
    "        data = dict(zip(columns, row))\n",
    "        await insert_data(**data)\n",
    "\n",
    "await commit_rows()"
   ]
  },
  {
   "cell_type": "markdown",
   "id": "9d763827-dc52-4fcd-8380-e3ab5d28c45a",
   "metadata": {},
   "source": [
    "# End"
   ]
  }
 ],
 "metadata": {
  "kernelspec": {
   "display_name": "Python [conda env:gaia] *",
   "language": "python",
   "name": "conda-env-gaia-py"
  },
  "language_info": {
   "codemirror_mode": {
    "name": "ipython",
    "version": 3
   },
   "file_extension": ".py",
   "mimetype": "text/x-python",
   "name": "python",
   "nbconvert_exporter": "python",
   "pygments_lexer": "ipython3",
   "version": "3.11.6"
  }
 },
 "nbformat": 4,
 "nbformat_minor": 5
}
